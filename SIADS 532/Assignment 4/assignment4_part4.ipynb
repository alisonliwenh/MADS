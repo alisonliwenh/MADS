{
 "cells": [
  {
   "cell_type": "code",
   "execution_count": null,
   "metadata": {
    "deletable": false,
    "editable": false,
    "nbgrader": {
     "checksum": "da4d1226ee5528f4965345339c219993",
     "grade": false,
     "grade_id": "cell-490533171bea2bb9",
     "locked": true,
     "schema_version": 1,
     "solution": false
    }
   },
   "outputs": [],
   "source": [
    "version = \"v2.4.031621\""
   ]
  },
  {
   "cell_type": "markdown",
   "metadata": {
    "deletable": false,
    "editable": false,
    "nbgrader": {
     "checksum": "f7942472644065415602c6b1ece034e5",
     "grade": false,
     "grade_id": "cell-5599af242e342483",
     "locked": true,
     "schema_version": 1,
     "solution": false
    }
   },
   "source": [
    "# Assignment 4: Mining Sequence Data (Part IV)\n",
    "\n",
    "## Application: Sequence Alignment\n",
    "\n",
    "When looking back at the year 2020, perhaps no one would forget the then rampant coronavirus disease, COVID-19, which had caused 14,366 deaths worldwide as of March 22, 2020. [One](https://www.nature.com/articles/s41586-020-2008-3) of the early papers published immediately after the outbreak claims that the coronavirus found in [humans](https://www.ncbi.nlm.nih.gov/nuccore/MN908947) is highly (96%) similar in genes to a particular coronavirus found in [bats](https://www.ncbi.nlm.nih.gov/nuccore/1802633852). Based on our previous (perhaps limited) exposure to biology, we know that a gene is a *sequence* of nucleotides that can be expressed in terms of four nucleobases, `A`, `T`, `G` and `C`. To identify similar genes can actually be cast as a *sequence alignment* problem. \n",
    "\n",
    "In this assignment, we will try to *roughly* verify the claim in the paper by calculating an \"alignment score\" between the human-hosted coronavirus genes and the bat-hosted coronavirus genes. "
   ]
  },
  {
   "cell_type": "markdown",
   "metadata": {
    "deletable": false,
    "editable": false,
    "nbgrader": {
     "checksum": "19eeec7cd2f9c9d4d0de2b848f5eb7c1",
     "grade": false,
     "grade_id": "cell-448f4373d8517524",
     "locked": true,
     "schema_version": 1,
     "solution": false
    }
   },
   "source": [
    "### Exercise 5. Sequence Alignment (10 pts)\n",
    "\n",
    "Complete the `seq_align` function to compute the alignment score between the human-hosted coronavirus genes and the bat-hosted coronavirus genes. Specifically, you should\n",
    "\n",
    "(1) read the two gene sequences from the two files provided and clean them as instructed, and\n",
    "\n",
    "(2) compute the alignment score **for the first 10,000 nucleobases** using the `pairwise2.align.globalxx` function from the `biopython` package. See its [documentation](https://biopython.org/DIST/docs/api/Bio.pairwise2-module.html) to understand how to calculate such a score. \n"
   ]
  },
  {
   "cell_type": "code",
   "execution_count": 2,
   "metadata": {},
   "outputs": [
    {
     "output_type": "stream",
     "name": "stdout",
     "text": [
      "Collecting Bio\n",
      "  Downloading bio-0.4.1-py3-none-any.whl (73 kB)\n",
      "Requirement already satisfied: requests in c:\\users\\huang\\appdata\\local\\programs\\python\\python39\\lib\\site-packages (from Bio) (2.25.1)\n",
      "Collecting numpy<1.20\n",
      "  Downloading numpy-1.19.5-cp39-cp39-win_amd64.whl (13.3 MB)\n",
      "Collecting biopython>=1.78\n",
      "  Downloading biopython-1.78.tar.gz (16.9 MB)\n",
      "Requirement already satisfied: chardet<5,>=3.0.2 in c:\\users\\huang\\appdata\\local\\programs\\python\\python39\\lib\\site-packages (from requests->Bio) (4.0.0)\n",
      "Requirement already satisfied: idna<3,>=2.5 in c:\\users\\huang\\appdata\\local\\programs\\python\\python39\\lib\\site-packages (from requests->Bio) (2.10)\n",
      "Requirement already satisfied: urllib3<1.27,>=1.21.1 in c:\\users\\huang\\appdata\\local\\programs\\python\\python39\\lib\\site-packages (from requests->Bio) (1.26.4)\n",
      "Requirement already satisfied: certifi>=2017.4.17 in c:\\users\\huang\\appdata\\local\\programs\\python\\python39\\lib\\site-packages (from requests->Bio) (2020.12.5)\n",
      "Building wheels for collected packages: biopython\n",
      "  Building wheel for biopython (setup.py): started\n",
      "  Building wheel for biopython (setup.py): finished with status 'done'\n",
      "  Created wheel for biopython: filename=biopython-1.78-cp39-cp39-win_amd64.whl size=2266120 sha256=55e0e37311ce56d8c80ba71a0f200fcc3da4f62c3ba991378d2f1966f322641e\n",
      "  Stored in directory: c:\\users\\huang\\appdata\\local\\pip\\cache\\wheels\\e1\\ec\\b2\\4609a82fd96fdafc83df0238d69eea90c1b7b7036f59683e17\n",
      "Successfully built biopython\n",
      "Installing collected packages: numpy, biopython, Bio\n",
      "  Attempting uninstall: numpy\n",
      "    Found existing installation: numpy 1.20.1\n",
      "    Uninstalling numpy-1.20.1:\n",
      "      Successfully uninstalled numpy-1.20.1\n",
      "Successfully installed Bio-0.4.1 biopython-1.78 numpy-1.19.5\n",
      "Note: you may need to restart the kernel to use updated packages.\n",
      "  WARNING: The script f2py.exe is installed in 'C:\\Users\\huang\\AppData\\Local\\Programs\\Python\\Python39\\Scripts' which is not on PATH.\n",
      "  Consider adding this directory to PATH or, if you prefer to suppress this warning, use --no-warn-script-location.\n",
      "  WARNING: The scripts bio.exe, comm.exe and uniq.exe are installed in 'C:\\Users\\huang\\AppData\\Local\\Programs\\Python\\Python39\\Scripts' which is not on PATH.\n",
      "  Consider adding this directory to PATH or, if you prefer to suppress this warning, use --no-warn-script-location.\n"
     ]
    }
   ],
   "source": [
    "pip install Bio"
   ]
  },
  {
   "cell_type": "code",
   "execution_count": 10,
   "metadata": {
    "deletable": false,
    "nbgrader": {
     "checksum": "90f7cf42f3138f90e40a679df0b63508",
     "grade": false,
     "grade_id": "cell-ddd6fd986082ffd1",
     "locked": false,
     "schema_version": 1,
     "solution": true
    }
   },
   "outputs": [],
   "source": [
    "from Bio import pairwise2\n",
    "\n",
    "def seq_align():\n",
    "    human_seq, bat_seq = None, None\n",
    "    \n",
    "    with open(\"assets/MN908947.3_human.txt\", \"r\") as human_genes:\n",
    "        \"\"\"\n",
    "        Read the human-hosted coronavirus gene sequence from a file \n",
    "        and store it in the variable 'human_seq' as a long string. \n",
    "        \n",
    "        * Remeber to strip off the newline character '\\n' at the end of each line. \n",
    "        * Also, skip the lines with only meta-data, for example:\n",
    "            >lcl|MN908947.3_gene_1 [gene=orf1ab] [location=266..21555] [gbkey=Gene]\n",
    "        \"\"\"\n",
    "        # YOUR CODE HERE\n",
    "        lines = human_genes.readlines()\n",
    "        lines = [line.strip(\"\\n\") for line in lines if line[0] in ['A','T','G','C']]\n",
    "        human_seq = ''.join(lines)\n",
    "        # raise NotImplementedError()\n",
    "\n",
    "    assert \"\\n\" not in human_seq, '[Exercise 5] Remember to remove the \"\\n\" character at the end of each line. '\n",
    "    assert \"[\" not in human_seq, \"[Exercise 5] Remember to remove lines with only meta-data. \"\n",
    "    assert len(human_seq) == 29132, \"[Exercise 5] The length of your human genes is not correct. \"\n",
    "\n",
    "    with open(\"assets/MN996532.1_bat.txt\", \"r\") as bat_genes:\n",
    "        \"\"\"\n",
    "        Read the bat-hosted coronavirus gene sequence from a file \n",
    "        and store it in the variable 'bat_seq' as a long string\n",
    "        \n",
    "        * Remeber to strip off the newline character '\\n' at the end of each line. \n",
    "        * Also, skip the lines with only meta-data, for example:\n",
    "            >lcl|MN908947.3_gene_1 [gene=orf1ab] [location=266..21555] [gbkey=Gene]\n",
    "        \"\"\"\n",
    "        # YOUR CODE HERE\n",
    "        lines = bat_genes.readlines()\n",
    "        lines = [line.strip(\"\\n\") for line in lines if line[0] in ['A','T','G','C']]\n",
    "        bat_seq = ''.join(lines)\n",
    "        # raise NotImplementedError()\n",
    "\n",
    "    assert \"\\n\" not in bat_seq, '[Exercise 5] Remember to remove the \"\\n\" character at the end of each line. '\n",
    "    assert \"[\" not in bat_seq, \"[Exercise 5] Remember to remove lines with only meta-data. \"\n",
    "    assert len(bat_seq) == 29129, \"[Exercise 5] The length of your bat genes is not correct. \"\n",
    "    \n",
    "    # Finally, take the first 10,000 nucleobases (i.e., ATGC) from each sequence and calculate the alignment score\n",
    "    score = 0.0\n",
    "    # YOUR CODE HERE\n",
    "    alig = pairwise2.align.globalxx(human_seq[:10000], bat_seq[:10000], score_only=True)\n",
    "    # raise NotImplementedError()\n",
    "    return alig"
   ]
  },
  {
   "cell_type": "code",
   "execution_count": 11,
   "metadata": {},
   "outputs": [
    {
     "output_type": "execute_result",
     "data": {
      "text/plain": [
       "9572.0"
      ]
     },
     "metadata": {},
     "execution_count": 11
    }
   ],
   "source": [
    "seq_align()"
   ]
  },
  {
   "cell_type": "code",
   "execution_count": 12,
   "metadata": {
    "deletable": false,
    "editable": false,
    "nbgrader": {
     "checksum": "95d5c45bf8c5b33ade186d97a6d49adf",
     "grade": true,
     "grade_id": "cell-6a85aa6fc8198106",
     "locked": true,
     "points": 10,
     "schema_version": 1,
     "solution": false
    }
   },
   "outputs": [],
   "source": [
    "# This code block tests if the `seq_align` function is implemented correctly\n",
    "# We hide some tests. Passing the displayed assertions does not guarantee full points.\n",
    "\n",
    "stu_ans = seq_align()\n",
    "\n",
    "assert isinstance(stu_ans, float), \"[Exercise 5] The alignment score should be a (float) number. \"\n",
    "assert stu_ans > 9000, \"[Exercise 5] The alignment score should be at least 9000. \"\n",
    "\n",
    "del stu_ans\n"
   ]
  },
  {
   "cell_type": "markdown",
   "metadata": {
    "deletable": false,
    "editable": false,
    "nbgrader": {
     "checksum": "05fe5db0e4d0cfce2c5de9760529ea3c",
     "grade": false,
     "grade_id": "cell-8d621b618ebed079",
     "locked": true,
     "schema_version": 1,
     "solution": false
    }
   },
   "source": [
    "Through this vary last assignment in this course, we hope you can see that data-mining techniques, sequence alignment for example, have useful practical applications. We did a rather simple example for pedagogy, but a more elaborate example using BLAST, a professional gene analysis tool, can be found [here](https://blast.ncbi.nlm.nih.gov/Blast.cgi?PAGE=MegaBlast&PROGRAM=blastn&BLAST_PROGRAMS=megaBlast&PAGE_TYPE=BlastSearch&BLAST_SPEC=blast2seq&DATABASE=n/a&QUERY=MN908947.3&SUBJECTS=MN996532.1). Click the \"BLAST\" button to see the report. \n",
    "\n",
    "Congratulations that you have finished all assignments of this course!  We wish you good luck in your next steps in the journey! "
   ]
  }
 ],
 "metadata": {
  "coursera": {
   "schema_names": [
    "mads_data_mining_i_v2_assignment4_part4"
   ]
  },
  "kernelspec": {
   "name": "python391jvsc74a57bd0111ec9d3badd4bdc5bb4c5104c9c1ec48cb8e627cdc8b194469614f2565f7746",
   "display_name": "Python 3.9.1 64-bit"
  },
  "language_info": {
   "codemirror_mode": {
    "name": "ipython",
    "version": 3
   },
   "file_extension": ".py",
   "mimetype": "text/x-python",
   "name": "python",
   "nbconvert_exporter": "python",
   "pygments_lexer": "ipython3",
   "version": "3.9.1"
  },
  "metadata": {
   "interpreter": {
    "hash": "111ec9d3badd4bdc5bb4c5104c9c1ec48cb8e627cdc8b194469614f2565f7746"
   }
  }
 },
 "nbformat": 4,
 "nbformat_minor": 2
}