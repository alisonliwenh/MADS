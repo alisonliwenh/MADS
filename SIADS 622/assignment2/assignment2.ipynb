{
 "cells": [
  {
   "cell_type": "markdown",
   "metadata": {
    "deletable": false,
    "editable": false,
    "nbgrader": {
     "checksum": "3d6ca25e8593c05b42af0c6f3c3861db",
     "grade": false,
     "grade_id": "cell-6e768e5e5abee2e8",
     "locked": true,
     "schema_version": 1,
     "solution": false
    }
   },
   "source": [
    "## Information Visualization II\n",
    "\n",
    "## School of Information, University of Michigan\n",
    "\n",
    "## Week 2:\n",
    "\n",
    "- Functions of interactivity\n",
    "\n",
    "## Assignment Overview\n",
    "### The objectives for this week are for you to:\n",
    "\n",
    "- Understand the role of interaction in visualization\n",
    "- Identify and understand various types of interaction in visualization\n",
    "- Learn to implement interactive visualizations using Altair\n",
    "\n",
    "\n",
    "### The total score of this assignment will be\n",
    "- Case study reflection:  (30 points)\n",
    "- Altair programming exercise (70 points)\n",
    "- Extra credit (up to 10 points)\n",
    "\n",
    "\n",
    "\n",
    "### Resources:\n",
    "\n",
    "- This article by [FiveThirtyEight](https://fivethirtyeight.com). Available [online](https://fivethirtyeight.com/features/women-in-comic-books/) (Hichey, 2014) \n",
    "\n",
    "- Datasets from FiveThirtyEight, we have downloaded a subset of these datasets available in the folder for your use into [./assets](./assets)\n",
    "     - The original dataset can be found on [FiveThirtyEight Comic Characters](https://github.com/fivethirtyeight/data/tree/master/comic-characters)\n",
    "\n",
    "### Important notes:\n",
    "1) Grading for this assignment is entirely done by manual inspection.\n",
    "\n",
    "2) When turning in your PDF, please use the File -> Print -> Save as PDF option ***from your browser***. Do ***not*** use the File->Download as->PDF option. Complete instructions for this are under Resources in the Coursera page for this class.\n",
    "\n",
    "\n",
    "***"
   ]
  },
  {
   "cell_type": "markdown",
   "metadata": {
    "deletable": false,
    "editable": false,
    "nbgrader": {
     "checksum": "fc99dcd14ed7aec80ecf6cf34c162892",
     "grade": false,
     "grade_id": "cell-f3a1c0ace8804d04",
     "locked": true,
     "schema_version": 1,
     "solution": false
    }
   },
   "source": [
    "## Part 1. Interactive visualization assesment (30 points)\n",
    "\n",
    "Read the following article [Timeless Songs](https://pudding.cool/2017/03/timeless/) on the Pudding's site, and answer the following questions:"
   ]
  },
  {
   "cell_type": "markdown",
   "metadata": {
    "deletable": false,
    "editable": false,
    "nbgrader": {
     "checksum": "5ff658174a86eccadb814c0d344e8415",
     "grade": false,
     "grade_id": "cell-1c4a07eee497cd53",
     "locked": true,
     "schema_version": 1,
     "solution": false
    }
   },
   "source": [
    "### 1.1 Identify various interactions (15 points)\n",
    "For the five visualizations:\n",
    "* What's Remembered from the 90s\n",
    "* Biggie or Tupac\n",
    "* Present-day Popularity of Five Decades of Music\n",
    "* XXXX Tracks: Historic Billboard Performance vs. 2014 Spotify Plays\n",
    "* The Long-term Future of Hits from 2013\n",
    "\n",
    "Identify which of the 7 interaction types are implemented and how.  You don't need a long description. A short sentence will do."
   ]
  },
  {
   "cell_type": "markdown",
   "metadata": {},
   "source": [
    "### Answer\n",
    "\n",
    "* What's Remembered from the 90s\n",
    "  * {select} is implemented by **clicking** on singer's profile image to support listening his/her representative music.\n",
    "  * {select} is implemented by **mouse over** to support reading singer's profile, such as the full name, the year of start the career, and the quantity of music playing times.\n",
    "  * {explore} is implemented by a kind of **line chart** to support reading the rank of number of plays on Spotify.\n",
    "  * {filter} is implemented by **typing** the specific track name to check the status of number of plays on Spotify.\n",
    "\n",
    "* Biggie or Tupac\n",
    "  * {select} is implemented by **mouse over** to support reading singer's profile, such as the full name, the year of start the career, and the quantity of music playing times.\n",
    "  * {explore} is implemented by a **plot chart** to support reading the distribution of number of Spotify playcounts by singers.\n",
    "  * {filter} is implemented by **typing** the specific track name to check the status of Spotify playcounts.\n",
    "  * {filter} is implemented by **clicking buttons** to support check the status of number of Spotify playcounts by either \"Just biggie and tupac\" or \"Just Jay-Z\". You can also check the number of all rappers.\n",
    "\n",
    "* Present-day Popularity of Five Decades of Music\n",
    "  * {explore} is implemented by a **bar chart** to support reading the rank of Spotify playcounts by track name.\n",
    "  * {filter} is implemented by **typing** the specific artist name to check the status of Spotify playcounts.\n",
    "  * {filter} is implemented by **clicking buttons** to support check the status of number of Spotify playcounts by the era of birth of artists.\n",
    "\n",
    "* XXXX Tracks: Historic Billboard Performance vs. 2014 Spotify Plays\n",
    "  * {select} is implemented by **mouse over** to support reading the track's profile, including the name of track, the artist, the name and the year of rank and the number of rank.\n",
    "  * {explore} is implemented by a **plot chart** to support reading the status of Billboard ranking performance versus 2014 Spotify plays by years.\n",
    "  * {filter} is implemented by **typing** the specific track name to check the status of comparison of that track.\n",
    "  * {filter} is implemented by **clicking buttons** to support check the status of comparison by either the era of tracks or the status of awards.\n",
    "  * {filter} is implemented by **typiing** the specific year to check the status of comparison on that year.\n",
    "\n",
    "* The Long-term Future of Hits from 2013\n",
    "  * {explore} is implemented by a **time-series line chart** to support reading the status of the long-term comparison by tracks.\n",
    "  * {filter} is implemented by **typing** the specific track name to add it to the comparison.\n",
    "  * {filter} is implemented by **selecting** tracks form the list to add them to the comparison."
   ]
  },
  {
   "cell_type": "markdown",
   "metadata": {
    "deletable": false,
    "editable": false,
    "nbgrader": {
     "checksum": "1222d71eeecc9e6de8b9e5a3d1fed109",
     "grade": false,
     "grade_id": "cell-83c73ab445e1e812",
     "locked": true,
     "schema_version": 1,
     "solution": false
    }
   },
   "source": [
    "### 1.2  Critique (15 points)\n",
    "For one of the five visualizations, critique the use of interaction. What works well? What could be better? You can add your own images here if it helps."
   ]
  },
  {
   "cell_type": "markdown",
   "metadata": {},
   "source": [
    "### Answer\n",
    "\n",
    "For the \"The long-term future of hits from 2013\", it works ineffectively when selecting more than five tracks. There're too many lines in the single chart and most of them are mixed together which is hard to read. The visuliazation losts the information of playcounts data and the reader is unable to read the accurate number of playcounts. Besides that, it is difficult to figure out the exact differences among several tracks since the visualization is lack of neccessary interactions such as showing details while mouse overing the line. For this project, the mult-line chart might not be a good choice. I will use the bar chart with filtering and interactive labeling instead of the multi-line chart."
   ]
  },
  {
   "cell_type": "markdown",
   "metadata": {},
   "source": [
    "****"
   ]
  },
  {
   "cell_type": "markdown",
   "metadata": {
    "deletable": false,
    "editable": false,
    "nbgrader": {
     "checksum": "bcd74cdb86c11d1a8b0e5954eaf5bd75",
     "grade": false,
     "grade_id": "cell-c97878b614df173d",
     "locked": true,
     "schema_version": 1,
     "solution": false
    }
   },
   "source": [
    "## Part 2. Programming exercise (70 points)\n",
    "\n",
    "Start by reading the 538 article [here](https://fivethirtyeight.com/features/women-in-comic-books/). What you should know is that there are two major comic book companies: DC (Batman, Superman, Wonder Woman, etc.) and Marvel (Black Widow, Iron Man, Hulk, etc.). \n",
    "\n",
    "We have a dataset of characters, their sex, when they were introduced, if their identify is secret, their eye and hair color, the number of appearances, etc. Lots of dimensions on which to build our visualizations."
   ]
  },
  {
   "cell_type": "code",
   "execution_count": null,
   "metadata": {
    "code_folding": []
   },
   "outputs": [],
   "source": [
    "# start with the setup\n",
    "import pandas as pd\n",
    "import numpy as np\n",
    "import altair as alt"
   ]
  },
  {
   "cell_type": "code",
   "execution_count": null,
   "metadata": {},
   "outputs": [],
   "source": [
    "# enable correct rendering\n",
    "alt.renderers.enable('default')"
   ]
  },
  {
   "cell_type": "code",
   "execution_count": null,
   "metadata": {},
   "outputs": [],
   "source": [
    "# uses intermediate json files to speed things up\n",
    "alt.data_transformers.enable('json')\n",
    "\n",
    "# use the 538 theme\n",
    "alt.themes.enable('fivethirtyeight')"
   ]
  },
  {
   "cell_type": "code",
   "execution_count": null,
   "metadata": {},
   "outputs": [],
   "source": [
    "# load up the two datasets, one for Marvel and one for DC\n",
    "dc = pd.read_csv('assets/dc-wikia-data.csv')\n",
    "marvel = pd.read_csv('assets/marvel-wikia-data.csv')"
   ]
  },
  {
   "cell_type": "code",
   "execution_count": null,
   "metadata": {},
   "outputs": [],
   "source": [
    "dc['publisher'] = 'DC'\n",
    "marvel['publisher'] = 'Marvel'"
   ]
  },
  {
   "cell_type": "code",
   "execution_count": null,
   "metadata": {},
   "outputs": [],
   "source": [
    "# rename some columns\n",
    "marvel.rename(columns={'Year': 'YEAR'}, inplace=True)"
   ]
  },
  {
   "cell_type": "code",
   "execution_count": null,
   "metadata": {},
   "outputs": [],
   "source": [
    "# create the table with everything\n",
    "comic = pd.concat([dc, marvel])\n",
    "\n",
    "# drop years with na values\n",
    "comic.dropna(subset=['YEAR'], inplace=True)"
   ]
  },
  {
   "cell_type": "code",
   "execution_count": null,
   "metadata": {},
   "outputs": [],
   "source": [
    "# let's look inside\n",
    "comic.sample(5)"
   ]
  },
  {
   "cell_type": "markdown",
   "metadata": {
    "deletable": false,
    "editable": false,
    "nbgrader": {
     "checksum": "7f0a62eefdc09fc086938a08465306fc",
     "grade": false,
     "grade_id": "cell-e32f6926ac8ae847",
     "locked": true,
     "schema_version": 1,
     "solution": false
    }
   },
   "source": [
    "# Comic Books Are Still Made By Men, For Men And About Men"
   ]
  },
  {
   "cell_type": "markdown",
   "metadata": {
    "deletable": false,
    "editable": false,
    "nbgrader": {
     "checksum": "e012cd9de614f9f8d0113998c62534df",
     "grade": false,
     "grade_id": "cell-e0e6292a77fde238",
     "locked": true,
     "schema_version": 1,
     "solution": false
    }
   },
   "source": [
    "_Original article available at [FiveThirtyEight](https://fivethirtyeight.com/features/women-in-comic-books/)_\n",
    "\n",
    "By [Walt Hickey](https://fivethirtyeight.com/contributors/walt-hickey/)\n",
    "\n",
    "Get the data on [GitHub](https://github.com/fivethirtyeight/data/tree/master/comic-characters)"
   ]
  },
  {
   "cell_type": "markdown",
   "metadata": {
    "deletable": false,
    "editable": false,
    "nbgrader": {
     "checksum": "536052877121b0f8e2163cc40353f2ab",
     "grade": false,
     "grade_id": "cell-ade4a868ef5175a9",
     "locked": true,
     "schema_version": 1,
     "solution": false
    }
   },
   "source": [
    "We are going to be revising and adding to the visualizations for this article. While they're nice, we think we can do better by adding some interactivity.\n",
    "\n",
    "Because many of these visualizations are interactive, we will be recording short clips to demonstrate the desired behavior of the systems. Unlike some of your previous assignments, we will give you portions of the Altair code and ask you to complete the interactive elements."
   ]
  },
  {
   "cell_type": "markdown",
   "metadata": {
    "deletable": false,
    "editable": false,
    "nbgrader": {
     "checksum": "b66f5db6221e0e67df07fa4c5aaf34d1",
     "grade": false,
     "grade_id": "cell-61c22cab74bb5cba",
     "locked": true,
     "schema_version": 1,
     "solution": false
    }
   },
   "source": [
    "## Problem 2.1 (35 Points)\n",
    "\n",
    "We'd like to build an interactive visualization that allows us to compare the distributions of characters over time as well. The top two charts will represent the total characters over time (as bar charts). The bottom two will be a line chart with separate lines for female and male characters.  \n",
    "\n",
    "![\"example for 4 chart](assets/4chart_example.gif)\n",
    "\n",
    "As ranges are selected or moved in the top charts, the bottom charts will automatically update (and the selection will be visible). "
   ]
  },
  {
   "cell_type": "code",
   "execution_count": null,
   "metadata": {
    "code_folding": []
   },
   "outputs": [],
   "source": [
    "# let's pre-process the data. We're going to focus on just Female and just Male characters for the moment and will\n",
    "# only consider those \n",
    "comic_ch1_df = comic[(comic['YEAR'] >= 1940) & (comic['SEX'].isin(['Female Characters', 'Male Characters']))]"
   ]
  },
  {
   "cell_type": "code",
   "execution_count": null,
   "metadata": {},
   "outputs": [],
   "source": [
    "# check what's inside\n",
    "comic_ch1_df.sample(5)"
   ]
  },
  {
   "cell_type": "code",
   "execution_count": null,
   "metadata": {},
   "outputs": [],
   "source": [
    "# we're largely going to use the same \"base\" visualization here for the bar. We can start with a bar\n",
    "# chart and then change the details. The Y axis will be the count()\n",
    "p1_bar_base = alt.Chart(comic).mark_bar(size=2.5).encode( \n",
    "    alt.Y('count():Q', \n",
    "          axis=alt.Axis(values=[0, 100, 200, 300, 400, 500], \n",
    "                        title=None,\n",
    "                        labelFontWeight=\"bold\",\n",
    "                        labelFontSize=15),\n",
    "          scale=alt.Scale(domain=[0, 500]))).properties(\n",
    "                 width=240,\n",
    "                 height=300\n",
    ")\n",
    "\n",
    "\n",
    "\n",
    "# let's create the bar chart for DC. We'll take the \"base\" chart\n",
    "bar_dc = p1_bar_base.encode(alt.X('YEAR:N',  # create the X axis based on year and fix the look of the axes\n",
    "                               axis=alt.Axis(values=[1940, 1960, 1980, 2000], labels=True, ticks=False,grid=True,\n",
    "                                             title=\"DC, New Earth continuity\",\n",
    "                                             titlePadding=-347, \n",
    "                                             labelAngle=360,\n",
    "                                             labelFontWeight=\"bold\",\n",
    "                                             labelFontSize=15,)),\n",
    "        ).transform_filter(\n",
    "            # we will use Altair's filter to only keep DC for this chart\n",
    "            alt.datum.publisher == 'DC'\n",
    "        )\n",
    "\n",
    "# let's do the same thing for marvel\n",
    "bar_marvel = p1_bar_base.mark_bar(color='#f6573f').encode(alt.X('YEAR:N', # create the X axis based on year \n",
    "                            # fix the look of the axes\n",
    "                           axis=alt.Axis(values=[1940, 1960, 1980, 2000], labels=True, ticks=False,grid=True,\n",
    "                                         title=\"Marvel, Earth-616 continuity\",\n",
    "                                         titlePadding=-347,\n",
    "                                         labelAngle=360,\n",
    "                                         labelFontWeight=\"bold\",\n",
    "                                         labelFontSize=15)),\n",
    "        ).transform_filter(\n",
    "            # we will use Altair's filter to only keep DC for this chart\n",
    "            alt.datum.publisher == 'Marvel'\n",
    "        )\n",
    "\n",
    "\n",
    "\n",
    "# let's create a new \"base\" chart for the two line charts. We'll take the bar chart base above\n",
    "# and modify it to use a line chart\n",
    "p1_line_base = p1_bar_base.mark_line().encode(\n",
    "     # the X axis will be year\n",
    "     alt.X('YEAR:N'),\n",
    "     # the Y axis will be the count (the number of points that year)\n",
    "     alt.Y('count():Q', axis=alt.Axis(grid=False, \n",
    "                                    labelFontWeight=\"bold\",\n",
    "                                    labelFontSize=15, \n",
    "                                    title=None)),\n",
    "     # let's split the data and color by SEX\n",
    "     alt.Color('SEX', \n",
    "              scale = alt.Scale(domain=['Female Characters', 'Male Characters'], range=['#31a354', '#ce6dbd']),\n",
    "              legend=alt.Legend(orient=\"bottom\"))\n",
    "    ).properties(\n",
    "                width=240, height=80\n",
    "     )\n",
    "\n",
    "\n",
    "line_dc = p1_line_base.encode(alt.X('YEAR:N',\n",
    "                                       axis=alt.Axis(values=[1940, 1960, 1980, 2000], \n",
    "                                                              grid=True, \n",
    "                                                              labelAngle=360,\n",
    "                                                              labelFontWeight=\"bold\",\n",
    "                                                              labelFontSize=15,\n",
    "                                                              title = 'Dc, Female and Male characters over time',\n",
    "                                                              titlePadding=-130,\n",
    "                                                              titleFontSize = 12\n",
    "                                                             )\n",
    "                                      )\n",
    "            ).transform_filter(\n",
    "                # this is the DC line chart, so we only want DC\n",
    "                alt.datum.publisher == 'DC'\n",
    "            )\n",
    "\n",
    "\n",
    "\n",
    "line_marvel = p1_line_base.encode(alt.X('YEAR:N', \n",
    "                                    axis=alt.Axis(values=[1940, 1960, 1980, 2000], \n",
    "                                                          grid=True, \n",
    "                                                          labelAngle=360,\n",
    "                                                          labelFontWeight=\"bold\",\n",
    "                                                          labelFontSize=15,\n",
    "                                                          title = 'Marvel, Female and Male characters over time',\n",
    "                                                          titlePadding=-130,\n",
    "                                                          titleFontSize = 12\n",
    "                                                         )\n",
    "                                    )\n",
    "            ).transform_filter(\n",
    "                # this is the Marvel line chart, so we only want Marvel\n",
    "                alt.datum.publisher == 'Marvel'\n",
    "            )\n",
    "\n",
    "\n",
    "\n",
    "# let's put everything together\n",
    "# top piece \n",
    "top_charts = alt.hconcat(bar_dc,bar_marvel).resolve_scale(y='shared'\n",
    "           ).properties(\n",
    "                    title='New Comic Book Characters Introduced Per Year'\n",
    "           )\n",
    "\n",
    "# bottom piece\n",
    "bottom_charts = alt.hconcat(line_dc,line_marvel).resolve_scale(y='shared')\n",
    "\n",
    "alt.vconcat(top_charts,bottom_charts).configure_view(\n",
    "    strokeWidth=0\n",
    ")\n"
   ]
  },
  {
   "cell_type": "markdown",
   "metadata": {
    "deletable": false,
    "editable": false,
    "nbgrader": {
     "checksum": "b527d97d186ddf8d29fc269f11f77dc0",
     "grade": false,
     "grade_id": "cell-cf374dcf5751568d",
     "locked": true,
     "schema_version": 1,
     "solution": false
    }
   },
   "source": [
    "Now we have the chart we need, but here is where you have to start doing some work. For this problem, we'll do this a little bit at a time."
   ]
  },
  {
   "cell_type": "markdown",
   "metadata": {
    "deletable": false,
    "editable": false,
    "nbgrader": {
     "checksum": "6c584482fa8668fc8d1f070295cdd468",
     "grade": false,
     "grade_id": "cell-568e8f5cce3e7d4d",
     "locked": true,
     "schema_version": 1,
     "solution": false
    }
   },
   "source": [
    "### Problem 2.1.1 \n",
    "\n",
    "First, modify the code below to create a \"brush\" object (a \"selection\" in Altair speak) that will let us select a time range. For all these, you should take a look at the examples on [this page](https://altair-viz.github.io/user_guide/interactions.html) to identify the right (and the lab)."
   ]
  },
  {
   "cell_type": "code",
   "execution_count": null,
   "metadata": {
    "deletable": false,
    "nbgrader": {
     "checksum": "4d8b3db3cfa9512f3d7f8824ce6e24c6",
     "grade": true,
     "grade_id": "cell-ecefd1b67db28a1f",
     "locked": false,
     "points": 0,
     "schema_version": 1,
     "solution": true
    }
   },
   "outputs": [],
   "source": [
    "# modify this cell to create the brush object\n",
    "brush = alt.selection_interval(encodings=['x'])\n",
    "# YOUR CODE HERE\n",
    "# raise NotImplementedError()"
   ]
  },
  {
   "cell_type": "markdown",
   "metadata": {
    "deletable": false,
    "editable": false,
    "nbgrader": {
     "checksum": "3be49bc6023e7f3578ef45c29a5e211d",
     "grade": false,
     "grade_id": "cell-335d0664afb064a1",
     "locked": true,
     "schema_version": 1,
     "solution": false
    }
   },
   "source": [
    "### Problem 2.1.2 \n",
    "\n",
    "The next step is to create the condition for the DC chart. Look at the documentation for the condition. We specifically want things selected by the \"brush\" object to stay the same color (#2182bd) and the unselected content to turn gray."
   ]
  },
  {
   "cell_type": "code",
   "execution_count": null,
   "metadata": {
    "deletable": false,
    "nbgrader": {
     "checksum": "a6c157d8cfb9c6348a91dfdaf02b0115",
     "grade": true,
     "grade_id": "cell-738ecb3e04f17ae1",
     "locked": false,
     "points": 0,
     "schema_version": 1,
     "solution": true
    }
   },
   "outputs": [],
   "source": [
    "# modify this cell to create the brush object\n",
    "colorConditionDC = (brush, alt.value('#2182bd'), alt.value('gray'))\n",
    "\n",
    "\n",
    "# YOUR CODE HERE\n",
    "# raise NotImplementedError()"
   ]
  },
  {
   "cell_type": "markdown",
   "metadata": {
    "deletable": false,
    "editable": false,
    "nbgrader": {
     "checksum": "09940c36a06497e7d203b9c29ba68ceb",
     "grade": false,
     "grade_id": "cell-deae8cf0434f77c4",
     "locked": true,
     "schema_version": 1,
     "solution": false
    }
   },
   "source": [
    "### Problem 2.1.3\n",
    "\n",
    "Finally, we need to add both the condition and selection to the ```bar_dc``` chart. We'll call this new chart ```i_bar_dc``` (i for interactive). Remember that you can \"override\" or modify a chart by simply taking the original chart and adding an encode or some other function to it.  For example the line:\n",
    "\n",
    "```i_bar_dc = bar_dc.encode(color = 'TEST')```\n",
    "\n",
    "will take the original chart with all its original settings and make the color encoding based on the TEST column (which doesn't exist in this case). If there was a color encoding in ```bar_dc```, it will be overridden by TEST. If there wasn't one, it will be added."
   ]
  },
  {
   "cell_type": "code",
   "execution_count": null,
   "metadata": {
    "deletable": false,
    "nbgrader": {
     "checksum": "beba450b853d65e4fa6eda062e50cb37",
     "grade": true,
     "grade_id": "cell-583afd8f5835c173",
     "locked": false,
     "points": 0,
     "schema_version": 1,
     "solution": true
    }
   },
   "outputs": [],
   "source": [
    "# modify this cell to create the brush object\n",
    "i_bar_dc = bar_dc.encode(color=alt.condition(brush, alt.value('#2182bd'), alt.value('gray'))).add_selection(brush)\n",
    "\n",
    "# YOUR CODE HERE\n",
    "# raise NotImplementedError()"
   ]
  },
  {
   "cell_type": "code",
   "execution_count": null,
   "metadata": {},
   "outputs": [],
   "source": [
    "# if you did the last step correctly, you should be able to see the selection work for the DC bar chart\n",
    "i_bar_dc"
   ]
  },
  {
   "cell_type": "markdown",
   "metadata": {
    "deletable": false,
    "editable": false,
    "nbgrader": {
     "checksum": "574794cea7c7ccc29a33eb7eb03bde72",
     "grade": false,
     "grade_id": "cell-8bd76682358ed8a4",
     "locked": true,
     "schema_version": 1,
     "solution": false
    }
   },
   "source": [
    "### Problem 2.1.4\n",
    "\n",
    "Do the same thing for the marvel chart. Create the color condition for marvel (selected should be #f6573f, unselected should be gray). Then add the brush and condition to the ```bar_marvel``` to create ```i_bar_marvel```"
   ]
  },
  {
   "cell_type": "code",
   "execution_count": null,
   "metadata": {
    "deletable": false,
    "nbgrader": {
     "checksum": "c333a6b310fb18ed1baf9ae45223cfd3",
     "grade": true,
     "grade_id": "cell-1d6b10c5e300593a",
     "locked": false,
     "points": 0,
     "schema_version": 1,
     "solution": true
    }
   },
   "outputs": [],
   "source": [
    "# modify the following two lines\n",
    "colorConditionMarvel = (brush, alt.value('#2182bd'), alt.value('gray'))\n",
    "i_bar_marvel = bar_marvel.encode(color=alt.condition(brush, alt.value('#f6573f'), alt.value('gray'))).add_selection(brush)\n",
    "\n",
    "# YOUR CODE HERE\n",
    "# raise NotImplementedError()"
   ]
  },
  {
   "cell_type": "code",
   "execution_count": null,
   "metadata": {},
   "outputs": [],
   "source": [
    "# top piece \n",
    "top_charts = alt.hconcat(i_bar_dc,i_bar_marvel).resolve_scale(y='shared'\n",
    "           ).properties(\n",
    "                    title='New Comic Book Characters Introduced Per Year'\n",
    "           )\n",
    "\n",
    "# if you did the two bar charts correctly, you should now be able to interactively select\n",
    "# (and the selections should be linked)\n",
    "top_charts"
   ]
  },
  {
   "cell_type": "markdown",
   "metadata": {
    "deletable": false,
    "editable": false,
    "nbgrader": {
     "checksum": "30da24222f130efd6ee03242b9f795c4",
     "grade": false,
     "grade_id": "cell-95f9846e45ecb48b",
     "locked": true,
     "schema_version": 1,
     "solution": false
    }
   },
   "source": [
    "### Problem 2.1.5\n",
    "\n",
    "The last step is to modify the two line charts. Again, you'll want to start with ```line_dc``` and ```line_marvel``` to create the new charts."
   ]
  },
  {
   "cell_type": "code",
   "execution_count": null,
   "metadata": {
    "deletable": false,
    "nbgrader": {
     "checksum": "e0c4c5a58e6f574d103fc20964418da3",
     "grade": true,
     "grade_id": "cell-06124043d0abbbf5",
     "locked": false,
     "points": 0,
     "schema_version": 1,
     "solution": true
    }
   },
   "outputs": [],
   "source": [
    "# modify the code below\n",
    "i_line_dc = line_dc.encode(color=alt.condition(brush, alt.value('#2182bd'), alt.value('gray'))).transform_filter(brush).add_selection(brush)\n",
    "i_line_marvel = line_marvel.encode(color=alt.condition(brush, alt.value('#f6573f'), alt.value('gray'))).transform_filter(brush).add_selection(brush)\n",
    "\n",
    "# YOUR CODE HERE\n",
    "# raise NotImplementedError()"
   ]
  },
  {
   "cell_type": "code",
   "execution_count": null,
   "metadata": {},
   "outputs": [],
   "source": [
    "# let's put everything together with your new interactive charts. If you did everything correctly this part\n",
    "# should generate the visualizations we want\n",
    "\n",
    "# bottom piece\n",
    "bottom_charts = alt.hconcat(i_line_dc,i_line_marvel).resolve_scale(y='shared')\n",
    "\n",
    "alt.vconcat(top_charts,bottom_charts).configure_view(\n",
    "    strokeWidth=0\n",
    ")"
   ]
  },
  {
   "cell_type": "markdown",
   "metadata": {
    "deletable": false,
    "editable": false,
    "nbgrader": {
     "checksum": "2b39c8424796356ded42b6e8d8129f61",
     "grade": false,
     "grade_id": "cell-afc1c9e04475662c",
     "locked": true,
     "schema_version": 1,
     "solution": false
    }
   },
   "source": [
    "## Problem 2.2 (35 Points)\n",
    "\n",
    "One of the issues discussed in the article is that the comics aren't gaining many female characters. \n",
    "\n",
    "![\"original 538 image of female charcters over time\"](assets/538original_2.png)\n",
    "\n",
    "This visualization is ok, but we can enhance it with some interactivity.  Let's start by dealing with the fact that the chart only presents one interesting: Percent female in any given year. It might help us understand the claim that there's a relatively trending change in this percent by plotting year-over-year percent changes. Also, it's possible that there are more characters being introduced in later years. So even one or two good years in the 2000's may make up for lots of bad years in the past (it turns out that this is not the case, but it is a question we might ask).\n",
    "\n",
    "We're going to create the table with all the necessary statistics for you next:"
   ]
  },
  {
   "cell_type": "code",
   "execution_count": null,
   "metadata": {},
   "outputs": [],
   "source": [
    "def generatePercentTable(publisher):\n",
    "    _df = comic[comic.publisher == publisher]\n",
    "    _df = _df[['SEX','YEAR']]\n",
    "    _df = pd.get_dummies(_df)\n",
    "    _df.YEAR = _df.YEAR.astype('int')\n",
    "    _df = _df.groupby(['YEAR']).sum()\n",
    "\n",
    "    _df['total'] = 0\n",
    "    _df['total'] = _df['total'].astype('int')\n",
    "    for col in list(comic[comic.publisher == publisher].SEX.unique()):\n",
    "        col = str(col)\n",
    "        if (col != 'nan'):\n",
    "            _df['total'] = _df['total'].astype('int') + _df[\"SEX_\"+col].astype('int')\n",
    "\n",
    "    _df['% Female'] = _df['SEX_Female Characters'] / _df.total\n",
    "    _df = _df.reset_index()\n",
    "    _df = _df[['YEAR','% Female','SEX_Female Characters','SEX_Male Characters','total']]\n",
    "    _df['publisher'] = publisher\n",
    "    _df = _df[(_df.YEAR >= 1979)]\n",
    "    _df['Year-over-year change in % Female'] = _df['% Female'].pct_change()\n",
    "    toret = _df[(_df.YEAR > 1980) & (_df.YEAR < 2013)].copy()\n",
    "    t2 = toret.cumsum()\n",
    "    toret['% Female characters to date'] = list(t2['SEX_Female Characters'] / t2['total'])\n",
    "    return(toret)\n",
    "\n",
    "changedata = pd.concat([generatePercentTable(\"Marvel\"),generatePercentTable(\"DC\")])\n",
    "\n",
    "changedata = pd.melt(changedata,id_vars=['YEAR','publisher'],value_vars=['% Female',\n",
    "                                                             'Year-over-year change in % Female',\n",
    "                                                             '% Female characters to date'])"
   ]
  },
  {
   "cell_type": "code",
   "execution_count": null,
   "metadata": {},
   "outputs": [],
   "source": [
    "# let's see what's inside\n",
    "changedata.sample(5)"
   ]
  },
  {
   "cell_type": "markdown",
   "metadata": {
    "deletable": false,
    "editable": false,
    "nbgrader": {
     "checksum": "6e814f2b3d4f2154e5e5d3ecad40667f",
     "grade": false,
     "grade_id": "cell-6642874f36b63cb3",
     "locked": true,
     "schema_version": 1,
     "solution": false
    }
   },
   "source": [
    "### Problem 2.2.1\n",
    "\n",
    "Your first job will be to create an interactive chart that has a drop-down box that allows us to select the variable of interest. Here's our target in action:\n",
    "\n",
    "![\"percent interactive example\"](assets/percentinteractive.gif)\n",
    "\n",
    "Modify ```generateLineChartP21``` below to generate this chart. If you haven't already, you'll want to take a look at the binding_select examples.  Make sure you can get the chart working without interactivity first (hint: see if you can figure out how to filter to specific variables of interest)."
   ]
  },
  {
   "cell_type": "code",
   "execution_count": null,
   "metadata": {
    "deletable": false,
    "nbgrader": {
     "checksum": "e64bd0207c90dc3b948bca295b8f8088",
     "grade": true,
     "grade_id": "cell-504631e1df0d8575",
     "locked": false,
     "points": 0,
     "schema_version": 1,
     "solution": true
    }
   },
   "outputs": [],
   "source": [
    "def generateLineChartP21():\n",
    "    \n",
    "    metricOptions = ['% Female','Year-over-year change in % Female','% Female characters to date']\n",
    "    input_dropdown = alt.binding_select(options=metricOptions)\n",
    "    \n",
    "    dropdown_selection = alt.selection_single(fields=['variable'], bind=input_dropdown, name=\"Data_\")\n",
    "    \n",
    "    line = alt.Chart(changedata).mark_line().encode(\n",
    "                                        x=alt.X('YEAR:N'), \n",
    "                                        y=alt.Y('value:Q'),  \n",
    "                                        color='publisher').add_selection(dropdown_selection).transform_filter(dropdown_selection)\n",
    "    \n",
    "    # YOUR CODE HERE\n",
    "    # raise NotImplementedError()\n",
    "    return(line)"
   ]
  },
  {
   "cell_type": "code",
   "execution_count": null,
   "metadata": {},
   "outputs": [],
   "source": [
    "# if you did everything correctly, this should generate the visualization:\n",
    "generateLineChartP21()"
   ]
  },
  {
   "cell_type": "markdown",
   "metadata": {
    "deletable": false,
    "editable": false,
    "nbgrader": {
     "checksum": "839ac6c8a8ee91718a7a685c2d69a3fe",
     "grade": false,
     "grade_id": "cell-a28557e5b7ae863c",
     "locked": true,
     "schema_version": 1,
     "solution": false
    }
   },
   "source": [
    "### Problem 2.2.2\n",
    "\n",
    "The next thing we're going to do is modify this example to give us a useful line that gives us the actual values (an effectiveness boost if we want to know the numbers). Here's an example:\n",
    "\n",
    "![\"percent example extended\"](assets/percentinteractive2.gif)\n",
    "\n",
    "Notice that the dropdown functionality still works. Your task is to build ```generateLineChartP22``` below to return this modified line chart. The good news is there's an example that's really close to [what you need](https://altair-viz.github.io/gallery/multiline_tooltip.html). But you'll need to understand what's going on and modify it.\n",
    "\n",
    "Some hints: \n",
    "* You probably want to copy your code for ```generateLineChartP21``` into the new function. There are pieces of code  you defined (e.g., the selection) that you'll need to use again.\n",
    "* The example relies a lot on overloading Altair charts from a common base (e.g., ```line = alt.Chart(...``` and then ```newline = line.encode...``` so newline overloads/extends line). Our experience is that it's easy to get errors when doing this here because you'll be using multiple selections and conditions (another hint). We recommend defining the Altair charts (selectors, points, etc.) from scratch. It's more repeated code, but it'll save you the same headaches."
   ]
  },
  {
   "cell_type": "code",
   "execution_count": null,
   "metadata": {},
   "outputs": [],
   "source": [
    "def generateLineChartP21():\n",
    "    \n",
    "    metricOptions = ['% Female','Year-over-year change in % Female','% Female characters to date']\n",
    "    input_dropdown = alt.binding_select(options=metricOptions)\n",
    "    \n",
    "    dropdown_selection = alt.selection_single(fields=['variable'], bind=input_dropdown, name=\"Data_\")\n",
    "    \n",
    "    line = alt.Chart(changedata).mark_line().encode(\n",
    "                                        x=alt.X('YEAR:N'), \n",
    "                                        y=alt.Y('value:Q'),  \n",
    "                                        color='publisher').add_selection(dropdown_selection).transform_filter(dropdown_selection)\n",
    "    \n",
    "    # YOUR CODE HERE\n",
    "    # raise NotImplementedError()\n",
    "    return(line)"
   ]
  },
  {
   "cell_type": "code",
   "execution_count": null,
   "metadata": {},
   "outputs": [],
   "source": [
    "def createTool(frame):\n",
    "    metricOptions = ['% Female','Year-over-year change in % Female','% Female characters to date']\n",
    "    input_dropdown = alt.binding_select(options=metricOptions)\n",
    "    \n",
    "    dropdown_selection = alt.selection_single(fields=['variable'], bind=input_dropdown, name=\"Data_\")\n",
    "\n",
    "    # Create a selection that chooses the nearest point & selects based on x-value\n",
    "    nearest = alt.selection(type='single', nearest=True, on='mouseover', fields=['YEAR'], empty='none')\n",
    "    # Transparent selectors across the chart. This is what tells us the x-value of the cursor\n",
    "    selectors = alt.Chart(frame).mark_point().encode(x='YEAR:N', y='value:Q', opacity=alt.value(0)).add_selection(nearest)\n",
    "    # Draw points on the line, and highlight based on selection\n",
    "    points = alt.Chart(frame).mark_point().encode(x='YEAR:N', y='value:Q', opacity=alt.condition(nearest, alt.value(1), alt.value(0))).transform_filter(dropdown_selection)\n",
    "    # Draw text labels near the points, and highlight based on selection\n",
    "    text = alt.Chart(frame).mark_text(align='left', dx=5).encode(x='YEAR:N', y='value:Q', text=alt.condition(nearest, alt.Text(\"value:Q\", format=\".0%\"), alt.value(\" \"))).transform_filter(dropdown_selection)\n",
    "    # Draw a rule at the location of the selection\n",
    "    rules = alt.Chart(frame).mark_rule(color='gray').encode(x='YEAR:N').transform_filter(nearest)\n",
    "\n",
    "    return selectors, points, text, rules"
   ]
  },
  {
   "cell_type": "code",
   "execution_count": null,
   "metadata": {
    "deletable": false,
    "nbgrader": {
     "checksum": "61a1cc34248935371648e75abadfe3c5",
     "grade": true,
     "grade_id": "cell-1f59348cfddbfcf3",
     "locked": false,
     "points": 0,
     "schema_version": 1,
     "solution": true
    }
   },
   "outputs": [],
   "source": [
    "def generateLineChartP22():\n",
    "    line_base = generateLineChartP21()\n",
    "\n",
    "    selectors, points, text, rules = createTool(changedata)\n",
    "    return alt.layer(line_base, selectors, points, text, rules)\n",
    "    # YOUR CODE HERE\n",
    "    # raise NotImplementedError()"
   ]
  },
  {
   "cell_type": "code",
   "execution_count": null,
   "metadata": {},
   "outputs": [],
   "source": [
    "generateLineChartP22()"
   ]
  },
  {
   "cell_type": "markdown",
   "metadata": {
    "deletable": false,
    "editable": false,
    "nbgrader": {
     "checksum": "d0fdcfdbf2345abd7e7ba80dabb6f8fe",
     "grade": false,
     "grade_id": "cell-98c6ca9398abd9e6",
     "locked": true,
     "schema_version": 1,
     "solution": false
    }
   },
   "source": [
    "## Extra Credit (up to 10 points)\n",
    "\n",
    "As an extra credit exercise, you can create a new interactive visualization that either replaces/extends one of the 538 examples OR invent a new one that fits with the article.\n",
    "\n",
    "The interaction should be well thought out and appropriate (so just turning on ```.interactive()``` on a static chart won't really cut it). Please give us 1-2 sentences about what your interactivity adds."
   ]
  },
  {
   "cell_type": "code",
   "execution_count": null,
   "metadata": {},
   "outputs": [],
   "source": [
    "# YOUR ANSWER HERE"
   ]
  }
 ],
 "metadata": {
  "coursera": {
   "schema_names": [
    "mads_information_visualization_ii_v1_assignment2"
   ]
  },
  "kernelspec": {
   "name": "python3",
   "display_name": "Python 3.8.5 64-bit ('base': conda)",
   "metadata": {
    "interpreter": {
     "hash": "b712b3f011f83a2a6d53221c9bca7cc966c4e7b657a059633d1da81476ac745e"
    }
   }
  },
  "language_info": {
   "codemirror_mode": {
    "name": "ipython",
    "version": 3
   },
   "file_extension": ".py",
   "mimetype": "text/x-python",
   "name": "python",
   "nbconvert_exporter": "python",
   "pygments_lexer": "ipython3",
   "version": "3.8.5-final"
  },
  "metadata": {
   "interpreter": {
    "hash": "111ec9d3badd4bdc5bb4c5104c9c1ec48cb8e627cdc8b194469614f2565f7746"
   }
  }
 },
 "nbformat": 4,
 "nbformat_minor": 4
}