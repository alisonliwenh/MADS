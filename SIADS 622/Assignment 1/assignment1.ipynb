{
 "cells": [
  {
   "cell_type": "markdown",
   "id": "guided-adjustment",
   "metadata": {
    "deletable": false,
    "editable": false,
    "nbgrader": {
     "checksum": "196755ebed5144457455918f77b1b9e3",
     "grade": false,
     "grade_id": "cell-e8ecc27290ed2b84",
     "locked": true,
     "schema_version": 1,
     "solution": false
    }
   },
   "source": [
    "# Information Visualization II\n",
    "## School of Information, University of Michigan\n",
    "\n",
    "## Week 1: \n",
    "- Multivariate/Multidimensional + Temporal\n",
    "\n",
    "## Assignment Overview\n",
    "### This assignment's objectives include:\n",
    "\n",
    "- Review, reflect on, and apply different strategies for multidimensional/multivariate/temporal datasets\n",
    "\n",
    "- Recreate visualizations and propose new and alternative visualizations using [Altair](https://altair-viz.github.io/) \n",
    "\n",
    "### The total score of this assignment will be 100 points consisting of:\n",
    "- You will be producing four visualizations. Three of them will require you to follow the example closely, but the last will be fairly open-ended. For the last one, we'll also ask you to justify why you designed your visualization the way you did.\n",
    "\n",
    "### Resources:\n",
    "- Article by [FiveThirtyEight](https://fivethirtyeight.com) available  [online](https://fivethirtyeight.com/features/a-statistical-analysis-of-the-work-of-bob-ross/) (Hickey, 2014)\n",
    "- The associated dataset on [Github](https://github.com/fivethirtyeight/data/tree/master/bob-ross)\n",
    "- A dataset of all the [paintings from the show](https://github.com/jwilber/Bob_Ross_Paintings)\n",
    "    \n",
    "    \n",
    "### Important notes:\n",
    "1) Grading for this assignment is entirely done by manual inspection. For some of the visualizations, we'll expect you to get pretty close to our example (1-3). Problem 4 is more free-form.  \n",
    "\n",
    "2) There are a few instances where our numbers do not align exactly with those from 538. We've pre-processed our data a little bit differently.\n",
    "\n",
    "3) When turning in your PDF, please use the File -> Print -> Save as PDF option ***from your browser***. Do ***not*** use the File->Download as->PDF option. Complete instructions for this are under Resources in the Coursera page for this class."
   ]
  },
  {
   "cell_type": "code",
   "execution_count": 1,
   "id": "united-danger",
   "metadata": {},
   "outputs": [],
   "source": [
    "# load up the resources we need\n",
    "import zipfile as zip\n",
    "import urllib.request\n",
    "import os.path\n",
    "from os import path\n",
    "import pandas as pd\n",
    "import altair as alt\n",
    "import numpy as np\n",
    "from sklearn import manifold\n",
    "from sklearn.metrics import euclidean_distances\n",
    "from sklearn.decomposition import PCA\n",
    "import ipywidgets as widgets\n",
    "from IPython.display import display\n",
    "from PIL import Image"
   ]
  },
  {
   "cell_type": "markdown",
   "id": "defined-trouble",
   "metadata": {
    "deletable": false,
    "editable": false,
    "nbgrader": {
     "checksum": "b62a4064a06129e09045b030e6f4388f",
     "grade": false,
     "grade_id": "cell-4fff67addf363fdf",
     "locked": true,
     "schema_version": 1,
     "solution": false
    }
   },
   "source": [
    "## Bob Ross\n",
    "\n",
    "Today's assignment will have you working with artwork created by [Bob Ross](https://en.wikipedia.org/wiki/Bob_Ross). Bob was a very famous painter who had a televised painting show from 1983 to 1994. Over 13 seasons and approximately 400 paintings, Bob would walk the audience through a painting project. Often these were landscape images. Bob was famous for telling his audience to paint \"happy trees\" and sayings like, \"We don't make mistakes, just happy little accidents.\" His soothing voice and bushy hair are well known to many generations of viewers.\n",
    "\n",
    "If you've never seen an episode, I might suggest starting with [this one](https://www.youtube.com/watch?v=Fw6odlNp7_8). \n",
    "\n",
    "![bob ross](assets/bobrosspaints.png)\n",
    "\n",
    "Bob Ross left a long legacy of art which makes for an interesting dataset to analyze. It's both temporally rich and has a lot of variables we can code. We'll be starting with the dataset created by 538 for their article on a [Statistical Analysis of Bob Ross](https://fivethirtyeight.com/features/a-statistical-analysis-of-the-work-of-bob-ross/). The authors of the article coded each painting to indicate what features the image contained (e.g., one tree, more than one tree, what kinds of clouds, etc.). \n",
    "\n",
    "In addition, we've downloaded a second dataset that contains the actual images. We know what kind of paint colors Bob used in each episode, and we have used that to create a dataset for you containing the color distributions. For example, we approximate how much '<font color='#614f4b'>burnt umber</font>' he used by measuring the distance (in color space) from each pixel in the image to the color. This is imperfect, of course (paints don't mix this way), but it'll be close enough for our analysis."
   ]
  },
  {
   "cell_type": "code",
   "execution_count": 2,
   "id": "subject-palmer",
   "metadata": {},
   "outputs": [
    {
     "output_type": "execute_result",
     "data": {
      "text/plain": [
       "DataTransformerRegistry.enable('json')"
      ]
     },
     "metadata": {},
     "execution_count": 2
    }
   ],
   "source": [
    "# the paints Bob used\n",
    "rosspaints = ['alizarin crimson','bright red','burnt umber','cadmium yellow','dark sienna', \n",
    "              'indian yellow','indian red','liquid black','liquid clear','black gesso',\n",
    "              'midnight black','phthalo blue','phthalo green','prussian blue','sap green',\n",
    "              'titanium white','van dyke brown','yellow ochre']\n",
    "\n",
    "# hex values for the paints above\n",
    "rosspainthex = ['#94261f','#c06341','#614f4b','#f8ed57','#5c2f08','#e6ba25','#cd5c5c',\n",
    "                '#000000','#ffffff','#000000','#36373c','#2a64ad','#215c2c','#325fa3',\n",
    "                '#364e00','#f9f7eb','#2d1a0c','#b28426']\n",
    "\n",
    "# boolean features about what an image includes\n",
    "imgfeatures = ['Apple frame', 'Aurora borealis', 'Barn', 'Beach', 'Boat', \n",
    "               'Bridge', 'Building', 'Bushes', 'Cabin', 'Cactus', \n",
    "               'Circle frame', 'Cirrus clouds', 'Cliff', 'Clouds', \n",
    "               'Coniferous tree', 'Cumulis clouds', 'Decidious tree', \n",
    "               'Diane andre', 'Dock', 'Double oval frame', 'Farm', \n",
    "               'Fence', 'Fire', 'Florida frame', 'Flowers', 'Fog', \n",
    "               'Framed', 'Grass', 'Guest', 'Half circle frame', \n",
    "               'Half oval frame', 'Hills', 'Lake', 'Lakes', 'Lighthouse', \n",
    "               'Mill', 'Moon', 'At least one mountain', 'At least two mountains', \n",
    "               'Nighttime', 'Ocean', 'Oval frame', 'Palm trees', 'Path', \n",
    "               'Person', 'Portrait', 'Rectangle 3d frame', 'Rectangular frame', \n",
    "               'River or stream', 'Rocks', 'Seashell frame', 'Snow', \n",
    "               'Snow-covered mountain', 'Split frame', 'Steve ross', \n",
    "               'Man-made structure', 'Sun', 'Tomb frame', 'At least one tree', \n",
    "               'At least two trees', 'Triple frame', 'Waterfall', 'Waves', \n",
    "               'Windmill', 'Window frame', 'Winter setting', 'Wood framed']\n",
    "\n",
    "# load the data frame\n",
    "bobross = pd.read_csv(\"assets/bobross.csv\")\n",
    "\n",
    "# enable correct rendering (unnecessary in later versions of Altair)\n",
    "alt.renderers.enable('default')\n",
    "\n",
    "# uses intermediate json files to speed things up\n",
    "alt.data_transformers.enable('json')"
   ]
  },
  {
   "cell_type": "markdown",
   "id": "signed-spectrum",
   "metadata": {
    "deletable": false,
    "editable": false,
    "nbgrader": {
     "checksum": "0e0139a10b1645890b7e0c3ea19942a0",
     "grade": false,
     "grade_id": "cell-24904bdbe489df7e",
     "locked": true,
     "schema_version": 1,
     "solution": false
    }
   },
   "source": [
    "We have a few variables defined for you that you might find useful for the rest of this exercise. First is the ```bobross``` dataframe which, has a row for every painting created by Bob (we've removed those created by guest artists)."
   ]
  },
  {
   "cell_type": "code",
   "execution_count": 3,
   "id": "floating-national",
   "metadata": {},
   "outputs": [
    {
     "output_type": "execute_result",
     "data": {
      "text/plain": [
       "    EPISODE                  TITLE RELEASE_DATE  Apple frame  Aurora borealis  \\\n",
       "8    S01E09             \"SEASCAPE\"       3/1/83            0                0   \n",
       "322  S27E03  \"RUSTIC WINTER WOODS\"      3/16/93            0                0   \n",
       "281  S23E12         \"CRIMSON TIDE\"     11/19/91            0                0   \n",
       "349  S29E05     \"COUNTRYSIDE BARN\"      9/21/93            0                0   \n",
       "113  S10E07      \"WINTER SOLITUDE\"     10/15/86            0                0   \n",
       "\n",
       "     Barn  Beach  Boat  Bridge  Building  ...  phthalo blue  phthalo green  \\\n",
       "8       0      1     0       0         0  ...      0.000000       0.279637   \n",
       "322     0      0     0       0         0  ...      0.000000       0.000000   \n",
       "281     0      1     0       0         0  ...      0.343385       0.000000   \n",
       "349     1      0     0       0         0  ...      0.414990       0.000000   \n",
       "113     0      0     0       0         0  ...      0.284615       0.000000   \n",
       "\n",
       "     prussian blue  sap green  titanium white  van dyke brown  yellow ochre  \\\n",
       "8         0.462330   0.202558        0.504803        0.222730      0.000000   \n",
       "322       0.000000   0.403685        0.309610        0.000000      0.000000   \n",
       "281       0.000000   0.000000        0.116635        0.641081      0.477046   \n",
       "349       0.452022   0.576013        0.098382        0.620796      0.457764   \n",
       "113       0.000000   0.000000        0.735547        0.110882      0.000000   \n",
       "\n",
       "                                               img_url  week_number  year  \n",
       "8    https://raw.githubusercontent.com/jwilber/Bob_...            9  1983  \n",
       "322  https://raw.githubusercontent.com/jwilber/Bob_...           11  1993  \n",
       "281  https://raw.githubusercontent.com/jwilber/Bob_...           47  1991  \n",
       "349  https://raw.githubusercontent.com/jwilber/Bob_...           38  1993  \n",
       "113  https://raw.githubusercontent.com/jwilber/Bob_...           42  1986  \n",
       "\n",
       "[5 rows x 114 columns]"
      ],
      "text/html": "<div>\n<style scoped>\n    .dataframe tbody tr th:only-of-type {\n        vertical-align: middle;\n    }\n\n    .dataframe tbody tr th {\n        vertical-align: top;\n    }\n\n    .dataframe thead th {\n        text-align: right;\n    }\n</style>\n<table border=\"1\" class=\"dataframe\">\n  <thead>\n    <tr style=\"text-align: right;\">\n      <th></th>\n      <th>EPISODE</th>\n      <th>TITLE</th>\n      <th>RELEASE_DATE</th>\n      <th>Apple frame</th>\n      <th>Aurora borealis</th>\n      <th>Barn</th>\n      <th>Beach</th>\n      <th>Boat</th>\n      <th>Bridge</th>\n      <th>Building</th>\n      <th>...</th>\n      <th>phthalo blue</th>\n      <th>phthalo green</th>\n      <th>prussian blue</th>\n      <th>sap green</th>\n      <th>titanium white</th>\n      <th>van dyke brown</th>\n      <th>yellow ochre</th>\n      <th>img_url</th>\n      <th>week_number</th>\n      <th>year</th>\n    </tr>\n  </thead>\n  <tbody>\n    <tr>\n      <th>8</th>\n      <td>S01E09</td>\n      <td>\"SEASCAPE\"</td>\n      <td>3/1/83</td>\n      <td>0</td>\n      <td>0</td>\n      <td>0</td>\n      <td>1</td>\n      <td>0</td>\n      <td>0</td>\n      <td>0</td>\n      <td>...</td>\n      <td>0.000000</td>\n      <td>0.279637</td>\n      <td>0.462330</td>\n      <td>0.202558</td>\n      <td>0.504803</td>\n      <td>0.222730</td>\n      <td>0.000000</td>\n      <td>https://raw.githubusercontent.com/jwilber/Bob_...</td>\n      <td>9</td>\n      <td>1983</td>\n    </tr>\n    <tr>\n      <th>322</th>\n      <td>S27E03</td>\n      <td>\"RUSTIC WINTER WOODS\"</td>\n      <td>3/16/93</td>\n      <td>0</td>\n      <td>0</td>\n      <td>0</td>\n      <td>0</td>\n      <td>0</td>\n      <td>0</td>\n      <td>0</td>\n      <td>...</td>\n      <td>0.000000</td>\n      <td>0.000000</td>\n      <td>0.000000</td>\n      <td>0.403685</td>\n      <td>0.309610</td>\n      <td>0.000000</td>\n      <td>0.000000</td>\n      <td>https://raw.githubusercontent.com/jwilber/Bob_...</td>\n      <td>11</td>\n      <td>1993</td>\n    </tr>\n    <tr>\n      <th>281</th>\n      <td>S23E12</td>\n      <td>\"CRIMSON TIDE\"</td>\n      <td>11/19/91</td>\n      <td>0</td>\n      <td>0</td>\n      <td>0</td>\n      <td>1</td>\n      <td>0</td>\n      <td>0</td>\n      <td>0</td>\n      <td>...</td>\n      <td>0.343385</td>\n      <td>0.000000</td>\n      <td>0.000000</td>\n      <td>0.000000</td>\n      <td>0.116635</td>\n      <td>0.641081</td>\n      <td>0.477046</td>\n      <td>https://raw.githubusercontent.com/jwilber/Bob_...</td>\n      <td>47</td>\n      <td>1991</td>\n    </tr>\n    <tr>\n      <th>349</th>\n      <td>S29E05</td>\n      <td>\"COUNTRYSIDE BARN\"</td>\n      <td>9/21/93</td>\n      <td>0</td>\n      <td>0</td>\n      <td>1</td>\n      <td>0</td>\n      <td>0</td>\n      <td>0</td>\n      <td>0</td>\n      <td>...</td>\n      <td>0.414990</td>\n      <td>0.000000</td>\n      <td>0.452022</td>\n      <td>0.576013</td>\n      <td>0.098382</td>\n      <td>0.620796</td>\n      <td>0.457764</td>\n      <td>https://raw.githubusercontent.com/jwilber/Bob_...</td>\n      <td>38</td>\n      <td>1993</td>\n    </tr>\n    <tr>\n      <th>113</th>\n      <td>S10E07</td>\n      <td>\"WINTER SOLITUDE\"</td>\n      <td>10/15/86</td>\n      <td>0</td>\n      <td>0</td>\n      <td>0</td>\n      <td>0</td>\n      <td>0</td>\n      <td>0</td>\n      <td>0</td>\n      <td>...</td>\n      <td>0.284615</td>\n      <td>0.000000</td>\n      <td>0.000000</td>\n      <td>0.000000</td>\n      <td>0.735547</td>\n      <td>0.110882</td>\n      <td>0.000000</td>\n      <td>https://raw.githubusercontent.com/jwilber/Bob_...</td>\n      <td>42</td>\n      <td>1986</td>\n    </tr>\n  </tbody>\n</table>\n<p>5 rows × 114 columns</p>\n</div>"
     },
     "metadata": {},
     "execution_count": 3
    }
   ],
   "source": [
    "# run to see what's inside\n",
    "bobross.sample(5)"
   ]
  },
  {
   "cell_type": "markdown",
   "id": "temporal-fight",
   "metadata": {
    "deletable": false,
    "editable": false,
    "nbgrader": {
     "checksum": "b357260a9d8c4232391a187d0dcf6090",
     "grade": false,
     "grade_id": "cell-a362c2f1ab97ea17",
     "locked": true,
     "schema_version": 1,
     "solution": false
    }
   },
   "source": [
    "In the dataframe you will see an episode identifier (EPISODE, which contains the season and episode number), the image title (TITLE), the release date (RELEASE_DATE as well as another column for the year). There are also a number of boolean columns for the features coded by 538. A '1' means the feature is present, a '0' means it is not. A list of those columns is available in the ```imgfeatures``` variable."
   ]
  },
  {
   "cell_type": "code",
   "execution_count": 4,
   "id": "approved-system",
   "metadata": {},
   "outputs": [
    {
     "output_type": "stream",
     "name": "stdout",
     "text": [
      "['Apple frame', 'Aurora borealis', 'Barn', 'Beach', 'Boat', 'Bridge', 'Building', 'Bushes', 'Cabin', 'Cactus', 'Circle frame', 'Cirrus clouds', 'Cliff', 'Clouds', 'Coniferous tree', 'Cumulis clouds', 'Decidious tree', 'Diane andre', 'Dock', 'Double oval frame', 'Farm', 'Fence', 'Fire', 'Florida frame', 'Flowers', 'Fog', 'Framed', 'Grass', 'Guest', 'Half circle frame', 'Half oval frame', 'Hills', 'Lake', 'Lakes', 'Lighthouse', 'Mill', 'Moon', 'At least one mountain', 'At least two mountains', 'Nighttime', 'Ocean', 'Oval frame', 'Palm trees', 'Path', 'Person', 'Portrait', 'Rectangle 3d frame', 'Rectangular frame', 'River or stream', 'Rocks', 'Seashell frame', 'Snow', 'Snow-covered mountain', 'Split frame', 'Steve ross', 'Man-made structure', 'Sun', 'Tomb frame', 'At least one tree', 'At least two trees', 'Triple frame', 'Waterfall', 'Waves', 'Windmill', 'Window frame', 'Winter setting', 'Wood framed']\n"
     ]
    }
   ],
   "source": [
    "# run to see what's inside\n",
    "print(imgfeatures)"
   ]
  },
  {
   "cell_type": "markdown",
   "id": "parliamentary-gamma",
   "metadata": {
    "deletable": false,
    "editable": false,
    "nbgrader": {
     "checksum": "1bbfb7167e7b7bfe66fc9327feb17e5a",
     "grade": false,
     "grade_id": "cell-3d589f224145ea4f",
     "locked": true,
     "schema_version": 1,
     "solution": false
    }
   },
   "source": [
    "The columns that contain the amount of each color in the paintings are listed in ```rosspaints```. There is also an analogous list variable called ```rosspainthex``` that has the hex values for the paints. These hex values are approximate."
   ]
  },
  {
   "cell_type": "code",
   "execution_count": 5,
   "id": "attractive-watch",
   "metadata": {},
   "outputs": [
    {
     "output_type": "stream",
     "name": "stdout",
     "text": [
      "paint names ['alizarin crimson', 'bright red', 'burnt umber', 'cadmium yellow', 'dark sienna', 'indian yellow', 'indian red', 'liquid black', 'liquid clear', 'black gesso', 'midnight black', 'phthalo blue', 'phthalo green', 'prussian blue', 'sap green', 'titanium white', 'van dyke brown', 'yellow ochre']\n\nhex values ['#94261f', '#c06341', '#614f4b', '#f8ed57', '#5c2f08', '#e6ba25', '#cd5c5c', '#000000', '#ffffff', '#000000', '#36373c', '#2a64ad', '#215c2c', '#325fa3', '#364e00', '#f9f7eb', '#2d1a0c', '#b28426']\n"
     ]
    }
   ],
   "source": [
    "# run to see what's inside\n",
    "print(\"paint names\",rosspaints)\n",
    "print(\"\")\n",
    "print(\"hex values\", rosspainthex)"
   ]
  },
  {
   "cell_type": "code",
   "execution_count": 6,
   "metadata": {},
   "outputs": [
    {
     "output_type": "execute_result",
     "data": {
      "text/plain": [
       "  EPISODE                  TITLE RELEASE_DATE  Apple frame  Aurora borealis  \\\n",
       "0  S01E01  \"A WALK IN THE WOODS\"      1/11/83            0                0   \n",
       "1  S01E02         \"MT. MCKINLEY\"      1/11/83            0                0   \n",
       "2  S01E03         \"EBONY SUNSET\"      1/18/83            0                0   \n",
       "3  S01E04          \"WINTER MIST\"      1/25/83            0                0   \n",
       "4  S01E05         \"QUIET STREAM\"       2/1/83            0                0   \n",
       "\n",
       "   Barn  Beach  Boat  Bridge  Building  ...  phthalo blue  phthalo green  \\\n",
       "0     0      0     0       0         0  ...           0.0       0.322915   \n",
       "1     0      0     0       0         0  ...           0.0       0.264536   \n",
       "2     0      0     0       0         0  ...           0.0       0.609190   \n",
       "3     0      0     0       0         0  ...           0.0       0.000000   \n",
       "4     0      0     0       0         0  ...           0.0       0.330331   \n",
       "\n",
       "   prussian blue  sap green  titanium white  van dyke brown  yellow ochre  \\\n",
       "0       0.335426   0.291454        0.341764        0.301478           0.0   \n",
       "1       0.333043   0.205642        0.571301        0.223015           0.0   \n",
       "2       0.226244   0.744489        0.047932        0.718768           0.0   \n",
       "3       0.489283   0.000000        0.481240        0.269215           0.0   \n",
       "4       0.364585   0.267708        0.341428        0.286462           0.0   \n",
       "\n",
       "                                             img_url  week_number  year  \n",
       "0  https://raw.githubusercontent.com/jwilber/Bob_...            2  1983  \n",
       "1  https://raw.githubusercontent.com/jwilber/Bob_...            2  1983  \n",
       "2  https://raw.githubusercontent.com/jwilber/Bob_...            3  1983  \n",
       "3  https://raw.githubusercontent.com/jwilber/Bob_...            4  1983  \n",
       "4  https://raw.githubusercontent.com/jwilber/Bob_...            5  1983  \n",
       "\n",
       "[5 rows x 114 columns]"
      ],
      "text/html": "<div>\n<style scoped>\n    .dataframe tbody tr th:only-of-type {\n        vertical-align: middle;\n    }\n\n    .dataframe tbody tr th {\n        vertical-align: top;\n    }\n\n    .dataframe thead th {\n        text-align: right;\n    }\n</style>\n<table border=\"1\" class=\"dataframe\">\n  <thead>\n    <tr style=\"text-align: right;\">\n      <th></th>\n      <th>EPISODE</th>\n      <th>TITLE</th>\n      <th>RELEASE_DATE</th>\n      <th>Apple frame</th>\n      <th>Aurora borealis</th>\n      <th>Barn</th>\n      <th>Beach</th>\n      <th>Boat</th>\n      <th>Bridge</th>\n      <th>Building</th>\n      <th>...</th>\n      <th>phthalo blue</th>\n      <th>phthalo green</th>\n      <th>prussian blue</th>\n      <th>sap green</th>\n      <th>titanium white</th>\n      <th>van dyke brown</th>\n      <th>yellow ochre</th>\n      <th>img_url</th>\n      <th>week_number</th>\n      <th>year</th>\n    </tr>\n  </thead>\n  <tbody>\n    <tr>\n      <th>0</th>\n      <td>S01E01</td>\n      <td>\"A WALK IN THE WOODS\"</td>\n      <td>1/11/83</td>\n      <td>0</td>\n      <td>0</td>\n      <td>0</td>\n      <td>0</td>\n      <td>0</td>\n      <td>0</td>\n      <td>0</td>\n      <td>...</td>\n      <td>0.0</td>\n      <td>0.322915</td>\n      <td>0.335426</td>\n      <td>0.291454</td>\n      <td>0.341764</td>\n      <td>0.301478</td>\n      <td>0.0</td>\n      <td>https://raw.githubusercontent.com/jwilber/Bob_...</td>\n      <td>2</td>\n      <td>1983</td>\n    </tr>\n    <tr>\n      <th>1</th>\n      <td>S01E02</td>\n      <td>\"MT. MCKINLEY\"</td>\n      <td>1/11/83</td>\n      <td>0</td>\n      <td>0</td>\n      <td>0</td>\n      <td>0</td>\n      <td>0</td>\n      <td>0</td>\n      <td>0</td>\n      <td>...</td>\n      <td>0.0</td>\n      <td>0.264536</td>\n      <td>0.333043</td>\n      <td>0.205642</td>\n      <td>0.571301</td>\n      <td>0.223015</td>\n      <td>0.0</td>\n      <td>https://raw.githubusercontent.com/jwilber/Bob_...</td>\n      <td>2</td>\n      <td>1983</td>\n    </tr>\n    <tr>\n      <th>2</th>\n      <td>S01E03</td>\n      <td>\"EBONY SUNSET\"</td>\n      <td>1/18/83</td>\n      <td>0</td>\n      <td>0</td>\n      <td>0</td>\n      <td>0</td>\n      <td>0</td>\n      <td>0</td>\n      <td>0</td>\n      <td>...</td>\n      <td>0.0</td>\n      <td>0.609190</td>\n      <td>0.226244</td>\n      <td>0.744489</td>\n      <td>0.047932</td>\n      <td>0.718768</td>\n      <td>0.0</td>\n      <td>https://raw.githubusercontent.com/jwilber/Bob_...</td>\n      <td>3</td>\n      <td>1983</td>\n    </tr>\n    <tr>\n      <th>3</th>\n      <td>S01E04</td>\n      <td>\"WINTER MIST\"</td>\n      <td>1/25/83</td>\n      <td>0</td>\n      <td>0</td>\n      <td>0</td>\n      <td>0</td>\n      <td>0</td>\n      <td>0</td>\n      <td>0</td>\n      <td>...</td>\n      <td>0.0</td>\n      <td>0.000000</td>\n      <td>0.489283</td>\n      <td>0.000000</td>\n      <td>0.481240</td>\n      <td>0.269215</td>\n      <td>0.0</td>\n      <td>https://raw.githubusercontent.com/jwilber/Bob_...</td>\n      <td>4</td>\n      <td>1983</td>\n    </tr>\n    <tr>\n      <th>4</th>\n      <td>S01E05</td>\n      <td>\"QUIET STREAM\"</td>\n      <td>2/1/83</td>\n      <td>0</td>\n      <td>0</td>\n      <td>0</td>\n      <td>0</td>\n      <td>0</td>\n      <td>0</td>\n      <td>0</td>\n      <td>...</td>\n      <td>0.0</td>\n      <td>0.330331</td>\n      <td>0.364585</td>\n      <td>0.267708</td>\n      <td>0.341428</td>\n      <td>0.286462</td>\n      <td>0.0</td>\n      <td>https://raw.githubusercontent.com/jwilber/Bob_...</td>\n      <td>5</td>\n      <td>1983</td>\n    </tr>\n  </tbody>\n</table>\n<p>5 rows × 114 columns</p>\n</div>"
     },
     "metadata": {},
     "execution_count": 6
    }
   ],
   "source": [
    "bobross.head()"
   ]
  },
  {
   "cell_type": "code",
   "execution_count": null,
   "metadata": {},
   "outputs": [],
   "source": []
  },
  {
   "cell_type": "markdown",
   "id": "western-headset",
   "metadata": {
    "deletable": false,
    "editable": false,
    "nbgrader": {
     "checksum": "05e4f0d4bfbd5c81e5f16ce8758e94ea",
     "grade": false,
     "grade_id": "cell-afe4fa20bfd2cddd",
     "locked": true,
     "schema_version": 1,
     "solution": false
    }
   },
   "source": [
    "### Problem 1  (20 points)\n",
    "\n",
    "As a warmup, we're going to have you recreate the [first chart from the Bob Ross article](assets/bob_ross_538.png) (source: [Statistical Analysis of Bob Ross](https://fivethirtyeight.com/features/a-statistical-analysis-of-the-work-of-bob-ross/)). This one simply shows a bar chart for the percent of images that have certain features. The Altair version is:\n",
    "\n",
    "![\"Bob Ross feature distribution\"](assets/bob_ross_altair.png)\n",
    "\n",
    "We'll be using the 538 theme for styling, so you don't have to do much beyond creating the chart (but do note that we want to see the percents, titles, and modifications to the axes).\n",
    "\n",
    "You will replace the code for ```makeBobRossBar()``` and have it return an Altair chart.  We suggest you first create a table that contains the names of the features and the percents.  Something like this:\n",
    "\n",
    "![\"Sample Table](assets/feature_table.png)\n",
    "\n",
    "Recall that this is the 'long form' representation of the data, which will make it easier to create a visualization with."
   ]
  },
  {
   "cell_type": "code",
   "execution_count": 7,
   "metadata": {},
   "outputs": [
    {
     "output_type": "execute_result",
     "data": {
      "text/html": "\n<div id=\"altair-viz-7587c79434fb45f2a0a835f4b1cfb540\"></div>\n<script type=\"text/javascript\">\n  (function(spec, embedOpt){\n    let outputDiv = document.currentScript.previousElementSibling;\n    if (outputDiv.id !== \"altair-viz-7587c79434fb45f2a0a835f4b1cfb540\") {\n      outputDiv = document.getElementById(\"altair-viz-7587c79434fb45f2a0a835f4b1cfb540\");\n    }\n    const paths = {\n      \"vega\": \"https://cdn.jsdelivr.net/npm//vega@5?noext\",\n      \"vega-lib\": \"https://cdn.jsdelivr.net/npm//vega-lib?noext\",\n      \"vega-lite\": \"https://cdn.jsdelivr.net/npm//vega-lite@4.8.1?noext\",\n      \"vega-embed\": \"https://cdn.jsdelivr.net/npm//vega-embed@6?noext\",\n    };\n\n    function loadScript(lib) {\n      return new Promise(function(resolve, reject) {\n        var s = document.createElement('script');\n        s.src = paths[lib];\n        s.async = true;\n        s.onload = () => resolve(paths[lib]);\n        s.onerror = () => reject(`Error loading script: ${paths[lib]}`);\n        document.getElementsByTagName(\"head\")[0].appendChild(s);\n      });\n    }\n\n    function showError(err) {\n      outputDiv.innerHTML = `<div class=\"error\" style=\"color:red;\">${err}</div>`;\n      throw err;\n    }\n\n    function displayChart(vegaEmbed) {\n      vegaEmbed(outputDiv, spec, embedOpt)\n        .catch(err => showError(`Javascript Error: ${err.message}<br>This usually means there's a typo in your chart specification. See the javascript console for the full traceback.`));\n    }\n\n    if(typeof define === \"function\" && define.amd) {\n      requirejs.config({paths});\n      require([\"vega-embed\"], displayChart, err => showError(`Error loading script: ${err.message}`));\n    } else if (typeof vegaEmbed === \"function\") {\n      displayChart(vegaEmbed);\n    } else {\n      loadScript(\"vega\")\n        .then(() => loadScript(\"vega-lite\"))\n        .then(() => loadScript(\"vega-embed\"))\n        .catch(showError)\n        .then(() => displayChart(vegaEmbed));\n    }\n  })({\"usermeta\": {\"embedOptions\": {\"theme\": \"fivethirtyeight\"}}, \"config\": {\"view\": {\"continuousWidth\": 400, \"continuousHeight\": 300, \"strokeWidth\": 0}}, \"layer\": [{\"mark\": {\"type\": \"text\", \"align\": \"left\", \"baseline\": \"middle\", \"dx\": 3}, \"encoding\": {\"text\": {\"type\": \"quantitative\", \"field\": \"Percent\", \"format\": \".0%\"}, \"x\": {\"type\": \"quantitative\", \"axis\": null, \"field\": \"Percent\"}, \"y\": {\"type\": \"nominal\", \"axis\": {\"tickCount\": 5, \"title\": \" \"}, \"field\": \"Index\", \"sort\": [\"At least one tree\", \"At least two trees\", \"Decidious tree\", \"Coniferous tree\", \"Clouds\", \"At least one mountain\", \"Grass\", \"Lake\", \"River or stream\", \"Bushes\", \"Snow-covered mountain\", \"At least two mountains\", \"Man-made structure\", \"Cumulis clouds\", \"Rocks\", \"Snow\", \"Cabin\", \"Winter setting\", \"Framed\", \"Path\", \"Oval frame\", \"Sun\", \"Ocean\", \"Waterfall\", \"Waves\", \"Beach\", \"Cirrus clouds\", \"Fence\", \"Fog\", \"Barn\", \"Hills\", \"Nighttime\", \"Palm trees\", \"Flowers\", \"Cliff\", \"Bridge\"]}}}, {\"mark\": {\"type\": \"bar\", \"size\": 15}, \"encoding\": {\"x\": {\"type\": \"quantitative\", \"axis\": null, \"field\": \"Percent\"}, \"y\": {\"type\": \"nominal\", \"axis\": {\"tickCount\": 5, \"title\": \" \"}, \"field\": \"Index\", \"sort\": [\"At least one tree\", \"At least two trees\", \"Decidious tree\", \"Coniferous tree\", \"Clouds\", \"At least one mountain\", \"Grass\", \"Lake\", \"River or stream\", \"Bushes\", \"Snow-covered mountain\", \"At least two mountains\", \"Man-made structure\", \"Cumulis clouds\", \"Rocks\", \"Snow\", \"Cabin\", \"Winter setting\", \"Framed\", \"Path\", \"Oval frame\", \"Sun\", \"Ocean\", \"Waterfall\", \"Waves\", \"Beach\", \"Cirrus clouds\", \"Fence\", \"Fog\", \"Barn\", \"Hills\", \"Nighttime\", \"Palm trees\", \"Flowers\", \"Cliff\", \"Bridge\"]}}}], \"data\": {\"url\": \"altair-data-0b08b7e0e6934ecb0b51c6169db0efb0.json\", \"format\": {\"type\": \"json\"}}, \"title\": {\"text\": \"The Paintings of Bob Ross\", \"subtitle\": \"Percentage containing each element\"}, \"$schema\": \"https://vega.github.io/schema/vega-lite/v4.8.1.json\"}, {\"mode\": \"vega-lite\"});\n</script>",
      "text/plain": [
       "alt.LayerChart(...)"
      ]
     },
     "metadata": {},
     "execution_count": 7
    }
   ],
   "source": [
    "new = bobross[['Apple frame', 'Aurora borealis', 'Barn', 'Beach', 'Boat', 'Bridge', 'Building', 'Bushes', 'Cabin', 'Cactus', 'Circle frame', 'Cirrus clouds', 'Cliff', 'Clouds', 'Coniferous tree', 'Cumulis clouds', 'Decidious tree', 'Diane andre', 'Dock', 'Double oval frame', 'Farm', 'Fence', 'Fire', 'Florida frame', 'Flowers', 'Fog', 'Framed', 'Grass', 'Guest', 'Half circle frame', 'Half oval frame', 'Hills', 'Lake', 'Lakes', 'Lighthouse', 'Mill', 'Moon', 'At least one mountain', 'At least two mountains', 'Nighttime', 'Ocean', 'Oval frame', 'Palm trees', 'Path', 'Person', 'Portrait', 'Rectangle 3d frame', 'Rectangular frame', 'River or stream', 'Rocks', 'Seashell frame', 'Snow', 'Snow-covered mountain', 'Split frame', 'Steve ross', 'Man-made structure', 'Sun', 'Tomb frame', 'At least one tree', 'At least two trees', 'Triple frame', 'Waterfall', 'Waves', 'Windmill', 'Window frame', 'Winter setting', 'Wood framed']].copy()\n",
    "\n",
    "new2 = pd.DataFrame({'Index':['Apple frame', 'Aurora borealis', 'Barn', 'Beach', 'Boat', 'Bridge', 'Building', 'Bushes', 'Cabin', 'Cactus', 'Circle frame', 'Cirrus clouds', 'Cliff', 'Clouds', 'Coniferous tree', 'Cumulis clouds', 'Decidious tree', 'Diane andre', 'Dock', 'Double oval frame', 'Farm', 'Fence', 'Fire', 'Florida frame', 'Flowers', 'Fog', 'Framed', 'Grass', 'Guest', 'Half circle frame', 'Half oval frame', 'Hills', 'Lake', 'Lakes', 'Lighthouse', 'Mill', 'Moon', 'At least one mountain', 'At least two mountains', 'Nighttime', 'Ocean', 'Oval frame', 'Palm trees', 'Path', 'Person', 'Portrait', 'Rectangle 3d frame', 'Rectangular frame', 'River or stream', 'Rocks', 'Seashell frame', 'Snow', 'Snow-covered mountain', 'Split frame', 'Steve ross', 'Man-made structure', 'Sun', 'Tomb frame', 'At least one tree', 'At least two trees', 'Triple frame', 'Waterfall', 'Waves', 'Windmill', 'Window frame', 'Winter setting', 'Wood framed'], 'Value':new.apply(np.sum, axis=0)})\n",
    "new2.reset_index(inplace=True)\n",
    "new2.drop(columns='index', inplace=True)\n",
    "new2['Percent'] = new2['Value'] / 381\n",
    "new2.sort_values('Percent', ascending=False, inplace=True)\n",
    "new2.drop(columns='Value', inplace=True)\n",
    "new2 = new2[new2['Percent'] >= 0.018]\n",
    "\n",
    "\n",
    "bars = alt.Chart(new2).mark_bar(size=15).encode(\n",
    "    x=alt.X(\n",
    "        'Percent',\n",
    "        axis=None\n",
    "    ),\n",
    "    y=alt.Y(\n",
    "        'Index:N',\n",
    "        axis=alt.Axis(tickCount=5, title=' '),\n",
    "        sort=new2['Index'].tolist()\n",
    "    )\n",
    ")\n",
    "\n",
    "text = bars.mark_text(\n",
    "    align='left',\n",
    "    baseline='middle',\n",
    "    dx=3\n",
    ").encode(\n",
    "    text=alt.Text('Percent:Q', format='.0%')\n",
    ")\n",
    "\n",
    "alt.themes.enable('fivethirtyeight')\n",
    "\n",
    "paintings = (text + bars).configure_view(\n",
    "    strokeWidth=0\n",
    ").properties(\n",
    "    title={\n",
    "        \"text\": \"The Paintings of Bob Ross\",\n",
    "        \"subtitle\":\"Percentage containing each element\"}\n",
    ")\n",
    "paintings"
   ]
  },
  {
   "cell_type": "code",
   "execution_count": 8,
   "id": "cognitive-electronics",
   "metadata": {
    "deletable": false,
    "nbgrader": {
     "checksum": "2fca72c8b8d6e961edfbca5baffbb8d4",
     "grade": true,
     "grade_id": "cell-b18b9fb7fd57179b",
     "locked": false,
     "points": 0,
     "schema_version": 1,
     "solution": true
    }
   },
   "outputs": [],
   "source": [
    "# def makeBobRossBar():\n",
    "#     # implement this function to return an altair chart\n",
    "#     # return alt.Chart(...)\n",
    "    \n",
    "#     # YOUR CODE HERE\n",
    "#     raise NotImplementedError()"
   ]
  },
  {
   "cell_type": "code",
   "execution_count": 9,
   "id": "indie-strain",
   "metadata": {},
   "outputs": [],
   "source": [
    "# # run this code to validate\n",
    "# alt.themes.enable('fivethirtyeight')\n",
    "# makeBobRossBar()"
   ]
  },
  {
   "cell_type": "markdown",
   "id": "tough-durham",
   "metadata": {
    "deletable": false,
    "editable": false,
    "nbgrader": {
     "checksum": "cf6ba59f7419d7debb96c4705b0e04fd",
     "grade": false,
     "grade_id": "cell-5567c96a6b163cad",
     "locked": true,
     "schema_version": 1,
     "solution": false
    }
   },
   "source": [
    "## Problem 2 (25 points)\n",
    "\n",
    "The 538 article ([Statistical Analysis of Bob Ross](https://fivethirtyeight.com/features/a-statistical-analysis-of-the-work-of-bob-ross/)) has a long analysis of conditional probabilities. Essentially, we want to know the probability of one feature given another (e.g., what is the probability of Snow given Trees?). The article calculates this over the entire history of the show, but we would like to visualize these probabilities over time. Have they been constant? or evolving?  We will only be doing this for a few variables (otherwise, we'll have a matrix of over 3000 small charts). Specifically, we care about images that contain: 'At least one tree','At least two trees','Clouds','Grass','At least one mountain','Lake.' Each small multiple plot will be a line chart corresponding to the conditional probability over time. The matrix \"cell\" indicates which pairs of variables are being considered (e.g., probability of at least two trees given the probability of at least one tree is the 2nd row, first column in our example).\n",
    "\n",
    "Your task will be to generate the small multiples plot below:\n",
    "\n",
    "![\"Small multiples\"](assets/matrix_small.png)\n",
    "\n",
    "The full image is [available here](assets/matrix_full.png). While your small multiples visualization should contain all this data, you can ***feel free to style it as you think is appropriate***. We will be grading (minimally) on aesthetics. Implement the code for the function: ```makeBobRossCondProb()``` to return this chart.\n",
    "\n",
    "Some notes on doing this exercise:\n",
    "\n",
    "* If you don't remember how to calculate conditional probabilities, take a look at the article. Remember, we want the conditional probabilities given the images in a specific year. This is simply an implementation of Bayes' Theorem. We implemented a function called ```condprobability(...)``` as you can see below. You can do the same or pick your own strategy for this.\n",
    "\n",
    "* We suggest creating a long-form representation of the table for this data. For example, here's a sample of ours (you can use this to double this sample for your calculations):\n",
    "\n",
    "![\"Long form conditional probabilities](assets/cond_prob_table.png)\n",
    "\n",
    "* There are a number of strategies to build the small-multiple plots. Some are easier than others. You will find in this case that some combinations of repeated charts and faceting will not work. However, you should be able to use the standard concatenation approaches in combination with repeated charts or faceting."
   ]
  },
  {
   "cell_type": "code",
   "execution_count": 10,
   "id": "realistic-vanilla",
   "metadata": {
    "deletable": false,
    "nbgrader": {
     "checksum": "63dd774948487b6b48b4dd324814a40f",
     "grade": true,
     "grade_id": "cell-6a10cbd18a815c64",
     "locked": false,
     "points": 0,
     "schema_version": 1,
     "solution": true
    }
   },
   "outputs": [],
   "source": [
    "def condprobability(frame,column1,column2,year):\n",
    "    # we suggest you implement this function to make your life easier. It should take a datafame as input,\n",
    "    # the two columns we want the conditional probability for, and the year for which we want to compare\n",
    "    # you can make variants of this function as you see fit\n",
    "    df = frame[frame['year'] == year]\n",
    "    cond_prob = (len(df.loc[(df[column1] == 1) & (df[column2] == 1)]) / df[column2].sum())\n",
    "    return cond_prob \n",
    "    # YOUR CODE HERE\n",
    "    # raise NotImplementedError()\n",
    "cols = ['Lake','Clouds','Grass','At least one tree','At least two trees','At least one mountain']\n",
    "years = [1983,1984,1985,1986,1987,1988,1989,1990,1991,1992,1993]\n",
    "cond_prob = []\n",
    "for column1 in cols:\n",
    "    for column2 in cols:\n",
    "        for year in years:\n",
    "            cond_prob.append([column1, column2, year, condprobability(bobross, column1, column2, year)])\n",
    "            \n",
    "cond_prob_df = pd.DataFrame(cond_prob, columns=['key1','key2','year','prob'])"
   ]
  },
  {
   "cell_type": "code",
   "execution_count": 11,
   "metadata": {},
   "outputs": [],
   "source": [
    "df = cond_prob_df[cond_prob_df['key1'] == 'At least one tree']\n",
    "chart1 = alt.Chart(df).mark_line().encode(\n",
    "            alt.X('year', title=None, axis=alt.Axis(tickCount=8)),\n",
    "            alt.Y('prob', title=[\"Probability of\", \"At least one tree\"]),\n",
    "            facet=alt.Facet('key2', title=\"Given...\")\n",
    "        ).properties(width=100, height=100\n",
    "        )"
   ]
  },
  {
   "cell_type": "code",
   "execution_count": 12,
   "metadata": {},
   "outputs": [],
   "source": [
    "df = cond_prob_df[cond_prob_df['key1'] == 'At least two trees']\n",
    "chart2 = alt.Chart(df).mark_line().encode(\n",
    "            alt.X('year', title=None, axis=alt.Axis(tickCount=8)),\n",
    "            alt.Y('prob', title=[\"Propability of\", \"At least two trees\"]),\n",
    "            facet=alt.Facet('key2', title=\"Given...\")\n",
    "        ).properties(width=100, height=100\n",
    "        )"
   ]
  },
  {
   "cell_type": "code",
   "execution_count": 13,
   "metadata": {},
   "outputs": [],
   "source": [
    "df = cond_prob_df[cond_prob_df['key1'] == 'Clouds']\n",
    "chart3 = alt.Chart(df).mark_line().encode(\n",
    "            alt.X('year', title=None, axis=alt.Axis(tickCount=8)),\n",
    "            alt.Y('prob', title=[\"Probability of\", \"Clouds\"]),\n",
    "            facet=alt.Facet('key2', title=\"Given...\")\n",
    "        ).properties(width=100, height=100\n",
    "        )"
   ]
  },
  {
   "cell_type": "code",
   "execution_count": 14,
   "metadata": {},
   "outputs": [],
   "source": [
    "df = cond_prob_df[cond_prob_df['key1'] == 'Grass']\n",
    "chart4 = alt.Chart(df).mark_line().encode(\n",
    "            alt.X('year', title=None, axis=alt.Axis(tickCount=8)),\n",
    "            alt.Y('prob', title=[\"Probability of\", \"Grass\"]),\n",
    "            facet=alt.Facet('key2', title=\"Given...\")\n",
    "        ).properties(width=100, height=100\n",
    "        )"
   ]
  },
  {
   "cell_type": "code",
   "execution_count": 15,
   "metadata": {},
   "outputs": [],
   "source": [
    "df = cond_prob_df[cond_prob_df['key1'] == 'At least one mountain']\n",
    "chart5 = alt.Chart(df).mark_line().encode(\n",
    "            alt.X('year', title=None, axis=alt.Axis(tickCount=8)),\n",
    "            alt.Y('prob', title=[\"Probability of\", \"At least one mountain\"]),\n",
    "            facet=alt.Facet('key2', title=\"Given...\")\n",
    "        ).properties(width=100, height=100\n",
    "        )"
   ]
  },
  {
   "cell_type": "code",
   "execution_count": 16,
   "metadata": {},
   "outputs": [],
   "source": [
    "df = cond_prob_df[cond_prob_df['key1'] == 'Lake']\n",
    "chart6 = alt.Chart(df).mark_line().encode(\n",
    "            alt.X('year', title=None, axis=alt.Axis(tickCount=8)),\n",
    "            alt.Y('prob', title=[\"Probability of\", \"Lake\"]),\n",
    "            facet=alt.Facet('key2', title=\"Given...\")\n",
    "        ).properties(width=100, height=100\n",
    "        )"
   ]
  },
  {
   "cell_type": "code",
   "execution_count": 17,
   "metadata": {},
   "outputs": [
    {
     "output_type": "execute_result",
     "data": {
      "text/html": "\n<div id=\"altair-viz-15e54e1b0b6840039904688e266cabf3\"></div>\n<script type=\"text/javascript\">\n  (function(spec, embedOpt){\n    let outputDiv = document.currentScript.previousElementSibling;\n    if (outputDiv.id !== \"altair-viz-15e54e1b0b6840039904688e266cabf3\") {\n      outputDiv = document.getElementById(\"altair-viz-15e54e1b0b6840039904688e266cabf3\");\n    }\n    const paths = {\n      \"vega\": \"https://cdn.jsdelivr.net/npm//vega@5?noext\",\n      \"vega-lib\": \"https://cdn.jsdelivr.net/npm//vega-lib?noext\",\n      \"vega-lite\": \"https://cdn.jsdelivr.net/npm//vega-lite@4.8.1?noext\",\n      \"vega-embed\": \"https://cdn.jsdelivr.net/npm//vega-embed@6?noext\",\n    };\n\n    function loadScript(lib) {\n      return new Promise(function(resolve, reject) {\n        var s = document.createElement('script');\n        s.src = paths[lib];\n        s.async = true;\n        s.onload = () => resolve(paths[lib]);\n        s.onerror = () => reject(`Error loading script: ${paths[lib]}`);\n        document.getElementsByTagName(\"head\")[0].appendChild(s);\n      });\n    }\n\n    function showError(err) {\n      outputDiv.innerHTML = `<div class=\"error\" style=\"color:red;\">${err}</div>`;\n      throw err;\n    }\n\n    function displayChart(vegaEmbed) {\n      vegaEmbed(outputDiv, spec, embedOpt)\n        .catch(err => showError(`Javascript Error: ${err.message}<br>This usually means there's a typo in your chart specification. See the javascript console for the full traceback.`));\n    }\n\n    if(typeof define === \"function\" && define.amd) {\n      requirejs.config({paths});\n      require([\"vega-embed\"], displayChart, err => showError(`Error loading script: ${err.message}`));\n    } else if (typeof vegaEmbed === \"function\") {\n      displayChart(vegaEmbed);\n    } else {\n      loadScript(\"vega\")\n        .then(() => loadScript(\"vega-lite\"))\n        .then(() => loadScript(\"vega-embed\"))\n        .catch(showError)\n        .then(() => displayChart(vegaEmbed));\n    }\n  })({\"usermeta\": {\"embedOptions\": {\"theme\": \"fivethirtyeight\"}}, \"config\": {\"view\": {\"continuousWidth\": 400, \"continuousHeight\": 300}, \"header\": {\"labelFontSize\": 12}}, \"vconcat\": [{\"data\": {\"url\": \"altair-data-42853321e687390627f788627a7eb7df.json\", \"format\": {\"type\": \"json\"}}, \"mark\": \"line\", \"encoding\": {\"facet\": {\"type\": \"nominal\", \"field\": \"key2\", \"title\": \"Given...\"}, \"x\": {\"type\": \"quantitative\", \"axis\": {\"tickCount\": 8}, \"field\": \"year\", \"title\": null}, \"y\": {\"type\": \"quantitative\", \"field\": \"prob\", \"title\": [\"Probability of\", \"At least one tree\"]}}, \"height\": 100, \"width\": 100}, {\"data\": {\"url\": \"altair-data-78736fd533cdb6a7e44f395e4e8686bb.json\", \"format\": {\"type\": \"json\"}}, \"mark\": \"line\", \"encoding\": {\"facet\": {\"type\": \"nominal\", \"field\": \"key2\", \"title\": \"Given...\"}, \"x\": {\"type\": \"quantitative\", \"axis\": {\"tickCount\": 8}, \"field\": \"year\", \"title\": null}, \"y\": {\"type\": \"quantitative\", \"field\": \"prob\", \"title\": [\"Propability of\", \"At least two trees\"]}}, \"height\": 100, \"width\": 100}, {\"data\": {\"url\": \"altair-data-6b8fb6a0e66c8c7dbb423eaacfe4662e.json\", \"format\": {\"type\": \"json\"}}, \"mark\": \"line\", \"encoding\": {\"facet\": {\"type\": \"nominal\", \"field\": \"key2\", \"title\": \"Given...\"}, \"x\": {\"type\": \"quantitative\", \"axis\": {\"tickCount\": 8}, \"field\": \"year\", \"title\": null}, \"y\": {\"type\": \"quantitative\", \"field\": \"prob\", \"title\": [\"Probability of\", \"Clouds\"]}}, \"height\": 100, \"width\": 100}, {\"data\": {\"url\": \"altair-data-356a3b8e505b28b74279d04970166f1f.json\", \"format\": {\"type\": \"json\"}}, \"mark\": \"line\", \"encoding\": {\"facet\": {\"type\": \"nominal\", \"field\": \"key2\", \"title\": \"Given...\"}, \"x\": {\"type\": \"quantitative\", \"axis\": {\"tickCount\": 8}, \"field\": \"year\", \"title\": null}, \"y\": {\"type\": \"quantitative\", \"field\": \"prob\", \"title\": [\"Probability of\", \"Grass\"]}}, \"height\": 100, \"width\": 100}, {\"data\": {\"url\": \"altair-data-b171cfabfc141b57d825c71a8744d171.json\", \"format\": {\"type\": \"json\"}}, \"mark\": \"line\", \"encoding\": {\"facet\": {\"type\": \"nominal\", \"field\": \"key2\", \"title\": \"Given...\"}, \"x\": {\"type\": \"quantitative\", \"axis\": {\"tickCount\": 8}, \"field\": \"year\", \"title\": null}, \"y\": {\"type\": \"quantitative\", \"field\": \"prob\", \"title\": [\"Probability of\", \"At least one mountain\"]}}, \"height\": 100, \"width\": 100}, {\"data\": {\"url\": \"altair-data-42c91e0cbe454473f85680dc834879ed.json\", \"format\": {\"type\": \"json\"}}, \"mark\": \"line\", \"encoding\": {\"facet\": {\"type\": \"nominal\", \"field\": \"key2\", \"title\": \"Given...\"}, \"x\": {\"type\": \"quantitative\", \"axis\": {\"tickCount\": 8}, \"field\": \"year\", \"title\": null}, \"y\": {\"type\": \"quantitative\", \"field\": \"prob\", \"title\": [\"Probability of\", \"Lake\"]}}, \"height\": 100, \"width\": 100}], \"$schema\": \"https://vega.github.io/schema/vega-lite/v4.8.1.json\"}, {\"mode\": \"vega-lite\"});\n</script>",
      "text/plain": [
       "alt.VConcatChart(...)"
      ]
     },
     "metadata": {},
     "execution_count": 17
    }
   ],
   "source": [
    "chart = alt.vconcat(chart1, chart2, chart3, chart4, chart5, chart6).configure_header(labelFontSize=12)\n",
    "chart"
   ]
  },
  {
   "cell_type": "code",
   "execution_count": 18,
   "id": "strange-processing",
   "metadata": {},
   "outputs": [],
   "source": [
    "# run this cell to test your code\n",
    "# makeBobRossCondProb()"
   ]
  },
  {
   "cell_type": "markdown",
   "id": "sustained-cattle",
   "metadata": {},
   "source": [
    "### Additional comments\n",
    "\n",
    "If you deviated from our example, please use this cell to give us additional information about your design choices and why you think they are an improvement.\n"
   ]
  },
  {
   "cell_type": "markdown",
   "id": "liked-century",
   "metadata": {
    "deletable": false,
    "editable": false,
    "nbgrader": {
     "checksum": "676e2d6d59d61c2f1f1a29e68ff7f9ae",
     "grade": false,
     "grade_id": "cell-f45cafc2224afe4a",
     "locked": true,
     "schema_version": 1,
     "solution": false
    }
   },
   "source": [
    "## Problem 3 (25 points)\n",
    "\n",
    "Recall that in some cases of multidimensional data a good strategy is to use dimensionality reduction to visualize the information. Here, we would like to understand how images are similar to each other in 'feature' space. Specifically, how similar are they based on the image features? Are images that have beaches close to those with waves? \n",
    "\n",
    "We are going to create a 2D MDS plot using the scikit learn package. We're going to do most of this for you in the next cell. Essentially we will use the euclidean distance between two images based on their image feature array to create the image. Your plot may look slightly different than ours based on the random seed (e.g., rotated or reflected), but in the end, it should be close. If you're interested in how this is calculated, we suggest taking a look at [this documentation](https://scikit-learn.org/stable/modules/generated/sklearn.manifold.MDS.html)\n",
    "\n",
    "Note that the next cell may take a minute or so to run, depending on the server.  "
   ]
  },
  {
   "cell_type": "code",
   "execution_count": 19,
   "id": "motivated-marketing",
   "metadata": {},
   "outputs": [],
   "source": [
    "# create the seed\n",
    "seed = np.random.RandomState(seed=3)\n",
    "\n",
    "# generate the MDS configuration, we want 2 components, etc. You can tweak this if you want to see how\n",
    "# the settings change the layout\n",
    "mds = manifold.MDS(n_components=2, max_iter=3000, eps=1e-9, random_state=seed, n_jobs=1)\n",
    "\n",
    "# fit the data. At the end, 'pos' will hold the x,y coordinates\n",
    "pos = mds.fit(bobross[imgfeatures]).embedding_\n",
    "\n",
    "# we'll now load those values into the bobross data frame, giving us a new x column and y column\n",
    "bobross['x'] = [x[0] for x in pos]\n",
    "bobross['y'] = [x[1] for x in pos]"
   ]
  },
  {
   "cell_type": "markdown",
   "id": "composed-graphics",
   "metadata": {
    "deletable": false,
    "editable": false,
    "nbgrader": {
     "checksum": "6867ac194642ec5a0e296c814a217341",
     "grade": false,
     "grade_id": "cell-b26083cad18c0237",
     "locked": true,
     "schema_version": 1,
     "solution": false
    }
   },
   "source": [
    "Your task is to implement the visualization for the MDS layout. We will be using a new mark, ```mark_image```, for this. You can read all about this mark on the Altair site [here](https://altair-viz.github.io/user_guide/marks.html#user-guide-image-mark). Note that we all already saved the images for you. They are accessible in the img_url column in the bobross table. You will use the ```url``` encode argument to mark_image to make this work.\n",
    "\n",
    "In this case, we would also like to emphasize all the images that *have* a specific feature. So when you define your ```genMDSPlot()``` function below, it should take a key string as an argument (e.g., 'Beach') and visually highlight those images. A simple way to do this is to use a second mark underneath the image (e.g., a rectangle) that is a different color based on the absence or presence of the image.  Here's an example output for ```genMDSPlot(\"Palm trees\")```:\n",
    "\n",
    "![\"mds\"](assets/mds_small.png)\n",
    "\n",
    "Click [here](assets/mds_large.png) for a large version of this image. Notice the orange boxes indicating where the Palm tree images are. Note that we have styled the MDS plot to not have axes. Recall that these are meaningless in MDS 'space' (this is not a scatterplot, it's a projection)."
   ]
  },
  {
   "cell_type": "code",
   "execution_count": 20,
   "metadata": {},
   "outputs": [
    {
     "output_type": "execute_result",
     "data": {
      "text/html": "\n<div id=\"altair-viz-ddd89b17a36946f08731375d1c666e05\"></div>\n<script type=\"text/javascript\">\n  (function(spec, embedOpt){\n    let outputDiv = document.currentScript.previousElementSibling;\n    if (outputDiv.id !== \"altair-viz-ddd89b17a36946f08731375d1c666e05\") {\n      outputDiv = document.getElementById(\"altair-viz-ddd89b17a36946f08731375d1c666e05\");\n    }\n    const paths = {\n      \"vega\": \"https://cdn.jsdelivr.net/npm//vega@5?noext\",\n      \"vega-lib\": \"https://cdn.jsdelivr.net/npm//vega-lib?noext\",\n      \"vega-lite\": \"https://cdn.jsdelivr.net/npm//vega-lite@4.8.1?noext\",\n      \"vega-embed\": \"https://cdn.jsdelivr.net/npm//vega-embed@6?noext\",\n    };\n\n    function loadScript(lib) {\n      return new Promise(function(resolve, reject) {\n        var s = document.createElement('script');\n        s.src = paths[lib];\n        s.async = true;\n        s.onload = () => resolve(paths[lib]);\n        s.onerror = () => reject(`Error loading script: ${paths[lib]}`);\n        document.getElementsByTagName(\"head\")[0].appendChild(s);\n      });\n    }\n\n    function showError(err) {\n      outputDiv.innerHTML = `<div class=\"error\" style=\"color:red;\">${err}</div>`;\n      throw err;\n    }\n\n    function displayChart(vegaEmbed) {\n      vegaEmbed(outputDiv, spec, embedOpt)\n        .catch(err => showError(`Javascript Error: ${err.message}<br>This usually means there's a typo in your chart specification. See the javascript console for the full traceback.`));\n    }\n\n    if(typeof define === \"function\" && define.amd) {\n      requirejs.config({paths});\n      require([\"vega-embed\"], displayChart, err => showError(`Error loading script: ${err.message}`));\n    } else if (typeof vegaEmbed === \"function\") {\n      displayChart(vegaEmbed);\n    } else {\n      loadScript(\"vega\")\n        .then(() => loadScript(\"vega-lite\"))\n        .then(() => loadScript(\"vega-embed\"))\n        .catch(showError)\n        .then(() => displayChart(vegaEmbed));\n    }\n  })({\"usermeta\": {\"embedOptions\": {\"theme\": \"fivethirtyeight\"}}, \"config\": {\"view\": {\"continuousWidth\": 400, \"continuousHeight\": 300, \"strokeWidth\": 0}}, \"layer\": [{\"mark\": {\"type\": \"square\", \"size\": 300}, \"encoding\": {\"color\": {\"type\": \"nominal\", \"field\": \"Palm trees\"}, \"x\": {\"type\": \"quantitative\", \"axis\": null, \"field\": \"x\", \"title\": null}, \"y\": {\"type\": \"quantitative\", \"axis\": null, \"field\": \"y\", \"title\": null}}, \"height\": 500, \"width\": 500}, {\"mark\": {\"type\": \"image\", \"height\": 15, \"width\": 15}, \"encoding\": {\"url\": {\"type\": \"nominal\", \"field\": \"img_url\"}, \"x\": {\"type\": \"quantitative\", \"axis\": null, \"field\": \"x\", \"title\": null}, \"y\": {\"type\": \"quantitative\", \"axis\": null, \"field\": \"y\", \"title\": null}}}], \"data\": {\"url\": \"altair-data-39419d8790e1df2aeb013e08f06bf868.json\", \"format\": {\"type\": \"json\"}}, \"$schema\": \"https://vega.github.io/schema/vega-lite/v4.8.1.json\"}, {\"mode\": \"vega-lite\"});\n</script>",
      "text/plain": [
       "alt.LayerChart(...)"
      ]
     },
     "metadata": {},
     "execution_count": 20
    }
   ],
   "source": [
    "image = alt.Chart(bobross).mark_image(\n",
    "        width=15,\n",
    "        height=15,\n",
    "    ).encode(\n",
    "        alt.X('x', title=None, axis=None),\n",
    "        alt.Y('y', title=None, axis=None),\n",
    "        url='img_url'\n",
    "    )\n",
    "back = alt.Chart(bobross).mark_square(size=300).encode(\n",
    "        alt.X('x', title=None, axis=None),\n",
    "        alt.Y('y', title=None, axis=None),\n",
    "        color='Palm trees:N'\n",
    "    ).properties(\n",
    "        width=500,\n",
    "        height=500\n",
    "    )\n",
    "alt.layer(\n",
    "    back,\n",
    "    image\n",
    ").configure_view(\n",
    "    strokeWidth=0\n",
    ")"
   ]
  },
  {
   "cell_type": "code",
   "execution_count": 21,
   "id": "significant-quality",
   "metadata": {
    "deletable": false,
    "nbgrader": {
     "checksum": "cb6e740caf20dc942c0346fd48ad9f01",
     "grade": true,
     "grade_id": "cell-7b982217b3c93b9c",
     "locked": false,
     "points": 0,
     "schema_version": 1,
     "solution": true
    }
   },
   "outputs": [],
   "source": [
    "def genMDSPlot(key):\n",
    "    # return an altair chart (e.g., return alt.Chart(...))\n",
    "    # key is a string indicating which images should be visually highlighted (i.e., images containing the feature\n",
    "    # should be made salient)\n",
    "    image = alt.Chart(bobross).mark_image(\n",
    "        width=15,\n",
    "        height=15,\n",
    "    ).encode(\n",
    "        alt.X('x', title=None, axis=None),\n",
    "        alt.Y('y', title=None, axis=None),\n",
    "        url='img_url'\n",
    "    )\n",
    "    back = alt.Chart(bobross).mark_square(size=300).encode(\n",
    "            alt.X('x', title=None, axis=None),\n",
    "            alt.Y('y', title=None, axis=None),\n",
    "            color=alt.Color(key, type='nominal', legend=alt.Legend(title=key))\n",
    "        ).properties(\n",
    "            width=500,\n",
    "            height=500\n",
    "        )\n",
    "    return alt.layer(back, image).configure_view(strokeWidth=0)\n",
    "\n",
    "    # YOUR CODE HERE\n",
    "    # raise NotImplementedError()\n",
    "    "
   ]
  },
  {
   "cell_type": "markdown",
   "id": "forbidden-wallet",
   "metadata": {
    "deletable": false,
    "editable": false,
    "nbgrader": {
     "checksum": "131c90747ae41641a46a19bbf07bd112",
     "grade": false,
     "grade_id": "cell-02faecd16311d536",
     "locked": true,
     "schema_version": 1,
     "solution": false
    }
   },
   "source": [
    "We are going to create an interactive widget that allows you to select the feature you want to be highlighted. If you implemented your ```genMDSPlot``` code correctly, the plot should change when you select new items from the list. We would ordinarily do this directly in Altair, but because we don't have control over the way you created your visualization, it's easiest for us to use the widgets built into Jupyter.\n",
    "\n",
    "It should look something like this:\n",
    "\n",
    "![\"mds interactive\"](assets/interactive_mds.png)"
   ]
  },
  {
   "cell_type": "code",
   "execution_count": 22,
   "id": "frozen-container",
   "metadata": {},
   "outputs": [
    {
     "output_type": "display_data",
     "data": {
      "text/plain": "Dropdown(description='Highlight:', options=('Barn', 'Beach', 'Bridge', 'Bushes', 'Cabin', 'Cactus', 'Cirrus cl…",
      "application/vnd.jupyter.widget-view+json": {
       "version_major": 2,
       "version_minor": 0,
       "model_id": "9e7b08142f4c4968888b04486b580a95"
      }
     },
     "metadata": {}
    },
    {
     "output_type": "display_data",
     "data": {
      "text/plain": "Output()",
      "application/vnd.jupyter.widget-view+json": {
       "version_major": 2,
       "version_minor": 0,
       "model_id": "84b8b50646e4468d812d8e78d4c1fee2"
      }
     },
     "metadata": {}
    }
   ],
   "source": [
    "# note that it might take a few seconds for the images to download\n",
    "# depending on your internet connection\n",
    "\n",
    "output = widgets.Output()\n",
    "\n",
    "def clicked(b):\n",
    "    output.clear_output()\n",
    "    with output:\n",
    "        highlight = filterdrop.value\n",
    "        if (highlight == \"\"):\n",
    "            print(\"please enter a query\")\n",
    "        else:\n",
    "            genMDSPlot(highlight).display()\n",
    "\n",
    "\n",
    "featurecount = bobross[imgfeatures].sum()\n",
    "\n",
    "filterdrop = widgets.Dropdown(\n",
    "    options=list(featurecount[featurecount > 2].keys()),\n",
    "    description='Highlight:',\n",
    "    disabled=False,\n",
    ")\n",
    "\n",
    "filterdrop.observe(clicked)\n",
    "\n",
    "display(filterdrop,output)\n",
    "\n",
    "with output:\n",
    "    genMDSPlot('Barn').display()\n"
   ]
  },
  {
   "cell_type": "markdown",
   "id": "demonstrated-equilibrium",
   "metadata": {
    "deletable": false,
    "editable": false,
    "nbgrader": {
     "checksum": "ab4f83ecfe7f01db96125b8ad3bb75d4",
     "grade": false,
     "grade_id": "cell-e7aae906e0fca48d",
     "locked": true,
     "schema_version": 1,
     "solution": false
    }
   },
   "source": [
    "## Problem 4 (30 points: 25 for solution, 5 for explanation)\n",
    "\n",
    "Your last problem is fairly open-ended in terms of visualization. We would like to analyze the colors used in different images for a given season as a small multiples plot. You can pick how you represent your small multiples, but we will ask you to defend your choices below.  You must implement the function ```colorSmallMultiples(season)``` that takes a season number as input (e.g., 2) and returns an Altair chart. \n",
    "\n",
    "You can go something as simple as this:\n",
    "\n",
    "![\"simple small multiples\"](assets/bob_ross_color_glyph.png)\n",
    "\n",
    "This visualization has a row for every painting and a colored circle (in the color of the paint). The circle is sized based on the amount of the corresponding paint that is used in the image. \n",
    "\n",
    "You can also go to something as crazy as this:\n",
    "\n",
    "![\"face small multiples\"](assets/bob_ross_face.png)\n",
    "\n",
    "Here, we've overlaid circles as curls in Bob's massive hair. We're not claiming this is an effective solution, but you're welcome to do this (or anything else) as long as you describe the pros and cons of your choices. And, yes, we generated both examples using Altair.\n",
    "\n",
    "Again, the relevant columns are available are listed in ```rosspaints``` (there are 18 of them). The values range from 0 to 1 based on the fraction of pixel color allocated to that specific paint.  The ```rosspainthex``` has the corresponding hex values for the paint color. \n"
   ]
  },
  {
   "cell_type": "code",
   "execution_count": null,
   "metadata": {},
   "outputs": [],
   "source": []
  },
  {
   "cell_type": "code",
   "execution_count": 23,
   "id": "bulgarian-sight",
   "metadata": {
    "deletable": false,
    "nbgrader": {
     "checksum": "c17444065afbbd92883940d53ac417d8",
     "grade": true,
     "grade_id": "cell-875302ba91902564",
     "locked": false,
     "points": 0,
     "schema_version": 1,
     "solution": true
    }
   },
   "outputs": [],
   "source": [
    "season_list = []\n",
    "for i in bobross.index:\n",
    "    season_list.append(bobross.iloc[i]['EPISODE'][1])\n",
    "\n",
    "color_df = bobross[rosspaints].copy()\n",
    "color_df['TITLE'] = bobross['TITLE']\n",
    "color_df['Season'] = season_list\n",
    "color_df.set_index(['Season'], inplace=True)\n",
    "\n",
    "def colorSmallMultiples(season):\n",
    "    df = color_df.filter(like=season, axis=0)\n",
    "    new_df = pd.melt(df, id_vars=['TITLE'], var_name='Paints', value_name='Value')\n",
    "\n",
    "    return alt.Chart(new_df).mark_circle().encode(\n",
    "        alt.X('Paints', axis=None),\n",
    "        alt.Y('TITLE:N', axis=alt.Axis(ticks=False, grid=False)),\n",
    "        alt.Size('Value:Q', legend=None),\n",
    "        alt.Color('Paints', scale=alt.Scale(domain=rosspaints, range=rosspainthex), legend=None)\n",
    "    ).configure_view(strokeWidth=0)\n",
    "    # return an Altair chart\n",
    "    # season is the integer representing the season of the show are interested in. Limit your images\n",
    "    # to that season in the small multiples display.\n",
    "    \n",
    "    # YOUR CODE HERE\n",
    "    # raise NotImplementedError()"
   ]
  },
  {
   "cell_type": "code",
   "execution_count": 24,
   "id": "delayed-round",
   "metadata": {},
   "outputs": [
    {
     "output_type": "execute_result",
     "data": {
      "text/html": "\n<div id=\"altair-viz-7c726f8513bc4335941ab371a716b09a\"></div>\n<script type=\"text/javascript\">\n  (function(spec, embedOpt){\n    let outputDiv = document.currentScript.previousElementSibling;\n    if (outputDiv.id !== \"altair-viz-7c726f8513bc4335941ab371a716b09a\") {\n      outputDiv = document.getElementById(\"altair-viz-7c726f8513bc4335941ab371a716b09a\");\n    }\n    const paths = {\n      \"vega\": \"https://cdn.jsdelivr.net/npm//vega@5?noext\",\n      \"vega-lib\": \"https://cdn.jsdelivr.net/npm//vega-lib?noext\",\n      \"vega-lite\": \"https://cdn.jsdelivr.net/npm//vega-lite@4.8.1?noext\",\n      \"vega-embed\": \"https://cdn.jsdelivr.net/npm//vega-embed@6?noext\",\n    };\n\n    function loadScript(lib) {\n      return new Promise(function(resolve, reject) {\n        var s = document.createElement('script');\n        s.src = paths[lib];\n        s.async = true;\n        s.onload = () => resolve(paths[lib]);\n        s.onerror = () => reject(`Error loading script: ${paths[lib]}`);\n        document.getElementsByTagName(\"head\")[0].appendChild(s);\n      });\n    }\n\n    function showError(err) {\n      outputDiv.innerHTML = `<div class=\"error\" style=\"color:red;\">${err}</div>`;\n      throw err;\n    }\n\n    function displayChart(vegaEmbed) {\n      vegaEmbed(outputDiv, spec, embedOpt)\n        .catch(err => showError(`Javascript Error: ${err.message}<br>This usually means there's a typo in your chart specification. See the javascript console for the full traceback.`));\n    }\n\n    if(typeof define === \"function\" && define.amd) {\n      requirejs.config({paths});\n      require([\"vega-embed\"], displayChart, err => showError(`Error loading script: ${err.message}`));\n    } else if (typeof vegaEmbed === \"function\") {\n      displayChart(vegaEmbed);\n    } else {\n      loadScript(\"vega\")\n        .then(() => loadScript(\"vega-lite\"))\n        .then(() => loadScript(\"vega-embed\"))\n        .catch(showError)\n        .then(() => displayChart(vegaEmbed));\n    }\n  })({\"usermeta\": {\"embedOptions\": {\"theme\": \"fivethirtyeight\"}}, \"config\": {\"view\": {\"continuousWidth\": 400, \"continuousHeight\": 300, \"strokeWidth\": 0}}, \"data\": {\"url\": \"altair-data-a9ac676234a3c88fea34ac6f2a7fbedb.json\", \"format\": {\"type\": \"json\"}}, \"mark\": \"circle\", \"encoding\": {\"color\": {\"type\": \"nominal\", \"field\": \"Paints\", \"legend\": null, \"scale\": {\"domain\": [\"alizarin crimson\", \"bright red\", \"burnt umber\", \"cadmium yellow\", \"dark sienna\", \"indian yellow\", \"indian red\", \"liquid black\", \"liquid clear\", \"black gesso\", \"midnight black\", \"phthalo blue\", \"phthalo green\", \"prussian blue\", \"sap green\", \"titanium white\", \"van dyke brown\", \"yellow ochre\"], \"range\": [\"#94261f\", \"#c06341\", \"#614f4b\", \"#f8ed57\", \"#5c2f08\", \"#e6ba25\", \"#cd5c5c\", \"#000000\", \"#ffffff\", \"#000000\", \"#36373c\", \"#2a64ad\", \"#215c2c\", \"#325fa3\", \"#364e00\", \"#f9f7eb\", \"#2d1a0c\", \"#b28426\"]}}, \"size\": {\"type\": \"quantitative\", \"field\": \"Value\", \"legend\": null}, \"x\": {\"type\": \"nominal\", \"axis\": null, \"field\": \"Paints\"}, \"y\": {\"type\": \"nominal\", \"axis\": {\"grid\": false, \"ticks\": false}, \"field\": \"TITLE\"}}, \"$schema\": \"https://vega.github.io/schema/vega-lite/v4.8.1.json\"}, {\"mode\": \"vega-lite\"});\n</script>",
      "text/plain": [
       "alt.Chart(...)"
      ]
     },
     "metadata": {},
     "execution_count": 24
    }
   ],
   "source": [
    "# run this to test your code for season 1\n",
    "colorSmallMultiples(\"1\")"
   ]
  },
  {
   "cell_type": "code",
   "execution_count": 25,
   "id": "daily-seminar",
   "metadata": {},
   "outputs": [
    {
     "output_type": "execute_result",
     "data": {
      "text/html": "\n<div id=\"altair-viz-123797ba17d64e31ad12e17fc22c5ac5\"></div>\n<script type=\"text/javascript\">\n  (function(spec, embedOpt){\n    let outputDiv = document.currentScript.previousElementSibling;\n    if (outputDiv.id !== \"altair-viz-123797ba17d64e31ad12e17fc22c5ac5\") {\n      outputDiv = document.getElementById(\"altair-viz-123797ba17d64e31ad12e17fc22c5ac5\");\n    }\n    const paths = {\n      \"vega\": \"https://cdn.jsdelivr.net/npm//vega@5?noext\",\n      \"vega-lib\": \"https://cdn.jsdelivr.net/npm//vega-lib?noext\",\n      \"vega-lite\": \"https://cdn.jsdelivr.net/npm//vega-lite@4.8.1?noext\",\n      \"vega-embed\": \"https://cdn.jsdelivr.net/npm//vega-embed@6?noext\",\n    };\n\n    function loadScript(lib) {\n      return new Promise(function(resolve, reject) {\n        var s = document.createElement('script');\n        s.src = paths[lib];\n        s.async = true;\n        s.onload = () => resolve(paths[lib]);\n        s.onerror = () => reject(`Error loading script: ${paths[lib]}`);\n        document.getElementsByTagName(\"head\")[0].appendChild(s);\n      });\n    }\n\n    function showError(err) {\n      outputDiv.innerHTML = `<div class=\"error\" style=\"color:red;\">${err}</div>`;\n      throw err;\n    }\n\n    function displayChart(vegaEmbed) {\n      vegaEmbed(outputDiv, spec, embedOpt)\n        .catch(err => showError(`Javascript Error: ${err.message}<br>This usually means there's a typo in your chart specification. See the javascript console for the full traceback.`));\n    }\n\n    if(typeof define === \"function\" && define.amd) {\n      requirejs.config({paths});\n      require([\"vega-embed\"], displayChart, err => showError(`Error loading script: ${err.message}`));\n    } else if (typeof vegaEmbed === \"function\") {\n      displayChart(vegaEmbed);\n    } else {\n      loadScript(\"vega\")\n        .then(() => loadScript(\"vega-lite\"))\n        .then(() => loadScript(\"vega-embed\"))\n        .catch(showError)\n        .then(() => displayChart(vegaEmbed));\n    }\n  })({\"usermeta\": {\"embedOptions\": {\"theme\": \"fivethirtyeight\"}}, \"config\": {\"view\": {\"continuousWidth\": 400, \"continuousHeight\": 300, \"strokeWidth\": 0}}, \"data\": {\"url\": \"altair-data-8b8e59296b33ea719b355fe27529c57a.json\", \"format\": {\"type\": \"json\"}}, \"mark\": \"circle\", \"encoding\": {\"color\": {\"type\": \"nominal\", \"field\": \"Paints\", \"legend\": null, \"scale\": {\"domain\": [\"alizarin crimson\", \"bright red\", \"burnt umber\", \"cadmium yellow\", \"dark sienna\", \"indian yellow\", \"indian red\", \"liquid black\", \"liquid clear\", \"black gesso\", \"midnight black\", \"phthalo blue\", \"phthalo green\", \"prussian blue\", \"sap green\", \"titanium white\", \"van dyke brown\", \"yellow ochre\"], \"range\": [\"#94261f\", \"#c06341\", \"#614f4b\", \"#f8ed57\", \"#5c2f08\", \"#e6ba25\", \"#cd5c5c\", \"#000000\", \"#ffffff\", \"#000000\", \"#36373c\", \"#2a64ad\", \"#215c2c\", \"#325fa3\", \"#364e00\", \"#f9f7eb\", \"#2d1a0c\", \"#b28426\"]}}, \"size\": {\"type\": \"quantitative\", \"field\": \"Value\", \"legend\": null}, \"x\": {\"type\": \"nominal\", \"axis\": null, \"field\": \"Paints\"}, \"y\": {\"type\": \"nominal\", \"axis\": {\"grid\": false, \"ticks\": false}, \"field\": \"TITLE\"}}, \"$schema\": \"https://vega.github.io/schema/vega-lite/v4.8.1.json\"}, {\"mode\": \"vega-lite\"});\n</script>",
      "text/plain": [
       "alt.Chart(...)"
      ]
     },
     "metadata": {},
     "execution_count": 25
    }
   ],
   "source": [
    "# run this to test your code for season 2\n",
    "colorSmallMultiples(\"2\")"
   ]
  },
  {
   "cell_type": "markdown",
   "id": "organized-video",
   "metadata": {
    "deletable": false,
    "editable": false,
    "nbgrader": {
     "checksum": "d6c2b98f9c4e25aee0ea6e50eec43792",
     "grade": false,
     "grade_id": "cell-1bc78b68c5e5c133",
     "locked": true,
     "schema_version": 1,
     "solution": false
    }
   },
   "source": [
    "### Explain your choices\n",
    "\n",
    "Explain your design here. Describe the pros and cons in terms of visualization principles.\n"
   ]
  },
  {
   "cell_type": "markdown",
   "id": "sustained-stuff",
   "metadata": {},
   "source": [
    "I don't have much time to create a new kind/style of this question, so I just reproduce the example provided by the instruction. I believe the dot/point mark visualization does the great job to show the proportion of colors which Bob Ross is using in his paintings. The size of dots shows the values of each color and the color of dots means the color Bob Ross used. The only disadvantage of this visualization is that the reader cannot figure out the exact values of dots. For example, I can read in the paint of \"Winter at the farm\", Bob Ross used more blue color than others. However, I can't tell how much more he used the blue color. If I have more time, I will definitely create a creative visualization containing more information for this question."
   ]
  }
 ],
 "metadata": {
  "coursera": {
   "schema_names": [
    "mads_information_visualization_ii_v1_assignment1"
   ]
  },
  "kernelspec": {
   "name": "python391jvsc74a57bd0111ec9d3badd4bdc5bb4c5104c9c1ec48cb8e627cdc8b194469614f2565f7746",
   "display_name": "Python 3.9.1 64-bit"
  },
  "language_info": {
   "codemirror_mode": {
    "name": "ipython",
    "version": 3
   },
   "file_extension": ".py",
   "mimetype": "text/x-python",
   "name": "python",
   "nbconvert_exporter": "python",
   "pygments_lexer": "ipython3",
   "version": "3.9.1-final"
  },
  "metadata": {
   "interpreter": {
    "hash": "111ec9d3badd4bdc5bb4c5104c9c1ec48cb8e627cdc8b194469614f2565f7746"
   }
  }
 },
 "nbformat": 4,
 "nbformat_minor": 5
}