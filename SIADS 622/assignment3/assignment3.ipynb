{
 "cells": [
  {
   "cell_type": "code",
   "execution_count": 1,
   "id": "induced-benjamin",
   "metadata": {},
   "outputs": [],
   "source": [
    "import pandas as pd\n",
    "import json\n",
    "import networkx as nx\n",
    "import nx_altair as nxa\n",
    "import json\n",
    "import squarify\n",
    "import altair as alt\n",
    "import numpy as np\n",
    "import matplotlib\n",
    "from sklearn.cluster import AgglomerativeClustering\n",
    "from networkx.algorithms.community import *\n",
    "from scipy.cluster.hierarchy import dendrogram,leaves_list\n",
    "from scipy.cluster.hierarchy import ClusterWarning\n",
    "from warnings import simplefilter\n",
    "simplefilter(\"ignore\", ClusterWarning)"
   ]
  },
  {
   "cell_type": "markdown",
   "id": "experienced-mississippi",
   "metadata": {
    "deletable": false,
    "editable": false,
    "nbgrader": {
     "checksum": "d25f579f1267ab2e3a2a00651af2bac9",
     "grade": false,
     "grade_id": "cell-b11536d39149bc25",
     "locked": true,
     "schema_version": 1,
     "solution": false
    }
   },
   "source": [
    "## Information Visualization II\n",
    "\n",
    "## School of Information, University of Michigan\n",
    "\n",
    "## Week 3:\n",
    "\n",
    "- Hierarchies and Networks\n",
    "\n",
    "## Assignment Overview\n",
    "### The objectives for this week are for you to:\n",
    "\n",
    "- Examine practical methods for visualizing hierarchical and network datasets\n",
    "- Experiment with external libraries (squarify, networkx, and nx-altair)\n",
    "\n",
    "### The total score of this assignment will be\n",
    "- Problem 1 - 30 points\n",
    "- Problem 2 - 50 points\n",
    "- Problem 3 - 20 points\n",
    "\n",
    "\n",
    "### Resources:\n",
    "\n",
    "- We have created datasets for you for this week based on the Simpsons' TV show (more on this in a moment...). There are a number of files we will use in the [assets](./assets/) directory.\n",
    "\n",
    "### Important notes:\n",
    "1) This assignment will look long, but we've written a lot of helper functions for you. The amount you will need to implement will be relatively small.\n",
    "\n",
    "2) Grading for this assignment is entirely done by manual inspection.\n",
    "\n",
    "3) When turning in your PDF, please use the File -> Print -> Save as PDF option ***from your browser***. Do ***not*** use the File->Download as->PDF option. Complete instructions for this are under Resources in the Coursera page for this class.\n",
    "\n",
    "\n",
    "***"
   ]
  },
  {
   "cell_type": "code",
   "execution_count": 2,
   "id": "synthetic-natural",
   "metadata": {},
   "outputs": [
    {
     "output_type": "execute_result",
     "data": {
      "text/plain": [
       "DataTransformerRegistry.enable('json')"
      ]
     },
     "metadata": {},
     "execution_count": 2
    }
   ],
   "source": [
    "# enable correct rendering (unnecessary in later versions of Altair)\n",
    "alt.renderers.enable('default')\n",
    "\n",
    "# uses intermediate json files to speed things up\n",
    "alt.data_transformers.enable('json')"
   ]
  },
  {
   "cell_type": "markdown",
   "id": "extensive-timer",
   "metadata": {
    "deletable": false,
    "editable": false,
    "nbgrader": {
     "checksum": "65c09d9483cd6644d91c1a5baafbf2a5",
     "grade": false,
     "grade_id": "cell-02e452ba0a061756",
     "locked": true,
     "schema_version": 1,
     "solution": false
    }
   },
   "source": [
    "## The Simpsons....\n",
    "\n",
    "For today's exercise, we're going to be using data from the Simpsons! [The Simpsons](https://en.wikipedia.org/wiki/The_Simpsons) is an animated comedy that has appeared on American TV continuously since 1989. They are up to nearly 700 episodes over 32 seasons(!) on television, not to mention the movies, books, theme parks, and many other cultural artifacts. Basically, they're [everywhere](https://en.wikipedia.org/wiki/Non-English_versions_of_The_Simpsons). The main Simpsons family--Homer (the father), Marge (the mother), and the kids: Homer, Lisa, and Maggie--have been joined by 100s of characters over the years.\n",
    "\n",
    "![\"simpsons family\"](assets/family.png)\n",
    "\n",
    "The Simpsons have lasted long enough that it's probably one of the few shows that are still on the air that need to have older episodes edited or removed because they're no longer appropriate. Nonetheless, jokes and quotes from the Simpson have become engrained in our culture. For this assignment, we will be analyzing key quotes from the history of the Simpsons as a network problem. \n",
    "\n",
    "We have extracted [quote data from the wikiquotes project](https://en.wikiquote.org/wiki/The_Simpsons). For each season, we look at each episode. For each episode, we identify the quotes recorded in wikiquotes.\n",
    "\n",
    "While some quotes are \"one-liners\" by a single character:\n",
    "* **Homer**: Aww, it makes no sense; I haven't changed since high school and all of a sudden I'm uncool.\n",
    "\n",
    "We are interested in interactions between characters. For example:\n",
    "* **Homer**: Doughnut?\n",
    "* **Lisa**: No, thanks. Do you have any fruit?\n",
    "* **Homer**: This has purple stuff inside. Purple is a fruit.\n",
    "\n",
    "These multi-character quotes will become the \"edges\" in our network, but more on that in a bit. We're going to start with a simpler analysis of the hierarchical data in this database.\n"
   ]
  },
  {
   "cell_type": "markdown",
   "id": "hungarian-church",
   "metadata": {},
   "source": [
    "## Problem 1 (30 points)\n",
    "\n",
    "For this first problem, we are going to look at the hierarchical representation of the quote database. Specifically, we have multiple seasons. For each of the seasons, we have multiple episodes. Finally, for each of the episodes, we have multiple characters who have participated in funny/memorable scenes. For example, Homer has participated in 972 quoted conversations in the dataset! Bart comes in a remote second at 548. Our goal is to have a visualization that allows us to compare which seasons/episodes/characters had the most quoted conversations. Ideally, we'd also like to know if a certain character had many conversations in one episode and fewer in others? Were there any outlier episodes with lots of conversations? Was there one season with many conversations? All these domain tasks map neatly to abstract problems of hierarchical data. Hierarchical visualization techniques will be a reasonable solution given these questions.\n",
    "\n",
    "Abstractly, our data looks something like this:\n",
    "\n",
    "![hierarchy of interactions](assets/hier.png)\n",
    "\n",
    "What this tells us is that there are 5076 conversations in our dataset. Season 2, for example, has 124 of those. In Season 2, Episode 1 had 7 quotes, and Bart was responsible for 2 of them (the episode and quote numbers are made up for this example). Notice that the same characters can appear multiple times. \n",
    "\n",
    "To help us with the real data, we have constructed the hierarchy as a nested data structure. Let's load the data in:"
   ]
  },
  {
   "cell_type": "code",
   "execution_count": 3,
   "id": "deluxe-roulette",
   "metadata": {},
   "outputs": [],
   "source": [
    "with open('assets/simpsonshier.jsonl') as json_file:\n",
    "    allseasons = json.load(json_file)"
   ]
  },
  {
   "cell_type": "code",
   "execution_count": 4,
   "id": "protecting-billy",
   "metadata": {},
   "outputs": [
    {
     "output_type": "stream",
     "name": "stdout",
     "text": [
      "season  s02 had 124 quotes\n{'id': 's02e14', 'type': 'episode', 'label': 'Bart Gets an F', 'value': 7, 'children': [{'id': 'Bart', 'type': 'character', 'value': 2}, {'id': 'Mrs. Krabappel', 'type': 'character', 'value': 1}, {'id': 'Martin', 'type': 'character', 'value': 1}, {'id': 'Otto', 'type': 'character', 'value': 1}, {'id': 'Sherri', 'type': 'character', 'value': 1}, {'id': 'Terri', 'type': 'character', 'value': 1}]}\n"
     ]
    }
   ],
   "source": [
    "# this variable is a massive JSON object with a hierarchy of seasons -> episodes -> characters. Each \"Node\"\n",
    "# hierarchy is a dictionary which has an id, a type (one of 'season','episode', or 'character'), an optional\n",
    "# label (episodes had names as well as numerical ids), the value (the number of quotes), and children (a\n",
    "# list of nodes that sit underneath)\n",
    "\n",
    "allseasons\n",
    "\n",
    "# for example, we can find season 2's quote quote:\n",
    "season2 = allseasons[1]\n",
    "print(\"season \",season2['id'], \"had\", season2['value'], \"quotes\")\n",
    "\n",
    "# for the first episode of season 1 we see the following\n",
    "season2e1 = season2['children'][0]\n",
    "print(season2e1)\n",
    "\n",
    "# you'll see that this episode was called \"Bart Gets and F\" and it had 7 quotes. Bart was responsible for 2 of these"
   ]
  },
  {
   "cell_type": "markdown",
   "id": "naughty-brooks",
   "metadata": {
    "deletable": false,
    "editable": false,
    "nbgrader": {
     "checksum": "4f2e6d8739ebe08f9f73af448585e885",
     "grade": false,
     "grade_id": "cell-27511fa09ed5ad8c",
     "locked": true,
     "schema_version": 1,
     "solution": false
    }
   },
   "source": [
    "Recall that we have two main ways to display hierarchies. Node link diagrams (rather like the image above) and space-filling versions such as TreeMaps. We're going to demonstrate how you can build a treemap using a combination of tools. We'll visualize only some of the seasons to keep things a bit sane, but the first 6 roughly look like this:\n",
    "\n",
    "![treemap1](assets/treemap1.png)\n",
    "\n",
    "More on the color encoding later, but you can see the 6 black boxes (seasons), the multiple gray boxes (the episodes), and the colorful objects inside of that are the characters. Unfortunately, Altair doesn't have a treemap layout built in. We'll be using the [squarify](https://github.com/laserson/squarify) library to generate the coordinates. Squarify works by generating one level of the hierarchy at a time. So we need a function that lays out the seasons, and then for each episode re-runs squarify but restricts it to the space allocated to the season. After that we re-run squarify to plot the position of each character in that episode. We've written this recursive function for you below. In the end it returns a dataframe with the bits we need to plot:"
   ]
  },
  {
   "cell_type": "code",
   "execution_count": 5,
   "id": "received-weight",
   "metadata": {},
   "outputs": [],
   "source": [
    "def rectangleIter(data,width,height,xof=0,yof=0,frame=None,level=-1,parentid=\"\"):\n",
    "    # data: hierarchical structured data\n",
    "    # width: width we can work in\n",
    "    # height: height we can work in\n",
    "    # xof: x offset\n",
    "    # yof: y offset\n",
    "    # frame: the dataframe to add the data to, if None, we create one\n",
    "    # the level of the treemap (will default to 0 on first run)\n",
    "    # parentid: a string representing the parent of this node\n",
    "    # returns dataframe of all the rectangles\n",
    "    \n",
    "    if (frame is None):\n",
    "        frame = pd.DataFrame()\n",
    "    level = level + 1\n",
    "    values = []\n",
    "    children = []\n",
    "    for parent in data:\n",
    "        values.append(parent['value'])\n",
    "        if ('children' in parent):\n",
    "            children.append(parent['children'])\n",
    "        else:\n",
    "            children.append([])\n",
    "            \n",
    "    # normalize\n",
    "    values = squarify.normalize_sizes(values, width, height)\n",
    "   \n",
    "    # generate the \n",
    "    padded_rects = squarify.padded_squarify(values, xof, yof, width, height)\n",
    "    \n",
    "    i = 0\n",
    "    for rect in padded_rects:\n",
    "        # adjust the padding and copy the useful pieces of data over\n",
    "        parent = data[i]\n",
    "        rect['width'] = rect['dx']\n",
    "        rect['height'] = rect['dy']\n",
    "        del rect['dx']\n",
    "        del rect['dy']\n",
    "        rect['x2'] = rect['x'] + rect['width'] - 2\n",
    "        rect['y2'] = rect['y'] + rect['height'] - 2\n",
    "        rect['x'] = rect['x'] + 2\n",
    "        rect['y'] = rect['y'] + 2\n",
    "        rect['width'] = rect['x2'] - rect['x']\n",
    "        rect['height'] = rect['y2'] - rect['y']\n",
    "        rect['id'] = parent['id']\n",
    "        rect['type'] = parent['type']\n",
    "        rect['value'] = parent['value']\n",
    "        rect['level'] = level\n",
    "        if 'label' in parent:\n",
    "            rect['label'] = parent['label']\n",
    "        else:\n",
    "            rect['label'] = parent['id']\n",
    "        rect['parentid'] = parentid\n",
    "        frame = frame.append(rect,ignore_index=True)\n",
    "        \n",
    "        # iterate\n",
    "        frame = rectangleIter(children[i],rect['width'],rect['height'],rect['x'],rect['y'],\n",
    "                              frame=frame,level=level,parentid=parentid+\" → \"+rect['label'])\n",
    "        i = i + 1\n",
    "    return(frame)"
   ]
  },
  {
   "cell_type": "code",
   "execution_count": 6,
   "id": "aging-neighborhood",
   "metadata": {},
   "outputs": [],
   "source": [
    "shortseason = allseasons[0:6]                   # let's grab the first 6 seasons\n",
    "rect_table = rectangleIter(shortseason,800,800) # and run them through the treemap algorithm"
   ]
  },
  {
   "cell_type": "code",
   "execution_count": 7,
   "id": "pressing-october",
   "metadata": {},
   "outputs": [
    {
     "output_type": "execute_result",
     "data": {
      "text/plain": [
       "        height      id   label  level  \\\n",
       "616  26.722277   Homer   Homer    2.0   \n",
       "726  23.172001  Jasper  Jasper    2.0   \n",
       "81   15.197818    Lisa    Lisa    2.0   \n",
       "25   13.274510   Homer   Homer    2.0   \n",
       "608  26.722277     Men     Men    2.0   \n",
       "\n",
       "                                              parentid       type  value  \\\n",
       "616   → s05 → $pringfield (or, How I Learned to Sto...  character    2.0   \n",
       "726                  → s05 → The Boy Who Knew Too Much  character    1.0   \n",
       "81                         → s02 → Treehouse of Horror  character    1.0   \n",
       "25                            → s01 → Bart the General  character    1.0   \n",
       "608               → s05 → The Last Temptation of Homer  character    1.0   \n",
       "\n",
       "         width           x          x2           y          y2  \n",
       "616  21.692517  686.229931  707.922448  112.547162  139.269439  \n",
       "726   9.445048  714.972003  724.417051  374.889058  398.061059  \n",
       "81   12.797279  125.585034  138.382313  187.844877  203.042694  \n",
       "25   11.931770   76.761194   88.692964   84.823529   98.098039  \n",
       "608   7.505350  605.950508  613.455858  145.269439  171.991717  "
      ],
      "text/html": "<div>\n<style scoped>\n    .dataframe tbody tr th:only-of-type {\n        vertical-align: middle;\n    }\n\n    .dataframe tbody tr th {\n        vertical-align: top;\n    }\n\n    .dataframe thead th {\n        text-align: right;\n    }\n</style>\n<table border=\"1\" class=\"dataframe\">\n  <thead>\n    <tr style=\"text-align: right;\">\n      <th></th>\n      <th>height</th>\n      <th>id</th>\n      <th>label</th>\n      <th>level</th>\n      <th>parentid</th>\n      <th>type</th>\n      <th>value</th>\n      <th>width</th>\n      <th>x</th>\n      <th>x2</th>\n      <th>y</th>\n      <th>y2</th>\n    </tr>\n  </thead>\n  <tbody>\n    <tr>\n      <th>616</th>\n      <td>26.722277</td>\n      <td>Homer</td>\n      <td>Homer</td>\n      <td>2.0</td>\n      <td>→ s05 → $pringfield (or, How I Learned to Sto...</td>\n      <td>character</td>\n      <td>2.0</td>\n      <td>21.692517</td>\n      <td>686.229931</td>\n      <td>707.922448</td>\n      <td>112.547162</td>\n      <td>139.269439</td>\n    </tr>\n    <tr>\n      <th>726</th>\n      <td>23.172001</td>\n      <td>Jasper</td>\n      <td>Jasper</td>\n      <td>2.0</td>\n      <td>→ s05 → The Boy Who Knew Too Much</td>\n      <td>character</td>\n      <td>1.0</td>\n      <td>9.445048</td>\n      <td>714.972003</td>\n      <td>724.417051</td>\n      <td>374.889058</td>\n      <td>398.061059</td>\n    </tr>\n    <tr>\n      <th>81</th>\n      <td>15.197818</td>\n      <td>Lisa</td>\n      <td>Lisa</td>\n      <td>2.0</td>\n      <td>→ s02 → Treehouse of Horror</td>\n      <td>character</td>\n      <td>1.0</td>\n      <td>12.797279</td>\n      <td>125.585034</td>\n      <td>138.382313</td>\n      <td>187.844877</td>\n      <td>203.042694</td>\n    </tr>\n    <tr>\n      <th>25</th>\n      <td>13.274510</td>\n      <td>Homer</td>\n      <td>Homer</td>\n      <td>2.0</td>\n      <td>→ s01 → Bart the General</td>\n      <td>character</td>\n      <td>1.0</td>\n      <td>11.931770</td>\n      <td>76.761194</td>\n      <td>88.692964</td>\n      <td>84.823529</td>\n      <td>98.098039</td>\n    </tr>\n    <tr>\n      <th>608</th>\n      <td>26.722277</td>\n      <td>Men</td>\n      <td>Men</td>\n      <td>2.0</td>\n      <td>→ s05 → The Last Temptation of Homer</td>\n      <td>character</td>\n      <td>1.0</td>\n      <td>7.505350</td>\n      <td>605.950508</td>\n      <td>613.455858</td>\n      <td>145.269439</td>\n      <td>171.991717</td>\n    </tr>\n  </tbody>\n</table>\n</div>"
     },
     "metadata": {},
     "execution_count": 7
    }
   ],
   "source": [
    "# let's look at what's inside\n",
    "rect_table.sample(5)"
   ]
  },
  {
   "cell_type": "markdown",
   "id": "tired-harvey",
   "metadata": {
    "deletable": false,
    "editable": false,
    "nbgrader": {
     "checksum": "560be2f8957d8e9711e5cfa1f2ce1bcb",
     "grade": false,
     "grade_id": "cell-bfbde27a60adc705",
     "locked": true,
     "schema_version": 1,
     "solution": false
    }
   },
   "source": [
    "What you'll find inside the table is everything you need to create your visualization using Altair. There are coordinates for the rectangle (the start point: x,y; the end points: x2,y2, and the width, height). You'll also find the id/label for each rectangle, a numerical level (0,1, or 2 in this case), and the type of rectangle (character, episode, or season)."
   ]
  },
  {
   "cell_type": "markdown",
   "id": "appreciated-image",
   "metadata": {
    "deletable": false,
    "editable": false,
    "nbgrader": {
     "checksum": "b93be95ed29cefa2211686ed1a75b03c",
     "grade": false,
     "grade_id": "cell-806c13c9c0aca19a",
     "locked": true,
     "schema_version": 1,
     "solution": false
    }
   },
   "source": [
    "## Problem 1.1\n",
    "\n",
    "Using Altair, generate a treemap using the ```rect_table``` dataframe. Regenerate the image above. Use the same color scheme for seasons and episodes as we did (your character colors may vary). We used 800 pixels square for the visualization. Complete the function ```staticTreemap``` that returns this Altair visualization given the rectangles frame.\n",
    "\n",
    "Some hints:\n",
    "* think layering\n",
    "* try to get one layer (maybe rectangles for the series objects) to work first and then add more"
   ]
  },
  {
   "cell_type": "code",
   "execution_count": 8,
   "id": "dying-survivor",
   "metadata": {
    "deletable": false,
    "nbgrader": {
     "checksum": "88802ab96ac51d7f8e39d93ebebdcd5d",
     "grade": true,
     "grade_id": "cell-d33814fdf5c02112",
     "locked": false,
     "points": 0,
     "schema_version": 1,
     "solution": true
    }
   },
   "outputs": [],
   "source": [
    "def staticTreemap(inputFrame):\n",
    "    # input inputFrame the rectangles frame as described above\n",
    "    # return a static Altair treemap visualization\n",
    "    \n",
    "    # YOUR CODE HERE\n",
    "    frame_1 = inputFrame.loc[inputFrame['type'] == 'season']\n",
    "\n",
    "    chart_1 = alt.Chart(frame_1, width=500, height=500).mark_rect(fill='black').encode(\n",
    "        x=alt.X('x', axis=None),\n",
    "        y=alt.Y('y', axis=None),\n",
    "        x2='x2',\n",
    "        y2='y2'\n",
    "    )\n",
    "\n",
    "    frame_2 = inputFrame.loc[inputFrame['type'] == 'episode']\n",
    "\n",
    "    chart_2 = alt.Chart(frame_2, width=500, height=500).mark_rect(fill='lightgrey').encode(\n",
    "        alt.X('x', title=None),\n",
    "        alt.Y('y', title=None),\n",
    "        x2='x2',\n",
    "        y2='y2'\n",
    "    )\n",
    "\n",
    "    frame_3 = inputFrame.loc[inputFrame['type'] == 'character']\n",
    "\n",
    "    chart_3 = alt.Chart(frame_3, width=500, height=500).mark_rect().encode(\n",
    "        alt.X('x', title=None),\n",
    "        alt.Y('y', title=None),\n",
    "        x2='x2',\n",
    "        y2='y2',\n",
    "        color='label'\n",
    "    )\n",
    "\n",
    "    return alt.layer(chart_1, chart_2, chart_3).configure_view(strokeWidth=0).properties(width=800, height=800)\n",
    "    # raise NotImplementedError()"
   ]
  },
  {
   "cell_type": "code",
   "execution_count": 9,
   "id": "helpful-newsletter",
   "metadata": {},
   "outputs": [
    {
     "output_type": "execute_result",
     "data": {
      "text/html": "\n<div id=\"altair-viz-1ccc028c8ef74a5bb7e12ea780b635b3\"></div>\n<script type=\"text/javascript\">\n  (function(spec, embedOpt){\n    let outputDiv = document.currentScript.previousElementSibling;\n    if (outputDiv.id !== \"altair-viz-1ccc028c8ef74a5bb7e12ea780b635b3\") {\n      outputDiv = document.getElementById(\"altair-viz-1ccc028c8ef74a5bb7e12ea780b635b3\");\n    }\n    const paths = {\n      \"vega\": \"https://cdn.jsdelivr.net/npm//vega@5?noext\",\n      \"vega-lib\": \"https://cdn.jsdelivr.net/npm//vega-lib?noext\",\n      \"vega-lite\": \"https://cdn.jsdelivr.net/npm//vega-lite@4.8.1?noext\",\n      \"vega-embed\": \"https://cdn.jsdelivr.net/npm//vega-embed@6?noext\",\n    };\n\n    function loadScript(lib) {\n      return new Promise(function(resolve, reject) {\n        var s = document.createElement('script');\n        s.src = paths[lib];\n        s.async = true;\n        s.onload = () => resolve(paths[lib]);\n        s.onerror = () => reject(`Error loading script: ${paths[lib]}`);\n        document.getElementsByTagName(\"head\")[0].appendChild(s);\n      });\n    }\n\n    function showError(err) {\n      outputDiv.innerHTML = `<div class=\"error\" style=\"color:red;\">${err}</div>`;\n      throw err;\n    }\n\n    function displayChart(vegaEmbed) {\n      vegaEmbed(outputDiv, spec, embedOpt)\n        .catch(err => showError(`Javascript Error: ${err.message}<br>This usually means there's a typo in your chart specification. See the javascript console for the full traceback.`));\n    }\n\n    if(typeof define === \"function\" && define.amd) {\n      requirejs.config({paths});\n      require([\"vega-embed\"], displayChart, err => showError(`Error loading script: ${err.message}`));\n    } else if (typeof vegaEmbed === \"function\") {\n      displayChart(vegaEmbed);\n    } else {\n      loadScript(\"vega\")\n        .then(() => loadScript(\"vega-lite\"))\n        .then(() => loadScript(\"vega-embed\"))\n        .catch(showError)\n        .then(() => displayChart(vegaEmbed));\n    }\n  })({\"config\": {\"view\": {\"continuousWidth\": 400, \"continuousHeight\": 300, \"strokeWidth\": 0}}, \"layer\": [{\"data\": {\"url\": \"altair-data-e5bfee7e0bf04763c124255d25ac6e05.json\", \"format\": {\"type\": \"json\"}}, \"mark\": {\"type\": \"rect\", \"fill\": \"black\"}, \"encoding\": {\"x\": {\"type\": \"quantitative\", \"axis\": null, \"field\": \"x\"}, \"x2\": {\"field\": \"x2\"}, \"y\": {\"type\": \"quantitative\", \"axis\": null, \"field\": \"y\"}, \"y2\": {\"field\": \"y2\"}}, \"height\": 500, \"width\": 500}, {\"data\": {\"url\": \"altair-data-8ecbe54b8969b905ab6510bc803d1471.json\", \"format\": {\"type\": \"json\"}}, \"mark\": {\"type\": \"rect\", \"fill\": \"lightgrey\"}, \"encoding\": {\"x\": {\"type\": \"quantitative\", \"field\": \"x\", \"title\": null}, \"x2\": {\"field\": \"x2\"}, \"y\": {\"type\": \"quantitative\", \"field\": \"y\", \"title\": null}, \"y2\": {\"field\": \"y2\"}}, \"height\": 500, \"width\": 500}, {\"data\": {\"url\": \"altair-data-e3425836a8e0532587742dff5da6e6e6.json\", \"format\": {\"type\": \"json\"}}, \"mark\": \"rect\", \"encoding\": {\"color\": {\"type\": \"nominal\", \"field\": \"label\"}, \"x\": {\"type\": \"quantitative\", \"field\": \"x\", \"title\": null}, \"x2\": {\"field\": \"x2\"}, \"y\": {\"type\": \"quantitative\", \"field\": \"y\", \"title\": null}, \"y2\": {\"field\": \"y2\"}}, \"height\": 500, \"width\": 500}], \"height\": 800, \"width\": 800, \"$schema\": \"https://vega.github.io/schema/vega-lite/v4.8.1.json\"}, {\"mode\": \"vega-lite\"});\n</script>",
      "text/plain": [
       "alt.LayerChart(...)"
      ]
     },
     "metadata": {},
     "execution_count": 9
    }
   ],
   "source": [
    "# if you did this correctly, the following should work\n",
    "staticTreemap(rect_table)"
   ]
  },
  {
   "cell_type": "markdown",
   "id": "sweet-lawsuit",
   "metadata": {
    "deletable": false,
    "editable": false,
    "nbgrader": {
     "checksum": "195737529c5cb67574e24ff3e0d6db30",
     "grade": false,
     "grade_id": "cell-5a87c450b6495037",
     "locked": true,
     "schema_version": 1,
     "solution": false
    }
   },
   "source": [
    "## Problem 1.2\n",
    "\n",
    "While the solution above looks cool, it's really not so helpful for understanding the data. We can see that seasons are different in terms of the number of quotes, there are differences in episodes, and some characters have many quotes in one episode and few in the others. But we have no idea what these seasons, episodes, or characters are!\n",
    "\n",
    "We could try to add labels, but that might become unreadable pretty fast. Instead, your task is to add interactivity to make this visualization more usable. You can pick your strategy for doing this. We've created the following example to get you thinking:\n",
    "\n",
    "![\"animated treemap](assets/hierinteractive.gif)\n",
    "\n",
    "To help us determine what we're looking at, we've added tooltips and to aid with comparisons between the same characters over mutliple episodes/seasons we've added the ability to select characters of interest. You are welcome to adopt whatever strategy you think will be expressive/effective here.\n",
    "\n",
    "Complete the function ```interactiveTreemap``` to return this interactive Altair visualization."
   ]
  },
  {
   "cell_type": "code",
   "execution_count": 10,
   "id": "european-elimination",
   "metadata": {
    "deletable": false,
    "nbgrader": {
     "checksum": "88fc5129d6a5709e6937b8e99c697f03",
     "grade": true,
     "grade_id": "cell-08dfba66c4eab8b7",
     "locked": false,
     "points": 0,
     "schema_version": 1,
     "solution": true
    }
   },
   "outputs": [],
   "source": [
    "def interactiveTreemap(inputFrame):\n",
    "    # input inputFrame the rectangles frame as described above\n",
    "    # return a static Altair treemap visualization\n",
    "    \n",
    "    # YOUR CODE HERE\n",
    "    selection = alt.selection_single(fields=['label'])\n",
    "    frame_1 = inputFrame.loc[inputFrame['type'] == 'season']\n",
    "\n",
    "    chart_1 = alt.Chart(frame_1, width=500, height=500).mark_rect(fill='black').encode(\n",
    "            x=alt.X('x', axis=None),\n",
    "            y=alt.Y('y', axis=None),\n",
    "            x2='x2',\n",
    "            y2='y2',\n",
    "            color=alt.condition(selection, 'label:N', alt.value('grey')),\n",
    "            tooltip = [alt.Tooltip('parentid:N'), alt.Tooltip('id:N'), alt.Tooltip('value:Q')]\n",
    "        ).interactive()\n",
    "\n",
    "    frame_2 = inputFrame.loc[inputFrame['type'] == 'episode']\n",
    "\n",
    "    chart_2 = alt.Chart(frame_2, width=500, height=500).mark_rect(fill='lightgrey').encode(\n",
    "            alt.X('x', title=None),\n",
    "            alt.Y('y', title=None),\n",
    "            x2='x2',\n",
    "            y2='y2',\n",
    "            color=alt.condition(selection, 'label:N', alt.value('grey')),\n",
    "            tooltip = [alt.Tooltip('parentid:N'), alt.Tooltip('id:N'), alt.Tooltip('value:Q')]\n",
    "        ).interactive()\n",
    "\n",
    "    frame_3 = inputFrame.loc[inputFrame['type'] == 'character']\n",
    "\n",
    "    chart_3 = alt.Chart(frame_3, width=500, height=500).mark_rect().encode(\n",
    "            alt.X('x', title=None),\n",
    "            alt.Y('y', title=None),\n",
    "            x2='x2',\n",
    "            y2='y2',\n",
    "            color=alt.condition(selection, 'label:N', alt.value('grey')),\n",
    "            tooltip = [alt.Tooltip('parentid:N'), alt.Tooltip('id:N'), alt.Tooltip('value:Q')]\n",
    "    ).interactive()\n",
    "\n",
    "    return alt.layer(chart_1, chart_2, chart_3).configure_view(strokeWidth=0).add_selection(selection).properties(width=800, height=800)\n",
    "    # raise NotImplementedError()"
   ]
  },
  {
   "cell_type": "code",
   "execution_count": 11,
   "id": "banned-stock",
   "metadata": {},
   "outputs": [
    {
     "output_type": "execute_result",
     "data": {
      "text/html": "\n<div id=\"altair-viz-981989cd7d614141974904dc45219580\"></div>\n<script type=\"text/javascript\">\n  (function(spec, embedOpt){\n    let outputDiv = document.currentScript.previousElementSibling;\n    if (outputDiv.id !== \"altair-viz-981989cd7d614141974904dc45219580\") {\n      outputDiv = document.getElementById(\"altair-viz-981989cd7d614141974904dc45219580\");\n    }\n    const paths = {\n      \"vega\": \"https://cdn.jsdelivr.net/npm//vega@5?noext\",\n      \"vega-lib\": \"https://cdn.jsdelivr.net/npm//vega-lib?noext\",\n      \"vega-lite\": \"https://cdn.jsdelivr.net/npm//vega-lite@4.8.1?noext\",\n      \"vega-embed\": \"https://cdn.jsdelivr.net/npm//vega-embed@6?noext\",\n    };\n\n    function loadScript(lib) {\n      return new Promise(function(resolve, reject) {\n        var s = document.createElement('script');\n        s.src = paths[lib];\n        s.async = true;\n        s.onload = () => resolve(paths[lib]);\n        s.onerror = () => reject(`Error loading script: ${paths[lib]}`);\n        document.getElementsByTagName(\"head\")[0].appendChild(s);\n      });\n    }\n\n    function showError(err) {\n      outputDiv.innerHTML = `<div class=\"error\" style=\"color:red;\">${err}</div>`;\n      throw err;\n    }\n\n    function displayChart(vegaEmbed) {\n      vegaEmbed(outputDiv, spec, embedOpt)\n        .catch(err => showError(`Javascript Error: ${err.message}<br>This usually means there's a typo in your chart specification. See the javascript console for the full traceback.`));\n    }\n\n    if(typeof define === \"function\" && define.amd) {\n      requirejs.config({paths});\n      require([\"vega-embed\"], displayChart, err => showError(`Error loading script: ${err.message}`));\n    } else if (typeof vegaEmbed === \"function\") {\n      displayChart(vegaEmbed);\n    } else {\n      loadScript(\"vega\")\n        .then(() => loadScript(\"vega-lite\"))\n        .then(() => loadScript(\"vega-embed\"))\n        .catch(showError)\n        .then(() => displayChart(vegaEmbed));\n    }\n  })({\"config\": {\"view\": {\"continuousWidth\": 400, \"continuousHeight\": 300, \"strokeWidth\": 0}}, \"layer\": [{\"data\": {\"url\": \"altair-data-e5bfee7e0bf04763c124255d25ac6e05.json\", \"format\": {\"type\": \"json\"}}, \"mark\": {\"type\": \"rect\", \"fill\": \"black\"}, \"encoding\": {\"color\": {\"condition\": {\"type\": \"nominal\", \"field\": \"label\", \"selection\": \"selector001\"}, \"value\": \"grey\"}, \"tooltip\": [{\"type\": \"nominal\", \"field\": \"parentid\"}, {\"type\": \"nominal\", \"field\": \"id\"}, {\"type\": \"quantitative\", \"field\": \"value\"}], \"x\": {\"type\": \"quantitative\", \"axis\": null, \"field\": \"x\"}, \"x2\": {\"field\": \"x2\"}, \"y\": {\"type\": \"quantitative\", \"axis\": null, \"field\": \"y\"}, \"y2\": {\"field\": \"y2\"}}, \"height\": 500, \"selection\": {\"selector002\": {\"type\": \"interval\", \"bind\": \"scales\", \"encodings\": [\"x\", \"y\"]}, \"selector001\": {\"type\": \"single\", \"fields\": [\"label\"]}}, \"width\": 500}, {\"data\": {\"url\": \"altair-data-8ecbe54b8969b905ab6510bc803d1471.json\", \"format\": {\"type\": \"json\"}}, \"mark\": {\"type\": \"rect\", \"fill\": \"lightgrey\"}, \"encoding\": {\"color\": {\"condition\": {\"type\": \"nominal\", \"field\": \"label\", \"selection\": \"selector001\"}, \"value\": \"grey\"}, \"tooltip\": [{\"type\": \"nominal\", \"field\": \"parentid\"}, {\"type\": \"nominal\", \"field\": \"id\"}, {\"type\": \"quantitative\", \"field\": \"value\"}], \"x\": {\"type\": \"quantitative\", \"field\": \"x\", \"title\": null}, \"x2\": {\"field\": \"x2\"}, \"y\": {\"type\": \"quantitative\", \"field\": \"y\", \"title\": null}, \"y2\": {\"field\": \"y2\"}}, \"height\": 500, \"selection\": {\"selector003\": {\"type\": \"interval\", \"bind\": \"scales\", \"encodings\": [\"x\", \"y\"]}}, \"width\": 500}, {\"data\": {\"url\": \"altair-data-e3425836a8e0532587742dff5da6e6e6.json\", \"format\": {\"type\": \"json\"}}, \"mark\": \"rect\", \"encoding\": {\"color\": {\"condition\": {\"type\": \"nominal\", \"field\": \"label\", \"selection\": \"selector001\"}, \"value\": \"grey\"}, \"tooltip\": [{\"type\": \"nominal\", \"field\": \"parentid\"}, {\"type\": \"nominal\", \"field\": \"id\"}, {\"type\": \"quantitative\", \"field\": \"value\"}], \"x\": {\"type\": \"quantitative\", \"field\": \"x\", \"title\": null}, \"x2\": {\"field\": \"x2\"}, \"y\": {\"type\": \"quantitative\", \"field\": \"y\", \"title\": null}, \"y2\": {\"field\": \"y2\"}}, \"height\": 500, \"selection\": {\"selector004\": {\"type\": \"interval\", \"bind\": \"scales\", \"encodings\": [\"x\", \"y\"]}}, \"width\": 500}], \"height\": 800, \"width\": 800, \"$schema\": \"https://vega.github.io/schema/vega-lite/v4.8.1.json\"}, {\"mode\": \"vega-lite\"});\n</script>",
      "text/plain": [
       "alt.LayerChart(...)"
      ]
     },
     "metadata": {},
     "execution_count": 11
    }
   ],
   "source": [
    "interactiveTreemap(rect_table)"
   ]
  },
  {
   "cell_type": "markdown",
   "id": "formal-massachusetts",
   "metadata": {
    "deletable": false,
    "editable": false,
    "nbgrader": {
     "checksum": "82886507fb0349639b9e72f4b7b95cf9",
     "grade": false,
     "grade_id": "cell-2bf434fb81aa1ad4",
     "locked": true,
     "schema_version": 1,
     "solution": false
    }
   },
   "source": [
    "## Problem 2 (50 points)\n",
    "\n",
    "For our next analysis, we're going to look a little more closely at conversation networks. Each quotable conversation can be modeled as a small network. Nodes will correspond to the characters, and edges will be the number of conversations two character's co-occurred in. For example, if Bart, Homer, and Lisa are in the same quote, we would construct 3 undirected edges: Bart to Homer,  Bart to Lisa, and Lisa to Homer. By aggregating all these conversations together (over episodes or seasons), we can compute the \"weight\" of an edge: the total number of quoted conversations those characters interacted over.  From this kind of network, we can identify who the central characters are. Who is interacting with the most others in a quotable way? Are there small communities?\n",
    "\n",
    "For this problem, we are going to use two libraries to help us out: [networkx](https://networkx.org/)--a library for manipulation and analysis of graph data structures (it will also generate layouts), and [nx-altair](https://github.com/Zsailer/nx_altair) a library that can generate Altair plots from networkx data. We don't expect you to learn all the pieces of these libraries. However, we'll explore a few functions to get some interesting visualizations.\n",
    "\n",
    "Let's start by taking a look at this network data."
   ]
  },
  {
   "cell_type": "code",
   "execution_count": 12,
   "id": "loving-joyce",
   "metadata": {},
   "outputs": [],
   "source": [
    "# helper function to load the data\n",
    "def loadData(filepath):\n",
    "    articles = []\n",
    "    with open(filepath) as fp:\n",
    "        for docid, line in enumerate(fp):\n",
    "            #print(line)\n",
    "            #print(docid)\n",
    "            doc = json.loads(line)\n",
    "            char1 = doc['c1']\n",
    "            char2 = doc['c2']\n",
    "            articles.append(doc)\n",
    "    return pd.DataFrame(articles)"
   ]
  },
  {
   "cell_type": "code",
   "execution_count": 13,
   "id": "ordered-passing",
   "metadata": {},
   "outputs": [],
   "source": [
    "# we're going to load a data frame representation of the network to start\n",
    "simpsons = loadData('assets/simpsons.jsonl')"
   ]
  },
  {
   "cell_type": "code",
   "execution_count": 14,
   "id": "directed-container",
   "metadata": {},
   "outputs": [
    {
     "output_type": "execute_result",
     "data": {
      "text/plain": [
       "      season                           episode  lineid             c1  \\\n",
       "2958      10                Make Room for Lisa    1128       Guard #1   \n",
       "221        3                  Stark Raving Dad      74           Leon   \n",
       "835        5                  Bart Gets Famous     263       Flanders   \n",
       "134        2  Itchy &amp; Scratchy &amp; Marge      44  Kent Brockman   \n",
       "1352       6                  The PTA Disbands     467    Miss Hoover   \n",
       "\n",
       "                     c2  \n",
       "2958           Guard #2  \n",
       "221     Michael Jackson  \n",
       "835           Mr. Burns  \n",
       "134              Monroe  \n",
       "1352  Principal Skinner  "
      ],
      "text/html": "<div>\n<style scoped>\n    .dataframe tbody tr th:only-of-type {\n        vertical-align: middle;\n    }\n\n    .dataframe tbody tr th {\n        vertical-align: top;\n    }\n\n    .dataframe thead th {\n        text-align: right;\n    }\n</style>\n<table border=\"1\" class=\"dataframe\">\n  <thead>\n    <tr style=\"text-align: right;\">\n      <th></th>\n      <th>season</th>\n      <th>episode</th>\n      <th>lineid</th>\n      <th>c1</th>\n      <th>c2</th>\n    </tr>\n  </thead>\n  <tbody>\n    <tr>\n      <th>2958</th>\n      <td>10</td>\n      <td>Make Room for Lisa</td>\n      <td>1128</td>\n      <td>Guard #1</td>\n      <td>Guard #2</td>\n    </tr>\n    <tr>\n      <th>221</th>\n      <td>3</td>\n      <td>Stark Raving Dad</td>\n      <td>74</td>\n      <td>Leon</td>\n      <td>Michael Jackson</td>\n    </tr>\n    <tr>\n      <th>835</th>\n      <td>5</td>\n      <td>Bart Gets Famous</td>\n      <td>263</td>\n      <td>Flanders</td>\n      <td>Mr. Burns</td>\n    </tr>\n    <tr>\n      <th>134</th>\n      <td>2</td>\n      <td>Itchy &amp;amp; Scratchy &amp;amp; Marge</td>\n      <td>44</td>\n      <td>Kent Brockman</td>\n      <td>Monroe</td>\n    </tr>\n    <tr>\n      <th>1352</th>\n      <td>6</td>\n      <td>The PTA Disbands</td>\n      <td>467</td>\n      <td>Miss Hoover</td>\n      <td>Principal Skinner</td>\n    </tr>\n  </tbody>\n</table>\n</div>"
     },
     "metadata": {},
     "execution_count": 14
    }
   ],
   "source": [
    "# let's look inside\n",
    "simpsons.sample(5)"
   ]
  },
  {
   "cell_type": "markdown",
   "id": "changing-spyware",
   "metadata": {
    "deletable": false,
    "editable": false,
    "nbgrader": {
     "checksum": "9dd5b745604b89003c40b1630c622056",
     "grade": false,
     "grade_id": "cell-54ddb379c667cfdf",
     "locked": true,
     "schema_version": 1,
     "solution": false
    }
   },
   "source": [
    "We see a row for every edge. The ```season``` and ```episode``` column has the season the conversation happened in. The ```lineid``` is a unique id for the conversation (note that if the conversation involved more than two people, we'd see the same lineid multiple times; see the Bart/Homer/Lisa example above). The columns ```c1``` and ```c2``` hold the two characters' names (the name in c1 will always be alphabetically before c2). We have tried to clean up this data as much as possible, but you may see some inconsistencies with names. For example, you might find different entries for \"Skinner\" and \"Principal Skinner\" even though they are the same character.\n",
    "\n",
    "Next, we'll build our network using networkx. "
   ]
  },
  {
   "cell_type": "code",
   "execution_count": 15,
   "id": "ordered-participant",
   "metadata": {},
   "outputs": [],
   "source": [
    "# utility classes\n",
    "\n",
    "def buildNetwork(quoteFrame):\n",
    "    # takes as input the quote frame (e.g., simpsons) or some subset of it\n",
    "    # and returns an undirected networkx graph\n",
    "    \n",
    "    weight = quoteFrame.groupby(['c1','c2']).count()\n",
    "    weight = weight.reset_index()\n",
    "    toret = nx.Graph()\n",
    "    for row in weight.iterrows():\n",
    "        row = row[1]\n",
    "        if (row['c1'] not in toret.nodes):\n",
    "            toret.add_node(row['c1'])\n",
    "            toret.nodes[row['c1']]['appearance'] = 0\n",
    "            toret.nodes[row['c1']]['label'] = row['c1']\n",
    "        if (row['c2'] not in toret.nodes):\n",
    "            toret.add_node(row['c2'])\n",
    "            toret.nodes[row['c2']]['appearance'] = 0\n",
    "            toret.nodes[row['c2']]['label'] = row['c2']\n",
    "        toret.nodes[row['c1']]['appearance'] = toret.nodes[row['c1']]['appearance'] + 1\n",
    "        toret.nodes[row['c2']]['appearance'] = toret.nodes[row['c2']]['appearance'] + 1\n",
    "        toret.add_edge(row['c1'],row['c2'])\n",
    "        toret.edges[row['c1'],row['c2']]['weight'] = int(row['season'])\n",
    "    return toret\n",
    "\n",
    "def getLayout(positions):\n",
    "    # helper function to build a dataframe of positions for nodes\n",
    "    elems = []\n",
    "    nodes = list(positions.keys())\n",
    "    for n in nodes:\n",
    "        elems.append({'node':n,'x':positions[n][0],'y':positions[n][1]})\n",
    "    return(pd.DataFrame(elems))\n",
    "\n",
    "def setCommunityLabels(G,communities):\n",
    "    # adds community labels to the networkx graph nodes\n",
    "    id = 0\n",
    "    for c in communities:\n",
    "        id = id + 1\n",
    "        for n in c:\n",
    "            G.nodes[n]['community'] = id\n",
    "    return(G)\n"
   ]
  },
  {
   "cell_type": "markdown",
   "id": "middle-memory",
   "metadata": {
    "deletable": false,
    "editable": false,
    "nbgrader": {
     "checksum": "404a24cec214c7df71c6655478a99d2a",
     "grade": false,
     "grade_id": "cell-242dbdc502e4480c",
     "locked": true,
     "schema_version": 1,
     "solution": false
    }
   },
   "source": [
    "## Problem 2.1\n",
    "\n",
    "We're going to go through a number of steps to build our first network diagram with networkx and nx-altair."
   ]
  },
  {
   "cell_type": "code",
   "execution_count": 16,
   "id": "juvenile-water",
   "metadata": {},
   "outputs": [],
   "source": [
    "# let's start by grabbing only the network for a single season (6)\n",
    "season6 = buildNetwork(simpsons[simpsons.season == 6])"
   ]
  },
  {
   "cell_type": "code",
   "execution_count": 17,
   "id": "hundred-vacation",
   "metadata": {},
   "outputs": [
    {
     "output_type": "execute_result",
     "data": {
      "text/plain": [
       "NodeView(('Abe', 'Crazy Old Man', 'Family', 'Homer', 'Jasper', 'Quimby', 'Accountant', 'Krusty the Clown', 'Aide', 'Al Gore', 'Bart', 'Kool', 'President', 'the Gang', 'Airport Worker', 'Amish Farmer', 'Announcer', 'Godfrey Jones', 'Kent Brockman', 'Apu', 'Chief Wiggum', 'Moe', 'Audience Member 1', 'Audience Member 2', 'McBain', 'Rainier Wolfcastle', 'Sherman', 'Wolfcastle', 'Australian man', 'Barney', 'Lisa', 'Man', 'Mayor Quimby', 'Woman', \"Bart's Brain\", 'Database', 'Grampa', 'Groundskeeper Willie', 'Helen', 'Helen Lovejoy', 'Hibbert', 'Jessica', 'Jessica Lovejoy', 'Lunchlady Doris', 'Marge', 'Marine', 'Martin', 'Maude', 'Milhouse', 'Mrs. Krabappel', 'Ned', 'Ned Flanders', 'Nelson', 'Principal Skinner', 'Reverend Lovejoy', 'Server', 'Shelby', 'Sherri', 'Sideshow Bob', 'Skinner', 'TV Announcer', 'Teacher', 'Bartender', 'Bob', 'Boy', 'Brother', 'Burns', 'Chespirito', 'Hans Moleman', 'Hopkins', 'Shatner', 'Smithers', 'Spielbergo', 'Carl', 'Lenny', 'Martian', 'Mr. Burns', 'Stonecutters', 'Carla', 'Clavin', 'Norm', 'Sam', 'Woody', 'Dr. Hibbert', 'Homer/Marge', 'Clerk', 'Store Owner', 'Comic Book Guy', 'Congressman', 'Speaker', 'Darth Vader', 'James Earl Jones', 'Mufasa', 'Mufasa/Vader/Jones', 'Murphy', 'Dr. Zweig', 'Euro-Itchy', 'Scratchy Land Ticket Attendant', 'Fat Tony', 'Legs', 'Louie', 'Flanders', 'Frink', 'Girl', 'Pilot 1', 'Pilot 2', 'Hitler', 'Officer', \"Homer's Brain\", \"Homer's Liver\", 'Jay', 'Lesbian', 'Maude Flanders', 'Mr. Peabody', 'Number One', 'Patty', 'Vendor', 'Hugh', 'Hutz', 'Jay Sherman', 'Jimbo', 'Judge', 'Largo', 'Leopold', 'Miss Hoover', 'Ralph', 'Maggie', 'Willie', 'Park Announcer', 'Nurse', 'Mr Burns', 'Old Woman', 'Scott', 'Selma'))"
      ]
     },
     "metadata": {},
     "execution_count": 17
    }
   ],
   "source": [
    "# season6 is a networkx object. You can ask for the edges or nodes\n",
    "season6.nodes"
   ]
  },
  {
   "cell_type": "code",
   "execution_count": 18,
   "id": "aggressive-constant",
   "metadata": {},
   "outputs": [
    {
     "output_type": "execute_result",
     "data": {
      "text/plain": [
       "35"
      ]
     },
     "metadata": {},
     "execution_count": 18
    }
   ],
   "source": [
    "# we also calculate a special attribute of nodes called 'appearance' which is equivalent to the \n",
    "# degree of the node. This will be useful to us when we want to change the visual property of the \n",
    "# node\n",
    "season6.nodes['Bart']['appearance']"
   ]
  },
  {
   "cell_type": "code",
   "execution_count": 19,
   "id": "boolean-certificate",
   "metadata": {},
   "outputs": [
    {
     "output_type": "stream",
     "name": "stdout",
     "text": [
      "35\n"
     ]
    }
   ],
   "source": [
    "# which is the same as this\n",
    "print(season6.degree('Bart'))"
   ]
  },
  {
   "cell_type": "code",
   "execution_count": 20,
   "id": "acute-newspaper",
   "metadata": {},
   "outputs": [
    {
     "output_type": "execute_result",
     "data": {
      "text/plain": [
       "19"
      ]
     },
     "metadata": {},
     "execution_count": 20
    }
   ],
   "source": [
    "# you can ask for the weights of specific edges:\n",
    "season6.edges['Homer','Bart']['weight']"
   ]
  },
  {
   "cell_type": "code",
   "execution_count": 21,
   "id": "infectious-checklist",
   "metadata": {},
   "outputs": [],
   "source": [
    "# You can even ask networkx to find the x-y positions for you:\n",
    "circular_pos = nx.circular_layout(season6)"
   ]
  },
  {
   "cell_type": "code",
   "execution_count": 22,
   "id": "objective-debut",
   "metadata": {},
   "outputs": [
    {
     "output_type": "execute_result",
     "data": {
      "text/html": "\n<div id=\"altair-viz-025b962999724389bd8da523140a7449\"></div>\n<script type=\"text/javascript\">\n  (function(spec, embedOpt){\n    let outputDiv = document.currentScript.previousElementSibling;\n    if (outputDiv.id !== \"altair-viz-025b962999724389bd8da523140a7449\") {\n      outputDiv = document.getElementById(\"altair-viz-025b962999724389bd8da523140a7449\");\n    }\n    const paths = {\n      \"vega\": \"https://cdn.jsdelivr.net/npm//vega@5?noext\",\n      \"vega-lib\": \"https://cdn.jsdelivr.net/npm//vega-lib?noext\",\n      \"vega-lite\": \"https://cdn.jsdelivr.net/npm//vega-lite@4.8.1?noext\",\n      \"vega-embed\": \"https://cdn.jsdelivr.net/npm//vega-embed@6?noext\",\n    };\n\n    function loadScript(lib) {\n      return new Promise(function(resolve, reject) {\n        var s = document.createElement('script');\n        s.src = paths[lib];\n        s.async = true;\n        s.onload = () => resolve(paths[lib]);\n        s.onerror = () => reject(`Error loading script: ${paths[lib]}`);\n        document.getElementsByTagName(\"head\")[0].appendChild(s);\n      });\n    }\n\n    function showError(err) {\n      outputDiv.innerHTML = `<div class=\"error\" style=\"color:red;\">${err}</div>`;\n      throw err;\n    }\n\n    function displayChart(vegaEmbed) {\n      vegaEmbed(outputDiv, spec, embedOpt)\n        .catch(err => showError(`Javascript Error: ${err.message}<br>This usually means there's a typo in your chart specification. See the javascript console for the full traceback.`));\n    }\n\n    if(typeof define === \"function\" && define.amd) {\n      requirejs.config({paths});\n      require([\"vega-embed\"], displayChart, err => showError(`Error loading script: ${err.message}`));\n    } else if (typeof vegaEmbed === \"function\") {\n      displayChart(vegaEmbed);\n    } else {\n      loadScript(\"vega\")\n        .then(() => loadScript(\"vega-lite\"))\n        .then(() => loadScript(\"vega-embed\"))\n        .catch(showError)\n        .then(() => displayChart(vegaEmbed));\n    }\n  })({\"config\": {\"view\": {\"continuousWidth\": 400, \"continuousHeight\": 300}}, \"layer\": [{\"data\": {\"url\": \"altair-data-5115eafdce18b72ae908193dab32efb4.json\", \"format\": {\"type\": \"json\"}}, \"mark\": {\"type\": \"line\", \"color\": \"black\", \"opacity\": 1, \"strokeWidth\": 1}, \"encoding\": {\"detail\": {\"type\": \"quantitative\", \"field\": \"edge\"}, \"x\": {\"type\": \"quantitative\", \"axis\": {\"grid\": false, \"labels\": false, \"ticks\": false, \"title\": \"\"}, \"field\": \"x\"}, \"y\": {\"type\": \"quantitative\", \"axis\": {\"grid\": false, \"labels\": false, \"ticks\": false, \"title\": \"\"}, \"field\": \"y\"}}}, {\"data\": {\"url\": \"altair-data-b711401b142533271aa6d8dfc076737e.json\", \"format\": {\"type\": \"json\"}}, \"mark\": {\"type\": \"point\", \"fill\": \"red\", \"opacity\": 1, \"size\": 300, \"strokeWidth\": 1.0}, \"encoding\": {\"x\": {\"type\": \"quantitative\", \"axis\": {\"grid\": false, \"labels\": false, \"ticks\": false}, \"field\": \"x\"}, \"y\": {\"type\": \"quantitative\", \"axis\": {\"grid\": false, \"labels\": false, \"ticks\": false}, \"field\": \"y\"}}}], \"$schema\": \"https://vega.github.io/schema/vega-lite/v4.8.1.json\"}, {\"mode\": \"vega-lite\"});\n</script>",
      "text/plain": [
       "alt.LayerChart(...)"
      ]
     },
     "metadata": {},
     "execution_count": 22
    }
   ],
   "source": [
    "# once you have the layout, you can ask nx-altair to draw the graph for you\n",
    "nxa.draw_networkx(season6, pos = circular_pos)"
   ]
  },
  {
   "cell_type": "markdown",
   "id": "entertaining-dollar",
   "metadata": {
    "deletable": false,
    "editable": false,
    "nbgrader": {
     "checksum": "5bbfcd1a6fb28e293ac5e57a4a34ff70",
     "grade": false,
     "grade_id": "cell-b5818ed78dfc8652",
     "locked": true,
     "schema_version": 1,
     "solution": false
    }
   },
   "source": [
    "## Problem 2.1.1\n",
    "\n",
    "Clearly, a circular layout isn't going to be great here. Thankfully, networkx has many other layouts: https://networkx.org/documentation/stable//reference/drawing.html#layout. Find one that generates a visualization that satisfies the 'properties of a good graph layout' described in the video lecture:"
   ]
  },
  {
   "cell_type": "code",
   "execution_count": 23,
   "id": "illegal-crest",
   "metadata": {
    "deletable": false,
    "nbgrader": {
     "checksum": "0f809e74326f2d1fef718f724bd184a3",
     "grade": true,
     "grade_id": "cell-a6ddd750de7c9f6d",
     "locked": false,
     "points": 0,
     "schema_version": 1,
     "solution": true
    }
   },
   "outputs": [
    {
     "output_type": "execute_result",
     "data": {
      "text/html": "\n<div id=\"altair-viz-75c4d54ff59d4c5887893d776fe881ae\"></div>\n<script type=\"text/javascript\">\n  (function(spec, embedOpt){\n    let outputDiv = document.currentScript.previousElementSibling;\n    if (outputDiv.id !== \"altair-viz-75c4d54ff59d4c5887893d776fe881ae\") {\n      outputDiv = document.getElementById(\"altair-viz-75c4d54ff59d4c5887893d776fe881ae\");\n    }\n    const paths = {\n      \"vega\": \"https://cdn.jsdelivr.net/npm//vega@5?noext\",\n      \"vega-lib\": \"https://cdn.jsdelivr.net/npm//vega-lib?noext\",\n      \"vega-lite\": \"https://cdn.jsdelivr.net/npm//vega-lite@4.8.1?noext\",\n      \"vega-embed\": \"https://cdn.jsdelivr.net/npm//vega-embed@6?noext\",\n    };\n\n    function loadScript(lib) {\n      return new Promise(function(resolve, reject) {\n        var s = document.createElement('script');\n        s.src = paths[lib];\n        s.async = true;\n        s.onload = () => resolve(paths[lib]);\n        s.onerror = () => reject(`Error loading script: ${paths[lib]}`);\n        document.getElementsByTagName(\"head\")[0].appendChild(s);\n      });\n    }\n\n    function showError(err) {\n      outputDiv.innerHTML = `<div class=\"error\" style=\"color:red;\">${err}</div>`;\n      throw err;\n    }\n\n    function displayChart(vegaEmbed) {\n      vegaEmbed(outputDiv, spec, embedOpt)\n        .catch(err => showError(`Javascript Error: ${err.message}<br>This usually means there's a typo in your chart specification. See the javascript console for the full traceback.`));\n    }\n\n    if(typeof define === \"function\" && define.amd) {\n      requirejs.config({paths});\n      require([\"vega-embed\"], displayChart, err => showError(`Error loading script: ${err.message}`));\n    } else if (typeof vegaEmbed === \"function\") {\n      displayChart(vegaEmbed);\n    } else {\n      loadScript(\"vega\")\n        .then(() => loadScript(\"vega-lite\"))\n        .then(() => loadScript(\"vega-embed\"))\n        .catch(showError)\n        .then(() => displayChart(vegaEmbed));\n    }\n  })({\"config\": {\"view\": {\"continuousWidth\": 400, \"continuousHeight\": 300}}, \"layer\": [{\"data\": {\"url\": \"altair-data-b3e3175799dc5ece654822c17558ebf3.json\", \"format\": {\"type\": \"json\"}}, \"mark\": {\"type\": \"line\", \"color\": \"black\", \"opacity\": 1, \"strokeWidth\": 1}, \"encoding\": {\"detail\": {\"type\": \"quantitative\", \"field\": \"edge\"}, \"x\": {\"type\": \"quantitative\", \"axis\": {\"grid\": false, \"labels\": false, \"ticks\": false, \"title\": \"\"}, \"field\": \"x\"}, \"y\": {\"type\": \"quantitative\", \"axis\": {\"grid\": false, \"labels\": false, \"ticks\": false, \"title\": \"\"}, \"field\": \"y\"}}}, {\"data\": {\"url\": \"altair-data-d700f52178cdca2e8fa8bc7ecc595991.json\", \"format\": {\"type\": \"json\"}}, \"mark\": {\"type\": \"point\", \"fill\": \"red\", \"opacity\": 1, \"size\": 300, \"strokeWidth\": 1.0}, \"encoding\": {\"x\": {\"type\": \"quantitative\", \"axis\": {\"grid\": false, \"labels\": false, \"ticks\": false}, \"field\": \"x\"}, \"y\": {\"type\": \"quantitative\", \"axis\": {\"grid\": false, \"labels\": false, \"ticks\": false}, \"field\": \"y\"}}}], \"height\": 500, \"width\": 500, \"$schema\": \"https://vega.github.io/schema/vega-lite/v4.8.1.json\"}, {\"mode\": \"vega-lite\"});\n</script>",
      "text/plain": [
       "alt.LayerChart(...)"
      ]
     },
     "metadata": {},
     "execution_count": 23
    }
   ],
   "source": [
    "# modify the line below\n",
    "pos = nx.kamada_kawai_layout(season6)\n",
    "\n",
    "# remove the exception once you're ready\n",
    "# YOUR CODE HERE\n",
    "# raise NotImplementedError()\n",
    "\n",
    "# to generate a good visualization (you shouldn't need to modify the line below)\n",
    "nxa.draw_networkx(season6, pos = pos).properties(\n",
    "    # nx-altair returns an Altair visualization, so we can modify\n",
    "    # the properties as usual\n",
    "    width=500,\n",
    "    height=500\n",
    ")\n"
   ]
  },
  {
   "cell_type": "markdown",
   "id": "funky-perspective",
   "metadata": {
    "deletable": false,
    "editable": false,
    "nbgrader": {
     "checksum": "433f6e8677e14387a69f03f2ad19e7d8",
     "grade": false,
     "grade_id": "cell-6372a79a0152e156",
     "locked": true,
     "schema_version": 1,
     "solution": false
    }
   },
   "source": [
    "## Problem 2.1.2\n",
    "\n",
    "Now that we have a network visualization that looks ok, we can start to modify it some more. The nx-altair library returns a layered Altair chart when you call ```draw_networkx```.  The bottom layer is the edges (lines) and the top will be the nodes (circles). The ```draw_networkx``` function allows you to control **some** properties of the visualization. For example:"
   ]
  },
  {
   "cell_type": "code",
   "execution_count": 24,
   "id": "tough-teddy",
   "metadata": {},
   "outputs": [
    {
     "output_type": "execute_result",
     "data": {
      "text/html": "\n<div id=\"altair-viz-2f416498ff324510b177b4d4b9f3d16f\"></div>\n<script type=\"text/javascript\">\n  (function(spec, embedOpt){\n    let outputDiv = document.currentScript.previousElementSibling;\n    if (outputDiv.id !== \"altair-viz-2f416498ff324510b177b4d4b9f3d16f\") {\n      outputDiv = document.getElementById(\"altair-viz-2f416498ff324510b177b4d4b9f3d16f\");\n    }\n    const paths = {\n      \"vega\": \"https://cdn.jsdelivr.net/npm//vega@5?noext\",\n      \"vega-lib\": \"https://cdn.jsdelivr.net/npm//vega-lib?noext\",\n      \"vega-lite\": \"https://cdn.jsdelivr.net/npm//vega-lite@4.8.1?noext\",\n      \"vega-embed\": \"https://cdn.jsdelivr.net/npm//vega-embed@6?noext\",\n    };\n\n    function loadScript(lib) {\n      return new Promise(function(resolve, reject) {\n        var s = document.createElement('script');\n        s.src = paths[lib];\n        s.async = true;\n        s.onload = () => resolve(paths[lib]);\n        s.onerror = () => reject(`Error loading script: ${paths[lib]}`);\n        document.getElementsByTagName(\"head\")[0].appendChild(s);\n      });\n    }\n\n    function showError(err) {\n      outputDiv.innerHTML = `<div class=\"error\" style=\"color:red;\">${err}</div>`;\n      throw err;\n    }\n\n    function displayChart(vegaEmbed) {\n      vegaEmbed(outputDiv, spec, embedOpt)\n        .catch(err => showError(`Javascript Error: ${err.message}<br>This usually means there's a typo in your chart specification. See the javascript console for the full traceback.`));\n    }\n\n    if(typeof define === \"function\" && define.amd) {\n      requirejs.config({paths});\n      require([\"vega-embed\"], displayChart, err => showError(`Error loading script: ${err.message}`));\n    } else if (typeof vegaEmbed === \"function\") {\n      displayChart(vegaEmbed);\n    } else {\n      loadScript(\"vega\")\n        .then(() => loadScript(\"vega-lite\"))\n        .then(() => loadScript(\"vega-embed\"))\n        .catch(showError)\n        .then(() => displayChart(vegaEmbed));\n    }\n  })({\"config\": {\"view\": {\"continuousWidth\": 400, \"continuousHeight\": 300}}, \"layer\": [{\"data\": {\"url\": \"altair-data-b3e3175799dc5ece654822c17558ebf3.json\", \"format\": {\"type\": \"json\"}}, \"mark\": {\"type\": \"line\", \"color\": \"black\", \"opacity\": 1}, \"encoding\": {\"detail\": {\"type\": \"quantitative\", \"field\": \"edge\"}, \"size\": {\"type\": \"quantitative\", \"field\": \"weight\", \"legend\": null}, \"x\": {\"type\": \"quantitative\", \"axis\": {\"grid\": false, \"labels\": false, \"ticks\": false, \"title\": \"\"}, \"field\": \"x\"}, \"y\": {\"type\": \"quantitative\", \"axis\": {\"grid\": false, \"labels\": false, \"ticks\": false, \"title\": \"\"}, \"field\": \"y\"}}}, {\"data\": {\"url\": \"altair-data-d700f52178cdca2e8fa8bc7ecc595991.json\", \"format\": {\"type\": \"json\"}}, \"mark\": {\"type\": \"point\", \"opacity\": 1, \"size\": 300, \"strokeWidth\": 1.0}, \"encoding\": {\"fill\": {\"type\": \"quantitative\", \"field\": \"appearance\"}, \"x\": {\"type\": \"quantitative\", \"axis\": {\"grid\": false, \"labels\": false, \"ticks\": false}, \"field\": \"x\"}, \"y\": {\"type\": \"quantitative\", \"axis\": {\"grid\": false, \"labels\": false, \"ticks\": false}, \"field\": \"y\"}}}], \"$schema\": \"https://vega.github.io/schema/vega-lite/v4.8.1.json\"}, {\"mode\": \"vega-lite\"});\n</script>",
      "text/plain": [
       "alt.LayerChart(...)"
      ]
     },
     "metadata": {},
     "execution_count": 24
    }
   ],
   "source": [
    "# recall that we have calculated 'weight' (an edge feature) and 'apperance' (a node feature--which is the degree)\n",
    "# let's modify our network to visualize these:\n",
    "\n",
    "nxa.draw_networkx(season6, pos=pos,width='weight',node_color='appearance')"
   ]
  },
  {
   "cell_type": "markdown",
   "id": "plain-mileage",
   "metadata": {
    "deletable": false,
    "editable": false,
    "nbgrader": {
     "checksum": "f0e9dc9b7e09e7012caa3102d40e3d3e",
     "grade": false,
     "grade_id": "cell-8b41a0b66f82ff0c",
     "locked": true,
     "schema_version": 1,
     "solution": false
    }
   },
   "source": [
    "In some situations, we'll want to get the two different parts of the Layered plot so we can refine them. For that, we have the ability to ask for ```draw_networkx_edges``` and ```draw_networkx_nodes```:"
   ]
  },
  {
   "cell_type": "code",
   "execution_count": 25,
   "id": "choice-charter",
   "metadata": {},
   "outputs": [
    {
     "output_type": "execute_result",
     "data": {
      "text/html": "\n<div id=\"altair-viz-1f9602e6d5e6462d8af945add039a863\"></div>\n<script type=\"text/javascript\">\n  (function(spec, embedOpt){\n    let outputDiv = document.currentScript.previousElementSibling;\n    if (outputDiv.id !== \"altair-viz-1f9602e6d5e6462d8af945add039a863\") {\n      outputDiv = document.getElementById(\"altair-viz-1f9602e6d5e6462d8af945add039a863\");\n    }\n    const paths = {\n      \"vega\": \"https://cdn.jsdelivr.net/npm//vega@5?noext\",\n      \"vega-lib\": \"https://cdn.jsdelivr.net/npm//vega-lib?noext\",\n      \"vega-lite\": \"https://cdn.jsdelivr.net/npm//vega-lite@4.8.1?noext\",\n      \"vega-embed\": \"https://cdn.jsdelivr.net/npm//vega-embed@6?noext\",\n    };\n\n    function loadScript(lib) {\n      return new Promise(function(resolve, reject) {\n        var s = document.createElement('script');\n        s.src = paths[lib];\n        s.async = true;\n        s.onload = () => resolve(paths[lib]);\n        s.onerror = () => reject(`Error loading script: ${paths[lib]}`);\n        document.getElementsByTagName(\"head\")[0].appendChild(s);\n      });\n    }\n\n    function showError(err) {\n      outputDiv.innerHTML = `<div class=\"error\" style=\"color:red;\">${err}</div>`;\n      throw err;\n    }\n\n    function displayChart(vegaEmbed) {\n      vegaEmbed(outputDiv, spec, embedOpt)\n        .catch(err => showError(`Javascript Error: ${err.message}<br>This usually means there's a typo in your chart specification. See the javascript console for the full traceback.`));\n    }\n\n    if(typeof define === \"function\" && define.amd) {\n      requirejs.config({paths});\n      require([\"vega-embed\"], displayChart, err => showError(`Error loading script: ${err.message}`));\n    } else if (typeof vegaEmbed === \"function\") {\n      displayChart(vegaEmbed);\n    } else {\n      loadScript(\"vega\")\n        .then(() => loadScript(\"vega-lite\"))\n        .then(() => loadScript(\"vega-embed\"))\n        .catch(showError)\n        .then(() => displayChart(vegaEmbed));\n    }\n  })({\"config\": {\"view\": {\"continuousWidth\": 400, \"continuousHeight\": 300}}, \"data\": {\"url\": \"altair-data-b3e3175799dc5ece654822c17558ebf3.json\", \"format\": {\"type\": \"json\"}}, \"mark\": {\"type\": \"line\", \"color\": \"black\", \"opacity\": 1.0, \"strokeWidth\": 1}, \"encoding\": {\"detail\": {\"type\": \"quantitative\", \"field\": \"edge\"}, \"x\": {\"type\": \"quantitative\", \"axis\": {\"grid\": false, \"labels\": false, \"ticks\": false, \"title\": \"\"}, \"field\": \"x\"}, \"y\": {\"type\": \"quantitative\", \"axis\": {\"grid\": false, \"labels\": false, \"ticks\": false, \"title\": \"\"}, \"field\": \"y\"}}, \"$schema\": \"https://vega.github.io/schema/vega-lite/v4.8.1.json\"}, {\"mode\": \"vega-lite\"});\n</script>",
      "text/plain": [
       "alt.Chart(...)"
      ]
     },
     "metadata": {},
     "execution_count": 25
    }
   ],
   "source": [
    "e = nxa.draw_networkx_edges(season6, pos=pos)  # get the edge layer\n",
    "e  # draw it"
   ]
  },
  {
   "cell_type": "code",
   "execution_count": 26,
   "id": "artistic-technical",
   "metadata": {},
   "outputs": [
    {
     "output_type": "execute_result",
     "data": {
      "text/html": "\n<div id=\"altair-viz-5f3a3f67bb60473488105dda51dafce1\"></div>\n<script type=\"text/javascript\">\n  (function(spec, embedOpt){\n    let outputDiv = document.currentScript.previousElementSibling;\n    if (outputDiv.id !== \"altair-viz-5f3a3f67bb60473488105dda51dafce1\") {\n      outputDiv = document.getElementById(\"altair-viz-5f3a3f67bb60473488105dda51dafce1\");\n    }\n    const paths = {\n      \"vega\": \"https://cdn.jsdelivr.net/npm//vega@5?noext\",\n      \"vega-lib\": \"https://cdn.jsdelivr.net/npm//vega-lib?noext\",\n      \"vega-lite\": \"https://cdn.jsdelivr.net/npm//vega-lite@4.8.1?noext\",\n      \"vega-embed\": \"https://cdn.jsdelivr.net/npm//vega-embed@6?noext\",\n    };\n\n    function loadScript(lib) {\n      return new Promise(function(resolve, reject) {\n        var s = document.createElement('script');\n        s.src = paths[lib];\n        s.async = true;\n        s.onload = () => resolve(paths[lib]);\n        s.onerror = () => reject(`Error loading script: ${paths[lib]}`);\n        document.getElementsByTagName(\"head\")[0].appendChild(s);\n      });\n    }\n\n    function showError(err) {\n      outputDiv.innerHTML = `<div class=\"error\" style=\"color:red;\">${err}</div>`;\n      throw err;\n    }\n\n    function displayChart(vegaEmbed) {\n      vegaEmbed(outputDiv, spec, embedOpt)\n        .catch(err => showError(`Javascript Error: ${err.message}<br>This usually means there's a typo in your chart specification. See the javascript console for the full traceback.`));\n    }\n\n    if(typeof define === \"function\" && define.amd) {\n      requirejs.config({paths});\n      require([\"vega-embed\"], displayChart, err => showError(`Error loading script: ${err.message}`));\n    } else if (typeof vegaEmbed === \"function\") {\n      displayChart(vegaEmbed);\n    } else {\n      loadScript(\"vega\")\n        .then(() => loadScript(\"vega-lite\"))\n        .then(() => loadScript(\"vega-embed\"))\n        .catch(showError)\n        .then(() => displayChart(vegaEmbed));\n    }\n  })({\"config\": {\"view\": {\"continuousWidth\": 400, \"continuousHeight\": 300}}, \"data\": {\"url\": \"altair-data-d700f52178cdca2e8fa8bc7ecc595991.json\", \"format\": {\"type\": \"json\"}}, \"mark\": {\"type\": \"point\", \"fill\": \"red\", \"opacity\": 1, \"size\": 300, \"strokeWidth\": 1.0}, \"encoding\": {\"x\": {\"type\": \"quantitative\", \"axis\": {\"grid\": false, \"labels\": false, \"ticks\": false}, \"field\": \"x\"}, \"y\": {\"type\": \"quantitative\", \"axis\": {\"grid\": false, \"labels\": false, \"ticks\": false}, \"field\": \"y\"}}, \"$schema\": \"https://vega.github.io/schema/vega-lite/v4.8.1.json\"}, {\"mode\": \"vega-lite\"});\n</script>",
      "text/plain": [
       "alt.Chart(...)"
      ]
     },
     "metadata": {},
     "execution_count": 26
    }
   ],
   "source": [
    "n = nxa.draw_networkx_nodes(season6, pos=pos)  # get the node layer \n",
    "n # draw it"
   ]
  },
  {
   "cell_type": "code",
   "execution_count": 27,
   "id": "senior-treatment",
   "metadata": {},
   "outputs": [
    {
     "output_type": "execute_result",
     "data": {
      "text/html": "\n<div id=\"altair-viz-b84ce0b046ce42a9a208f54c41ac4388\"></div>\n<script type=\"text/javascript\">\n  (function(spec, embedOpt){\n    let outputDiv = document.currentScript.previousElementSibling;\n    if (outputDiv.id !== \"altair-viz-b84ce0b046ce42a9a208f54c41ac4388\") {\n      outputDiv = document.getElementById(\"altair-viz-b84ce0b046ce42a9a208f54c41ac4388\");\n    }\n    const paths = {\n      \"vega\": \"https://cdn.jsdelivr.net/npm//vega@5?noext\",\n      \"vega-lib\": \"https://cdn.jsdelivr.net/npm//vega-lib?noext\",\n      \"vega-lite\": \"https://cdn.jsdelivr.net/npm//vega-lite@4.8.1?noext\",\n      \"vega-embed\": \"https://cdn.jsdelivr.net/npm//vega-embed@6?noext\",\n    };\n\n    function loadScript(lib) {\n      return new Promise(function(resolve, reject) {\n        var s = document.createElement('script');\n        s.src = paths[lib];\n        s.async = true;\n        s.onload = () => resolve(paths[lib]);\n        s.onerror = () => reject(`Error loading script: ${paths[lib]}`);\n        document.getElementsByTagName(\"head\")[0].appendChild(s);\n      });\n    }\n\n    function showError(err) {\n      outputDiv.innerHTML = `<div class=\"error\" style=\"color:red;\">${err}</div>`;\n      throw err;\n    }\n\n    function displayChart(vegaEmbed) {\n      vegaEmbed(outputDiv, spec, embedOpt)\n        .catch(err => showError(`Javascript Error: ${err.message}<br>This usually means there's a typo in your chart specification. See the javascript console for the full traceback.`));\n    }\n\n    if(typeof define === \"function\" && define.amd) {\n      requirejs.config({paths});\n      require([\"vega-embed\"], displayChart, err => showError(`Error loading script: ${err.message}`));\n    } else if (typeof vegaEmbed === \"function\") {\n      displayChart(vegaEmbed);\n    } else {\n      loadScript(\"vega\")\n        .then(() => loadScript(\"vega-lite\"))\n        .then(() => loadScript(\"vega-embed\"))\n        .catch(showError)\n        .then(() => displayChart(vegaEmbed));\n    }\n  })({\"config\": {\"view\": {\"continuousWidth\": 400, \"continuousHeight\": 300}}, \"layer\": [{\"data\": {\"url\": \"altair-data-b3e3175799dc5ece654822c17558ebf3.json\", \"format\": {\"type\": \"json\"}}, \"mark\": {\"type\": \"line\", \"color\": \"black\", \"opacity\": 1.0, \"strokeWidth\": 1}, \"encoding\": {\"detail\": {\"type\": \"quantitative\", \"field\": \"edge\"}, \"x\": {\"type\": \"quantitative\", \"axis\": {\"grid\": false, \"labels\": false, \"ticks\": false, \"title\": \"\"}, \"field\": \"x\"}, \"y\": {\"type\": \"quantitative\", \"axis\": {\"grid\": false, \"labels\": false, \"ticks\": false, \"title\": \"\"}, \"field\": \"y\"}}}, {\"data\": {\"url\": \"altair-data-d700f52178cdca2e8fa8bc7ecc595991.json\", \"format\": {\"type\": \"json\"}}, \"mark\": {\"type\": \"point\", \"fill\": \"red\", \"opacity\": 1, \"size\": 300, \"strokeWidth\": 1.0}, \"encoding\": {\"x\": {\"type\": \"quantitative\", \"axis\": {\"grid\": false, \"labels\": false, \"ticks\": false}, \"field\": \"x\"}, \"y\": {\"type\": \"quantitative\", \"axis\": {\"grid\": false, \"labels\": false, \"ticks\": false}, \"field\": \"y\"}}}], \"height\": 500, \"width\": 500, \"$schema\": \"https://vega.github.io/schema/vega-lite/v4.8.1.json\"}, {\"mode\": \"vega-lite\"});\n</script>",
      "text/plain": [
       "alt.LayerChart(...)"
      ]
     },
     "metadata": {},
     "execution_count": 27
    }
   ],
   "source": [
    "# combine them back\n",
    "(e+n).properties(\n",
    "    width=500,height=500\n",
    ")"
   ]
  },
  {
   "cell_type": "markdown",
   "id": "aware-anxiety",
   "metadata": {
    "deletable": false,
    "editable": false,
    "nbgrader": {
     "checksum": "b1819778d9de098fd874ce699dd112c0",
     "grade": false,
     "grade_id": "cell-3464cc3a1959236d",
     "locked": true,
     "schema_version": 1,
     "solution": false
    }
   },
   "source": [
    "## Problem 2.1.3\n",
    "\n",
    "We're going to calculate a new feature of nodes based on a community detection algorithm. If you want to know more [read here](https://networkx.org/documentation/stable/reference/algorithms/generated/networkx.algorithms.community.modularity_max.greedy_modularity_communities.html). We'll augment our networkx object so we have a ```community``` \"column\" that can be used as a nominal feature of the nodes in visualization. "
   ]
  },
  {
   "cell_type": "code",
   "execution_count": 28,
   "id": "foster-flight",
   "metadata": {},
   "outputs": [],
   "source": [
    "season6 = setCommunityLabels(season6, greedy_modularity_communities(season6))"
   ]
  },
  {
   "cell_type": "code",
   "execution_count": 29,
   "id": "organic-quantity",
   "metadata": {},
   "outputs": [
    {
     "output_type": "execute_result",
     "data": {
      "text/plain": [
       "2"
      ]
     },
     "metadata": {},
     "execution_count": 29
    }
   ],
   "source": [
    "# let's see what community Bart is now in:\n",
    "season6.nodes['Bart']['community']"
   ]
  },
  {
   "cell_type": "markdown",
   "id": "rubber-horse",
   "metadata": {
    "deletable": false,
    "editable": false,
    "nbgrader": {
     "checksum": "a5d840aa46ffaf82027bab1474548695",
     "grade": false,
     "grade_id": "cell-63ce176252378e70",
     "locked": true,
     "schema_version": 1,
     "solution": false
    }
   },
   "source": [
    "Modify the node and edge layers to add tooltips for mousing over the nodes. Change the color of the nodes based on the community, the size based on appearance, and change the edge width and color based on weight. Something like this:\n",
    "\n",
    "![\"example image\"](assets/networkx1.gif)\n",
    "\n",
    "Some hints:\n",
    "* you may want to re-encode the node layer to mark_circle or mark_point explicitly (```n = n.mark_circle(...)```)\n",
    "* the edges are built using a mark_line, you should look at the features of this mark type [here](https://altair-viz.github.io/user_guide/generated/toplevel/altair.Chart.html#altair.Chart.mark_line)"
   ]
  },
  {
   "cell_type": "code",
   "execution_count": 30,
   "id": "previous-motor",
   "metadata": {
    "deletable": false,
    "nbgrader": {
     "checksum": "8cd84d0d76412281a622e257c5ace063",
     "grade": true,
     "grade_id": "cell-d42b6cac5e661cb8",
     "locked": false,
     "points": 0,
     "schema_version": 1,
     "solution": true
    }
   },
   "outputs": [
    {
     "output_type": "execute_result",
     "data": {
      "text/html": "\n<div id=\"altair-viz-6dbbfb5c3b8f42fb99b65e166f441e9a\"></div>\n<script type=\"text/javascript\">\n  (function(spec, embedOpt){\n    let outputDiv = document.currentScript.previousElementSibling;\n    if (outputDiv.id !== \"altair-viz-6dbbfb5c3b8f42fb99b65e166f441e9a\") {\n      outputDiv = document.getElementById(\"altair-viz-6dbbfb5c3b8f42fb99b65e166f441e9a\");\n    }\n    const paths = {\n      \"vega\": \"https://cdn.jsdelivr.net/npm//vega@5?noext\",\n      \"vega-lib\": \"https://cdn.jsdelivr.net/npm//vega-lib?noext\",\n      \"vega-lite\": \"https://cdn.jsdelivr.net/npm//vega-lite@4.8.1?noext\",\n      \"vega-embed\": \"https://cdn.jsdelivr.net/npm//vega-embed@6?noext\",\n    };\n\n    function loadScript(lib) {\n      return new Promise(function(resolve, reject) {\n        var s = document.createElement('script');\n        s.src = paths[lib];\n        s.async = true;\n        s.onload = () => resolve(paths[lib]);\n        s.onerror = () => reject(`Error loading script: ${paths[lib]}`);\n        document.getElementsByTagName(\"head\")[0].appendChild(s);\n      });\n    }\n\n    function showError(err) {\n      outputDiv.innerHTML = `<div class=\"error\" style=\"color:red;\">${err}</div>`;\n      throw err;\n    }\n\n    function displayChart(vegaEmbed) {\n      vegaEmbed(outputDiv, spec, embedOpt)\n        .catch(err => showError(`Javascript Error: ${err.message}<br>This usually means there's a typo in your chart specification. See the javascript console for the full traceback.`));\n    }\n\n    if(typeof define === \"function\" && define.amd) {\n      requirejs.config({paths});\n      require([\"vega-embed\"], displayChart, err => showError(`Error loading script: ${err.message}`));\n    } else if (typeof vegaEmbed === \"function\") {\n      displayChart(vegaEmbed);\n    } else {\n      loadScript(\"vega\")\n        .then(() => loadScript(\"vega-lite\"))\n        .then(() => loadScript(\"vega-embed\"))\n        .catch(showError)\n        .then(() => displayChart(vegaEmbed));\n    }\n  })({\"config\": {\"view\": {\"continuousWidth\": 400, \"continuousHeight\": 300}}, \"layer\": [{\"mark\": {\"type\": \"point\", \"filled\": true, \"opacity\": 1}, \"encoding\": {\"color\": {\"type\": \"nominal\", \"field\": \"community\", \"legend\": null}, \"detail\": {\"type\": \"quantitative\", \"field\": \"edge\"}, \"size\": {\"type\": \"quantitative\", \"field\": \"appearance\", \"scale\": {\"domain\": [0, 10, 20, 30, 40, 50, 60], \"range\": [10, 60]}}, \"x\": {\"type\": \"quantitative\", \"axis\": {\"grid\": false, \"labels\": false, \"ticks\": false, \"title\": \"\"}, \"field\": \"x\"}, \"y\": {\"type\": \"quantitative\", \"axis\": {\"grid\": false, \"labels\": false, \"ticks\": false, \"title\": \"\"}, \"field\": \"y\"}}, \"selection\": {\"selector005\": {\"type\": \"single\", \"on\": \"mouseover\", \"nearest\": true}, \"selector006\": {\"type\": \"interval\", \"bind\": \"scales\", \"encodings\": [\"x\", \"y\"]}}}, {\"mark\": {\"type\": \"line\", \"color\": \"lightgrey\", \"opacity\": 0.3}, \"encoding\": {\"color\": {\"type\": \"nominal\", \"field\": \"community\", \"legend\": null}, \"detail\": {\"type\": \"quantitative\", \"field\": \"edge\"}, \"size\": {\"type\": \"quantitative\", \"field\": \"appearance\", \"scale\": {\"domain\": [0, 10, 20, 30, 40, 50, 60], \"range\": [10, 60]}}, \"x\": {\"type\": \"quantitative\", \"axis\": {\"grid\": false, \"labels\": false, \"ticks\": false, \"title\": \"\"}, \"field\": \"x\"}, \"y\": {\"type\": \"quantitative\", \"axis\": {\"grid\": false, \"labels\": false, \"ticks\": false, \"title\": \"\"}, \"field\": \"y\"}}}, {\"data\": {\"url\": \"altair-data-0dde4bb6641ddcd4a48230d630378eac.json\", \"format\": {\"type\": \"json\"}}, \"mark\": {\"type\": \"circle\", \"filled\": true, \"opacity\": 1}, \"encoding\": {\"color\": {\"type\": \"nominal\", \"field\": \"community\", \"legend\": null}, \"size\": {\"type\": \"quantitative\", \"field\": \"appearance\", \"scale\": {\"domain\": [0, 10, 20, 30, 40, 50, 60], \"range\": [10, 60]}}, \"tooltip\": {\"type\": \"nominal\", \"field\": \"label\", \"title\": null}, \"x\": {\"type\": \"quantitative\", \"axis\": {\"grid\": false, \"labels\": false, \"ticks\": false}, \"field\": \"x\"}, \"y\": {\"type\": \"quantitative\", \"axis\": {\"grid\": false, \"labels\": false, \"ticks\": false}, \"field\": \"y\"}}, \"selection\": {\"selector007\": {\"type\": \"interval\", \"bind\": \"scales\", \"encodings\": [\"x\", \"y\"]}}}], \"data\": {\"url\": \"altair-data-b3e3175799dc5ece654822c17558ebf3.json\", \"format\": {\"type\": \"json\"}}, \"height\": 600, \"width\": 600, \"$schema\": \"https://vega.github.io/schema/vega-lite/v4.8.1.json\"}, {\"mode\": \"vega-lite\"});\n</script>",
      "text/plain": [
       "alt.LayerChart(...)"
      ]
     },
     "metadata": {},
     "execution_count": 30
    }
   ],
   "source": [
    "e = nxa.draw_networkx_edges(season6, pos=pos)  # get the edge layer\n",
    "n = nxa.draw_networkx_nodes(season6, pos=pos)  # get the node layer \n",
    "\n",
    "# modify the code to change the encodings\n",
    "nearest = alt.selection_single(on='mouseover', nearest=True)\n",
    "\n",
    "e = e.mark_point(filled=True, opacity=1).encode(\n",
    "    color=alt.Color('community:N', legend=None),\n",
    "    size=alt.Size('appearance:Q', scale=alt.Scale(domain=[0,10,20,30,40,50,60], range=[10,60]))\n",
    ")\n",
    "\n",
    "n = n.mark_circle(filled=True, opacity=1).encode(\n",
    "    color=alt.Color('community:N', legend=None),\n",
    "    size=alt.Size('appearance:Q', scale=alt.Scale(domain=[0,10,20,30,40,50,60], range=[10,60])),\n",
    "    tooltip=alt.Tooltip('label:N', title=None)\n",
    ")\n",
    "\n",
    "l = e.mark_line(color='lightgrey', opacity=0.3).encode()\n",
    "# remove the exception to render\n",
    "# YOUR CODE HERE\n",
    "# raise NotImplementedError()\n",
    "(e.add_selection(nearest).interactive()+l+n.interactive()).properties(\n",
    "    width=600,height=600\n",
    ")\n"
   ]
  },
  {
   "cell_type": "markdown",
   "id": "metric-admission",
   "metadata": {
    "deletable": false,
    "editable": false,
    "nbgrader": {
     "checksum": "23d939e554306a43e616b38371640169",
     "grade": false,
     "grade_id": "cell-23010fd11dc19a1d",
     "locked": true,
     "schema_version": 1,
     "solution": false
    }
   },
   "source": [
    "## Problem 2.2\n",
    "\n",
    "Now that we have the basics, we're going to build a visualization to help us compare pairs of seasons. We'd like to understand which characters have been more central to which season and how that's changed. Our final dashboard will look something like this:\n",
    "\n",
    "![\"dashboard example\"](assets/comparisondash.gif)\n",
    "\n",
    "Key things to observe: color is based on community labels, there's a mouse over interaction that changes the color of ALL the visualizations if the character appears everywhere. There is also a tooltip over the nodes to get the # of appearaces. The network diagrams are laid out neatly, and the bars are sorted based on changes between seasons (and values double encoded through color).\n",
    "\n",
    "Notice there are two repeating sets of graphs. So we can try to be efficient in how we code this.  Let's get started..."
   ]
  },
  {
   "cell_type": "code",
   "execution_count": 31,
   "id": "round-certificate",
   "metadata": {},
   "outputs": [],
   "source": [
    "# we're going to want the networkx objects for different charts, so let's write a function for that\n",
    "\n",
    "def getNetwork(season):\n",
    "    # build a networkx object given the season, annotate with community labels\n",
    "    toret = buildNetwork(simpsons[simpsons.season == season])\n",
    "    toret = setCommunityLabels(toret,greedy_modularity_communities(toret))\n",
    "    return(toret)"
   ]
  },
  {
   "cell_type": "code",
   "execution_count": 32,
   "id": "guided-colony",
   "metadata": {},
   "outputs": [],
   "source": [
    "# get the networkx objects for seasons 5 and 9\n",
    "s5net = getNetwork(5)\n",
    "s9net = getNetwork(9)"
   ]
  },
  {
   "cell_type": "code",
   "execution_count": 33,
   "id": "geographic-search",
   "metadata": {},
   "outputs": [],
   "source": [
    "# we also want the data for the two bar charts, we're going to do that part for you...\n",
    "\n",
    "def getTotal(G):\n",
    "    # total appearnce across all characters in a given graph\n",
    "    app = 0\n",
    "    for nd in G.nodes:\n",
    "        app = app + G.nodes[nd]['appearance']\n",
    "    return(app)\n",
    "\n",
    "def getComparisonData(G1,G2,threshold=5):\n",
    "    # generate two dataframes given two graphs\n",
    "    # the first is the difference in apparances (normalized) when a character is in both\n",
    "    # the second is for characters that are either in G1 or G2, but not both\n",
    "    # the threshold defines the cutoff for how many interactions a character must have \n",
    "    # to be included in the second ('difference') data frame\n",
    "    t1total = getTotal(G1)\n",
    "    t2total = getTotal(G2)\n",
    "    union = []\n",
    "    difference = []\n",
    "    allentities = set(G1.nodes).union(set(G2.nodes))\n",
    "\n",
    "    for i in allentities:\n",
    "        if ((i in G1.nodes) & (i in G2.nodes)):\n",
    "            diff = G1.nodes[i]['appearance']/t1total-G2.nodes[i]['appearance']/t2total\n",
    "            union.append({'label':i,'difference': diff})\n",
    "        elif (i in G1.nodes):\n",
    "            if (G1.nodes[i]['appearance'] > threshold):\n",
    "                difference.append({'label':i,'difference':-G1.nodes[i]['appearance']/t1total})\n",
    "        elif (i in G2.nodes):\n",
    "            if (G2.nodes[i]['appearance'] > threshold):\n",
    "                difference.append({'label':i,'difference':G2.nodes[i]['appearance']/t2total})\n",
    "\n",
    "    return(pd.DataFrame(union),pd.DataFrame(difference))"
   ]
  },
  {
   "cell_type": "code",
   "execution_count": 34,
   "id": "muslim-appointment",
   "metadata": {},
   "outputs": [
    {
     "output_type": "execute_result",
     "data": {
      "text/plain": [
       "     label  difference\n",
       "2      Apu    0.013532\n",
       "0     Kent    0.003119\n",
       "17  Krusty   -0.002181\n",
       "27     Ned    0.000070\n",
       "13  Martin    0.005042"
      ],
      "text/html": "<div>\n<style scoped>\n    .dataframe tbody tr th:only-of-type {\n        vertical-align: middle;\n    }\n\n    .dataframe tbody tr th {\n        vertical-align: top;\n    }\n\n    .dataframe thead th {\n        text-align: right;\n    }\n</style>\n<table border=\"1\" class=\"dataframe\">\n  <thead>\n    <tr style=\"text-align: right;\">\n      <th></th>\n      <th>label</th>\n      <th>difference</th>\n    </tr>\n  </thead>\n  <tbody>\n    <tr>\n      <th>2</th>\n      <td>Apu</td>\n      <td>0.013532</td>\n    </tr>\n    <tr>\n      <th>0</th>\n      <td>Kent</td>\n      <td>0.003119</td>\n    </tr>\n    <tr>\n      <th>17</th>\n      <td>Krusty</td>\n      <td>-0.002181</td>\n    </tr>\n    <tr>\n      <th>27</th>\n      <td>Ned</td>\n      <td>0.000070</td>\n    </tr>\n    <tr>\n      <th>13</th>\n      <td>Martin</td>\n      <td>0.005042</td>\n    </tr>\n  </tbody>\n</table>\n</div>"
     },
     "metadata": {},
     "execution_count": 34
    }
   ],
   "source": [
    "# let's compare the season 5 and 9 networks\n",
    "union,difference = getComparisonData(s5net,s9net)\n",
    "\n",
    "# look inside the union dataframe (the difference one will be similar)\n",
    "union.sample(5)"
   ]
  },
  {
   "cell_type": "markdown",
   "id": "settled-strengthening",
   "metadata": {
    "deletable": false,
    "editable": false,
    "nbgrader": {
     "checksum": "4195b7e4b3c35113f09ecf1a77b6a4c0",
     "grade": false,
     "grade_id": "cell-b2d63ee07aea5bb6",
     "locked": true,
     "schema_version": 1,
     "solution": false
    }
   },
   "source": [
    "This is where you need to start coding. You will modify the two functions ```getComparisonBar``` and ```getNetworkDiagram``` based on their specifications. Both should return Altair charts (a bar chart and a modified nx-altair diagram respectively). \n",
    "\n",
    "We will hand you the Altair Selection object (```sel```), but you will need to use it to implement interactivity in your chart. You can look at the ```getNetworkDashboard``` to see how we implemented this, but basically, we use:\n",
    "\n",
    "```alt.selection_single(on='mouseover',fields=['label'])```"
   ]
  },
  {
   "cell_type": "code",
   "execution_count": 35,
   "id": "swiss-negotiation",
   "metadata": {
    "deletable": false,
    "nbgrader": {
     "checksum": "2ddeb68b739ddcd6ebf2094b04476823",
     "grade": true,
     "grade_id": "cell-afee8f49d7f63e6f",
     "locked": false,
     "points": 0,
     "schema_version": 1,
     "solution": true
    }
   },
   "outputs": [],
   "source": [
    "def getComparisonBar(frame,sel,title):\n",
    "    # return an Altair chart corresponding to the bar chart example\n",
    "    # above, given one of the two frames (difference or union)\n",
    "    # frame is a pandas dataframe\n",
    "    # sel is the Altair selection object (for interactivity)\n",
    "    # title is the title for the chart\n",
    "    nearest = sel\n",
    "\n",
    "    c1 = alt.Chart(frame).mark_bar().encode(\n",
    "        x='difference:Q',\n",
    "        y=alt.Y('label:N', sort='-x', title=None),\n",
    "        color=alt.condition(nearest, alt.Color('difference:Q', legend=None), alt.value('lightgray'))\n",
    "    ).properties(title=title, width=80, height=450).add_selection(nearest)\n",
    "\n",
    "    # YOUR CODE HERE\n",
    "    # raise NotImplementedError()\n",
    "    return(c1)"
   ]
  },
  {
   "cell_type": "code",
   "execution_count": 36,
   "id": "extreme-trace",
   "metadata": {
    "deletable": false,
    "nbgrader": {
     "checksum": "27e16f86642bcba39feea4b795cd3a65",
     "grade": true,
     "grade_id": "cell-221ac77a1394a7ad",
     "locked": false,
     "points": 0,
     "schema_version": 1,
     "solution": true
    }
   },
   "outputs": [],
   "source": [
    "def getNetworkDiagram(G,season,sel):\n",
    "    # return an Altair chart corresponding to network diagram above for the given season\n",
    "    # G is the networkx object\n",
    "    # season is the season\n",
    "    # sel is the Altair selection object (for interactivity)\n",
    "    circular_pos = nx.kamada_kawai_layout(G)\n",
    "\n",
    "    e = nxa.draw_networkx_edges(G, pos=circular_pos)  # get the edge layer\n",
    "    n = nxa.draw_networkx_nodes(G, pos=circular_pos)  # get the node layer \n",
    "\n",
    "    # modify the code to change the encodings\n",
    "    nearest = sel\n",
    "\n",
    "    e = e.mark_point(filled=True, size=250, opacity=1).encode(\n",
    "        color=alt.condition(nearest, alt.Color('community:N', legend=None), alt.value('lightgray'))\n",
    "    )\n",
    "\n",
    "    n = n.mark_circle(filled=True, size=250, opacity=1).encode(\n",
    "        color=alt.condition(nearest, alt.Color('community:N', legend=None), alt.value('lightgray')),\n",
    "        tooltip=['label','community','appearance']\n",
    "    )\n",
    "\n",
    "    l = e.mark_line(opacity=0.2).encode()\n",
    "    # remove the exception to render\n",
    "    # YOUR CODE HERE\n",
    "    # raise NotImplementedError()\n",
    "    c2 = (e.add_selection(nearest)+l+n.transform_filter(nearest).interactive()).properties(\n",
    "        title=\"Season {}\".format(season), width=480,height=400\n",
    "    )\n",
    "    \n",
    "    # YOUR CODE HERE\n",
    "    # raise NotImplementedError()\n",
    "    return(c2)"
   ]
  },
  {
   "cell_type": "code",
   "execution_count": 37,
   "id": "understood-salad",
   "metadata": {},
   "outputs": [],
   "source": [
    "# this function will build the dashboard for you assuming you implemented the top two functions correctly\n",
    "def getNetworkDashboard(season1,season2):\n",
    "    \n",
    "    # create the selection object, based on mouseover. It should look at the \"label\" of whatever we hover \n",
    "    # over as a way of deciding other objects with the same label\n",
    "    single = alt.selection_single(on='mouseover',fields=['label'])\n",
    "    \n",
    "    # get the two networkx objects\n",
    "    s1net = getNetwork(season1)\n",
    "    s2net = getNetwork(season2)\n",
    "    \n",
    "    # get the union and difference dataframes\n",
    "    union,difference = getComparisonData(s1net,s2net)\n",
    "\n",
    "    # build the top bar chart\n",
    "    u = getComparisonBar(union,single,\"Appears in Both\")\n",
    "    \n",
    "    # build the top network\n",
    "    s1 = getNetworkDiagram(s1net,season1,single)\n",
    "    \n",
    "    # build the bottom network\n",
    "    s2 = getNetworkDiagram(s2net,season2,single)\n",
    "    \n",
    "    # in some cases, we don't have new characters given the thresold we set\n",
    "    if (len(difference) == 0):\n",
    "        # we won't return the bottom chart\n",
    "        return((s1&s2)|u)\n",
    "    else:\n",
    "        # we have both bar charts\n",
    "        # build the bottom bar chart\n",
    "        d = getComparisonBar(difference,single,\"New Characters\")\n",
    "        # return all charts\n",
    "        return((s1&s2)|(u&d))\n"
   ]
  },
  {
   "cell_type": "code",
   "execution_count": 38,
   "id": "binary-aspect",
   "metadata": {},
   "outputs": [
    {
     "output_type": "execute_result",
     "data": {
      "text/html": "\n<div id=\"altair-viz-37e2912ec1484fe78607331f39a55af5\"></div>\n<script type=\"text/javascript\">\n  (function(spec, embedOpt){\n    let outputDiv = document.currentScript.previousElementSibling;\n    if (outputDiv.id !== \"altair-viz-37e2912ec1484fe78607331f39a55af5\") {\n      outputDiv = document.getElementById(\"altair-viz-37e2912ec1484fe78607331f39a55af5\");\n    }\n    const paths = {\n      \"vega\": \"https://cdn.jsdelivr.net/npm//vega@5?noext\",\n      \"vega-lib\": \"https://cdn.jsdelivr.net/npm//vega-lib?noext\",\n      \"vega-lite\": \"https://cdn.jsdelivr.net/npm//vega-lite@4.8.1?noext\",\n      \"vega-embed\": \"https://cdn.jsdelivr.net/npm//vega-embed@6?noext\",\n    };\n\n    function loadScript(lib) {\n      return new Promise(function(resolve, reject) {\n        var s = document.createElement('script');\n        s.src = paths[lib];\n        s.async = true;\n        s.onload = () => resolve(paths[lib]);\n        s.onerror = () => reject(`Error loading script: ${paths[lib]}`);\n        document.getElementsByTagName(\"head\")[0].appendChild(s);\n      });\n    }\n\n    function showError(err) {\n      outputDiv.innerHTML = `<div class=\"error\" style=\"color:red;\">${err}</div>`;\n      throw err;\n    }\n\n    function displayChart(vegaEmbed) {\n      vegaEmbed(outputDiv, spec, embedOpt)\n        .catch(err => showError(`Javascript Error: ${err.message}<br>This usually means there's a typo in your chart specification. See the javascript console for the full traceback.`));\n    }\n\n    if(typeof define === \"function\" && define.amd) {\n      requirejs.config({paths});\n      require([\"vega-embed\"], displayChart, err => showError(`Error loading script: ${err.message}`));\n    } else if (typeof vegaEmbed === \"function\") {\n      displayChart(vegaEmbed);\n    } else {\n      loadScript(\"vega\")\n        .then(() => loadScript(\"vega-lite\"))\n        .then(() => loadScript(\"vega-embed\"))\n        .catch(showError)\n        .then(() => displayChart(vegaEmbed));\n    }\n  })({\"config\": {\"view\": {\"continuousWidth\": 400, \"continuousHeight\": 300}}, \"hconcat\": [{\"vconcat\": [{\"layer\": [{\"mark\": {\"type\": \"point\", \"filled\": true, \"opacity\": 1, \"size\": 250}, \"encoding\": {\"color\": {\"condition\": {\"type\": \"nominal\", \"field\": \"community\", \"legend\": null, \"selection\": \"selector008\"}, \"value\": \"lightgray\"}, \"detail\": {\"type\": \"quantitative\", \"field\": \"edge\"}, \"x\": {\"type\": \"quantitative\", \"axis\": {\"grid\": false, \"labels\": false, \"ticks\": false, \"title\": \"\"}, \"field\": \"x\"}, \"y\": {\"type\": \"quantitative\", \"axis\": {\"grid\": false, \"labels\": false, \"ticks\": false, \"title\": \"\"}, \"field\": \"y\"}}, \"selection\": {\"selector008\": {\"type\": \"single\", \"on\": \"mouseover\", \"fields\": [\"label\"]}}}, {\"mark\": {\"type\": \"line\", \"opacity\": 0.2}, \"encoding\": {\"color\": {\"condition\": {\"type\": \"nominal\", \"field\": \"community\", \"legend\": null, \"selection\": \"selector008\"}, \"value\": \"lightgray\"}, \"detail\": {\"type\": \"quantitative\", \"field\": \"edge\"}, \"x\": {\"type\": \"quantitative\", \"axis\": {\"grid\": false, \"labels\": false, \"ticks\": false, \"title\": \"\"}, \"field\": \"x\"}, \"y\": {\"type\": \"quantitative\", \"axis\": {\"grid\": false, \"labels\": false, \"ticks\": false, \"title\": \"\"}, \"field\": \"y\"}}}, {\"data\": {\"url\": \"altair-data-e72120b9c2a9713b99aa8ec285000f6e.json\", \"format\": {\"type\": \"json\"}}, \"mark\": {\"type\": \"circle\", \"filled\": true, \"opacity\": 1, \"size\": 250}, \"encoding\": {\"color\": {\"condition\": {\"type\": \"nominal\", \"field\": \"community\", \"legend\": null, \"selection\": \"selector008\"}, \"value\": \"lightgray\"}, \"tooltip\": [{\"type\": \"nominal\", \"field\": \"label\"}, {\"type\": \"quantitative\", \"field\": \"community\"}, {\"type\": \"quantitative\", \"field\": \"appearance\"}], \"x\": {\"type\": \"quantitative\", \"axis\": {\"grid\": false, \"labels\": false, \"ticks\": false}, \"field\": \"x\"}, \"y\": {\"type\": \"quantitative\", \"axis\": {\"grid\": false, \"labels\": false, \"ticks\": false}, \"field\": \"y\"}}, \"selection\": {\"selector009\": {\"type\": \"interval\", \"bind\": \"scales\", \"encodings\": [\"x\", \"y\"]}}, \"transform\": [{\"filter\": {\"selection\": \"selector008\"}}]}], \"data\": {\"url\": \"altair-data-208bd48514b69013039f48ac7a68d586.json\", \"format\": {\"type\": \"json\"}}, \"height\": 400, \"title\": \"Season 5\", \"width\": 480}, {\"layer\": [{\"mark\": {\"type\": \"point\", \"filled\": true, \"opacity\": 1, \"size\": 250}, \"encoding\": {\"color\": {\"condition\": {\"type\": \"nominal\", \"field\": \"community\", \"legend\": null, \"selection\": \"selector008\"}, \"value\": \"lightgray\"}, \"detail\": {\"type\": \"quantitative\", \"field\": \"edge\"}, \"x\": {\"type\": \"quantitative\", \"axis\": {\"grid\": false, \"labels\": false, \"ticks\": false, \"title\": \"\"}, \"field\": \"x\"}, \"y\": {\"type\": \"quantitative\", \"axis\": {\"grid\": false, \"labels\": false, \"ticks\": false, \"title\": \"\"}, \"field\": \"y\"}}, \"selection\": {\"selector008\": {\"type\": \"single\", \"on\": \"mouseover\", \"fields\": [\"label\"]}}}, {\"mark\": {\"type\": \"line\", \"opacity\": 0.2}, \"encoding\": {\"color\": {\"condition\": {\"type\": \"nominal\", \"field\": \"community\", \"legend\": null, \"selection\": \"selector008\"}, \"value\": \"lightgray\"}, \"detail\": {\"type\": \"quantitative\", \"field\": \"edge\"}, \"x\": {\"type\": \"quantitative\", \"axis\": {\"grid\": false, \"labels\": false, \"ticks\": false, \"title\": \"\"}, \"field\": \"x\"}, \"y\": {\"type\": \"quantitative\", \"axis\": {\"grid\": false, \"labels\": false, \"ticks\": false, \"title\": \"\"}, \"field\": \"y\"}}}, {\"data\": {\"url\": \"altair-data-04a617aa29c06fee8dfddc6fd8220d99.json\", \"format\": {\"type\": \"json\"}}, \"mark\": {\"type\": \"circle\", \"filled\": true, \"opacity\": 1, \"size\": 250}, \"encoding\": {\"color\": {\"condition\": {\"type\": \"nominal\", \"field\": \"community\", \"legend\": null, \"selection\": \"selector008\"}, \"value\": \"lightgray\"}, \"tooltip\": [{\"type\": \"nominal\", \"field\": \"label\"}, {\"type\": \"quantitative\", \"field\": \"community\"}, {\"type\": \"quantitative\", \"field\": \"appearance\"}], \"x\": {\"type\": \"quantitative\", \"axis\": {\"grid\": false, \"labels\": false, \"ticks\": false}, \"field\": \"x\"}, \"y\": {\"type\": \"quantitative\", \"axis\": {\"grid\": false, \"labels\": false, \"ticks\": false}, \"field\": \"y\"}}, \"selection\": {\"selector010\": {\"type\": \"interval\", \"bind\": \"scales\", \"encodings\": [\"x\", \"y\"]}}, \"transform\": [{\"filter\": {\"selection\": \"selector008\"}}]}], \"data\": {\"url\": \"altair-data-c1233a43ea897987ba0a6e5796456a19.json\", \"format\": {\"type\": \"json\"}}, \"height\": 400, \"title\": \"Season 9\", \"width\": 480}]}, {\"vconcat\": [{\"data\": {\"url\": \"altair-data-1ec2ac3fe1aff67df3300f8a0c2f2b4b.json\", \"format\": {\"type\": \"json\"}}, \"mark\": \"bar\", \"encoding\": {\"color\": {\"condition\": {\"type\": \"quantitative\", \"field\": \"difference\", \"legend\": null, \"selection\": \"selector008\"}, \"value\": \"lightgray\"}, \"x\": {\"type\": \"quantitative\", \"field\": \"difference\"}, \"y\": {\"type\": \"nominal\", \"field\": \"label\", \"sort\": \"-x\", \"title\": null}}, \"height\": 450, \"selection\": {\"selector008\": {\"type\": \"single\", \"on\": \"mouseover\", \"fields\": [\"label\"]}}, \"title\": \"Appears in Both\", \"width\": 80}, {\"data\": {\"url\": \"altair-data-ebb81000ae7403a9f831548cdf4f42d9.json\", \"format\": {\"type\": \"json\"}}, \"mark\": \"bar\", \"encoding\": {\"color\": {\"condition\": {\"type\": \"quantitative\", \"field\": \"difference\", \"legend\": null, \"selection\": \"selector008\"}, \"value\": \"lightgray\"}, \"x\": {\"type\": \"quantitative\", \"field\": \"difference\"}, \"y\": {\"type\": \"nominal\", \"field\": \"label\", \"sort\": \"-x\", \"title\": null}}, \"height\": 450, \"selection\": {\"selector008\": {\"type\": \"single\", \"on\": \"mouseover\", \"fields\": [\"label\"]}}, \"title\": \"New Characters\", \"width\": 80}]}], \"$schema\": \"https://vega.github.io/schema/vega-lite/v4.8.1.json\"}, {\"mode\": \"vega-lite\"});\n</script>",
      "text/plain": [
       "alt.HConcatChart(...)"
      ]
     },
     "metadata": {},
     "execution_count": 38
    }
   ],
   "source": [
    "# if you implemented everything correctly, this should work\n",
    "getNetworkDashboard(5,9)"
   ]
  },
  {
   "cell_type": "code",
   "execution_count": 39,
   "id": "applied-combine",
   "metadata": {},
   "outputs": [
    {
     "output_type": "execute_result",
     "data": {
      "text/html": "\n<div id=\"altair-viz-698159068d744e17b06479e6f70bfa33\"></div>\n<script type=\"text/javascript\">\n  (function(spec, embedOpt){\n    let outputDiv = document.currentScript.previousElementSibling;\n    if (outputDiv.id !== \"altair-viz-698159068d744e17b06479e6f70bfa33\") {\n      outputDiv = document.getElementById(\"altair-viz-698159068d744e17b06479e6f70bfa33\");\n    }\n    const paths = {\n      \"vega\": \"https://cdn.jsdelivr.net/npm//vega@5?noext\",\n      \"vega-lib\": \"https://cdn.jsdelivr.net/npm//vega-lib?noext\",\n      \"vega-lite\": \"https://cdn.jsdelivr.net/npm//vega-lite@4.8.1?noext\",\n      \"vega-embed\": \"https://cdn.jsdelivr.net/npm//vega-embed@6?noext\",\n    };\n\n    function loadScript(lib) {\n      return new Promise(function(resolve, reject) {\n        var s = document.createElement('script');\n        s.src = paths[lib];\n        s.async = true;\n        s.onload = () => resolve(paths[lib]);\n        s.onerror = () => reject(`Error loading script: ${paths[lib]}`);\n        document.getElementsByTagName(\"head\")[0].appendChild(s);\n      });\n    }\n\n    function showError(err) {\n      outputDiv.innerHTML = `<div class=\"error\" style=\"color:red;\">${err}</div>`;\n      throw err;\n    }\n\n    function displayChart(vegaEmbed) {\n      vegaEmbed(outputDiv, spec, embedOpt)\n        .catch(err => showError(`Javascript Error: ${err.message}<br>This usually means there's a typo in your chart specification. See the javascript console for the full traceback.`));\n    }\n\n    if(typeof define === \"function\" && define.amd) {\n      requirejs.config({paths});\n      require([\"vega-embed\"], displayChart, err => showError(`Error loading script: ${err.message}`));\n    } else if (typeof vegaEmbed === \"function\") {\n      displayChart(vegaEmbed);\n    } else {\n      loadScript(\"vega\")\n        .then(() => loadScript(\"vega-lite\"))\n        .then(() => loadScript(\"vega-embed\"))\n        .catch(showError)\n        .then(() => displayChart(vegaEmbed));\n    }\n  })({\"config\": {\"view\": {\"continuousWidth\": 400, \"continuousHeight\": 300}}, \"hconcat\": [{\"vconcat\": [{\"layer\": [{\"mark\": {\"type\": \"point\", \"filled\": true, \"opacity\": 1, \"size\": 250}, \"encoding\": {\"color\": {\"condition\": {\"type\": \"nominal\", \"field\": \"community\", \"legend\": null, \"selection\": \"selector011\"}, \"value\": \"lightgray\"}, \"detail\": {\"type\": \"quantitative\", \"field\": \"edge\"}, \"x\": {\"type\": \"quantitative\", \"axis\": {\"grid\": false, \"labels\": false, \"ticks\": false, \"title\": \"\"}, \"field\": \"x\"}, \"y\": {\"type\": \"quantitative\", \"axis\": {\"grid\": false, \"labels\": false, \"ticks\": false, \"title\": \"\"}, \"field\": \"y\"}}, \"selection\": {\"selector011\": {\"type\": \"single\", \"on\": \"mouseover\", \"fields\": [\"label\"]}}}, {\"mark\": {\"type\": \"line\", \"opacity\": 0.2}, \"encoding\": {\"color\": {\"condition\": {\"type\": \"nominal\", \"field\": \"community\", \"legend\": null, \"selection\": \"selector011\"}, \"value\": \"lightgray\"}, \"detail\": {\"type\": \"quantitative\", \"field\": \"edge\"}, \"x\": {\"type\": \"quantitative\", \"axis\": {\"grid\": false, \"labels\": false, \"ticks\": false, \"title\": \"\"}, \"field\": \"x\"}, \"y\": {\"type\": \"quantitative\", \"axis\": {\"grid\": false, \"labels\": false, \"ticks\": false, \"title\": \"\"}, \"field\": \"y\"}}}, {\"data\": {\"url\": \"altair-data-4ce9b1cb0607bbc4dd637efb20f2fe69.json\", \"format\": {\"type\": \"json\"}}, \"mark\": {\"type\": \"circle\", \"filled\": true, \"opacity\": 1, \"size\": 250}, \"encoding\": {\"color\": {\"condition\": {\"type\": \"nominal\", \"field\": \"community\", \"legend\": null, \"selection\": \"selector011\"}, \"value\": \"lightgray\"}, \"tooltip\": [{\"type\": \"nominal\", \"field\": \"label\"}, {\"type\": \"quantitative\", \"field\": \"community\"}, {\"type\": \"quantitative\", \"field\": \"appearance\"}], \"x\": {\"type\": \"quantitative\", \"axis\": {\"grid\": false, \"labels\": false, \"ticks\": false}, \"field\": \"x\"}, \"y\": {\"type\": \"quantitative\", \"axis\": {\"grid\": false, \"labels\": false, \"ticks\": false}, \"field\": \"y\"}}, \"selection\": {\"selector012\": {\"type\": \"interval\", \"bind\": \"scales\", \"encodings\": [\"x\", \"y\"]}}, \"transform\": [{\"filter\": {\"selection\": \"selector011\"}}]}], \"data\": {\"url\": \"altair-data-b59c95e9a3fd05777ccfa08515fb4dd9.json\", \"format\": {\"type\": \"json\"}}, \"height\": 400, \"title\": \"Season 16\", \"width\": 480}, {\"layer\": [{\"mark\": {\"type\": \"point\", \"filled\": true, \"opacity\": 1, \"size\": 250}, \"encoding\": {\"color\": {\"condition\": {\"type\": \"nominal\", \"field\": \"community\", \"legend\": null, \"selection\": \"selector011\"}, \"value\": \"lightgray\"}, \"detail\": {\"type\": \"quantitative\", \"field\": \"edge\"}, \"x\": {\"type\": \"quantitative\", \"axis\": {\"grid\": false, \"labels\": false, \"ticks\": false, \"title\": \"\"}, \"field\": \"x\"}, \"y\": {\"type\": \"quantitative\", \"axis\": {\"grid\": false, \"labels\": false, \"ticks\": false, \"title\": \"\"}, \"field\": \"y\"}}, \"selection\": {\"selector011\": {\"type\": \"single\", \"on\": \"mouseover\", \"fields\": [\"label\"]}}}, {\"mark\": {\"type\": \"line\", \"opacity\": 0.2}, \"encoding\": {\"color\": {\"condition\": {\"type\": \"nominal\", \"field\": \"community\", \"legend\": null, \"selection\": \"selector011\"}, \"value\": \"lightgray\"}, \"detail\": {\"type\": \"quantitative\", \"field\": \"edge\"}, \"x\": {\"type\": \"quantitative\", \"axis\": {\"grid\": false, \"labels\": false, \"ticks\": false, \"title\": \"\"}, \"field\": \"x\"}, \"y\": {\"type\": \"quantitative\", \"axis\": {\"grid\": false, \"labels\": false, \"ticks\": false, \"title\": \"\"}, \"field\": \"y\"}}}, {\"data\": {\"url\": \"altair-data-20c0404cf48eec93485ab113d7a97c4d.json\", \"format\": {\"type\": \"json\"}}, \"mark\": {\"type\": \"circle\", \"filled\": true, \"opacity\": 1, \"size\": 250}, \"encoding\": {\"color\": {\"condition\": {\"type\": \"nominal\", \"field\": \"community\", \"legend\": null, \"selection\": \"selector011\"}, \"value\": \"lightgray\"}, \"tooltip\": [{\"type\": \"nominal\", \"field\": \"label\"}, {\"type\": \"quantitative\", \"field\": \"community\"}, {\"type\": \"quantitative\", \"field\": \"appearance\"}], \"x\": {\"type\": \"quantitative\", \"axis\": {\"grid\": false, \"labels\": false, \"ticks\": false}, \"field\": \"x\"}, \"y\": {\"type\": \"quantitative\", \"axis\": {\"grid\": false, \"labels\": false, \"ticks\": false}, \"field\": \"y\"}}, \"selection\": {\"selector013\": {\"type\": \"interval\", \"bind\": \"scales\", \"encodings\": [\"x\", \"y\"]}}, \"transform\": [{\"filter\": {\"selection\": \"selector011\"}}]}], \"data\": {\"url\": \"altair-data-c933fed16e03d20b524f4ec52710375e.json\", \"format\": {\"type\": \"json\"}}, \"height\": 400, \"title\": \"Season 17\", \"width\": 480}]}, {\"data\": {\"url\": \"altair-data-9c5f4d08bae1b8a44814c1d1bcb25194.json\", \"format\": {\"type\": \"json\"}}, \"mark\": \"bar\", \"encoding\": {\"color\": {\"condition\": {\"type\": \"quantitative\", \"field\": \"difference\", \"legend\": null, \"selection\": \"selector011\"}, \"value\": \"lightgray\"}, \"x\": {\"type\": \"quantitative\", \"field\": \"difference\"}, \"y\": {\"type\": \"nominal\", \"field\": \"label\", \"sort\": \"-x\", \"title\": null}}, \"height\": 450, \"selection\": {\"selector011\": {\"type\": \"single\", \"on\": \"mouseover\", \"fields\": [\"label\"]}}, \"title\": \"Appears in Both\", \"width\": 80}], \"$schema\": \"https://vega.github.io/schema/vega-lite/v4.8.1.json\"}, {\"mode\": \"vega-lite\"});\n</script>",
      "text/plain": [
       "alt.HConcatChart(...)"
      ]
     },
     "metadata": {},
     "execution_count": 39
    }
   ],
   "source": [
    "# if you implemented everything correctly, this should work\n",
    "getNetworkDashboard(16,17)"
   ]
  },
  {
   "cell_type": "markdown",
   "id": "miniature-kitchen",
   "metadata": {
    "deletable": false,
    "editable": false,
    "nbgrader": {
     "checksum": "529f525d0fbdeb206c75bb2263dc2d18",
     "grade": false,
     "grade_id": "cell-217a2787d05e174b",
     "locked": true,
     "schema_version": 1,
     "solution": false
    }
   },
   "source": [
    "## Problem 3 (20 Points)\n",
    "\n",
    "For our last exercise, we're going to generate a matrix representation of the network:\n",
    "\n",
    "![\"matrix view](assets/matrix1.png)\n",
    "\n",
    "Each cell will indicate the number of interactions over the given time frame. In the example above, these are all the characters who have interacted 6 or more times with each other. A tooltip gives us a bit more detail since there are so many rows/columns.\n",
    "\n",
    "To generate this plot in Altair, we're going to reconfigure the data using the following function:"
   ]
  },
  {
   "cell_type": "code",
   "execution_count": 40,
   "id": "korean-marriage",
   "metadata": {},
   "outputs": [],
   "source": [
    "def getMatrixDetails(df,threshold=6,removeIsolates=True):\n",
    "    # given a dataframe with characters (c1,c2, etc.)\n",
    "    # the returned matrix will find the number of interactions in the dataframe\n",
    "    # find statistics to generate a matrix representation\n",
    "    # threshold will be the minimum number of interactions between characters (6)\n",
    "    # removeIsolates determiens if isolated nodes (nodes not connected to anything) are removed\n",
    "    \n",
    "    # this function returns 3 things\n",
    "    # the long form dataframe with pairs of nodes and the count\n",
    "    # the node order of nodes in the matrix given the input\n",
    "    # a list of list -- an edge list for all nodes\n",
    "    t = buildNetwork(df)\n",
    "    for e in t.edges:\n",
    "        if (t.edges[e]['weight'] < threshold):\n",
    "            t.remove_edge(e[0],e[1])\n",
    "    if(removeIsolates):\n",
    "        t.remove_nodes_from(list(nx.isolates(t)))\n",
    "\n",
    "    m,names,a,b,w = [],[],[],[],[]\n",
    "\n",
    "    for n1 in t.nodes:\n",
    "        e = []\n",
    "        names.append(n1)\n",
    "        for n2 in t.nodes:\n",
    "            if(t.has_edge(n1,n2)):\n",
    "                a.append(n1)\n",
    "                b.append(n2)\n",
    "                w.append(t.edges[n1,n2]['weight'])\n",
    "                e.append(t.edges[n1,n2]['weight'])\n",
    "            else:\n",
    "                e.append(0)\n",
    "        m.append(e)\n",
    "\n",
    "    toret = pd.DataFrame()\n",
    "    toret['p1'] = a\n",
    "    toret['p2'] = b\n",
    "    toret['weight'] = w\n",
    "    return(toret,names,m)"
   ]
  },
  {
   "cell_type": "code",
   "execution_count": 41,
   "id": "little-adelaide",
   "metadata": {},
   "outputs": [],
   "source": [
    "# let's call this for the entire dataset\n",
    "df,names,m = getMatrixDetails(simpsons)"
   ]
  },
  {
   "cell_type": "code",
   "execution_count": 42,
   "id": "nearby-inventory",
   "metadata": {},
   "outputs": [
    {
     "output_type": "execute_result",
     "data": {
      "text/plain": [
       "         p1       p2  weight\n",
       "143  Nelson   Martin       8\n",
       "69     Lisa  Skinner       8\n",
       "16    Homer    Louie       6\n",
       "76    Marge     Lisa     129\n",
       "73    Marge    Homer     311"
      ],
      "text/html": "<div>\n<style scoped>\n    .dataframe tbody tr th:only-of-type {\n        vertical-align: middle;\n    }\n\n    .dataframe tbody tr th {\n        vertical-align: top;\n    }\n\n    .dataframe thead th {\n        text-align: right;\n    }\n</style>\n<table border=\"1\" class=\"dataframe\">\n  <thead>\n    <tr style=\"text-align: right;\">\n      <th></th>\n      <th>p1</th>\n      <th>p2</th>\n      <th>weight</th>\n    </tr>\n  </thead>\n  <tbody>\n    <tr>\n      <th>143</th>\n      <td>Nelson</td>\n      <td>Martin</td>\n      <td>8</td>\n    </tr>\n    <tr>\n      <th>69</th>\n      <td>Lisa</td>\n      <td>Skinner</td>\n      <td>8</td>\n    </tr>\n    <tr>\n      <th>16</th>\n      <td>Homer</td>\n      <td>Louie</td>\n      <td>6</td>\n    </tr>\n    <tr>\n      <th>76</th>\n      <td>Marge</td>\n      <td>Lisa</td>\n      <td>129</td>\n    </tr>\n    <tr>\n      <th>73</th>\n      <td>Marge</td>\n      <td>Homer</td>\n      <td>311</td>\n    </tr>\n  </tbody>\n</table>\n</div>"
     },
     "metadata": {},
     "execution_count": 42
    }
   ],
   "source": [
    "# we'll get back to names and m in a moment, but let's look at what's inside the df:\n",
    "df.sample(5)"
   ]
  },
  {
   "cell_type": "markdown",
   "id": "unknown-lotus",
   "metadata": {
    "deletable": false,
    "editable": false,
    "nbgrader": {
     "checksum": "b4cde5173c416548f0aff0f5940a376b",
     "grade": false,
     "grade_id": "cell-7c83634ed00ac480",
     "locked": true,
     "schema_version": 1,
     "solution": false
    }
   },
   "source": [
    "In the frame above, you'll see ```p1``` and ```p2``` which are the two characters in the quoted conversation, and ```weight``` indicating the number of times they were in conversations."
   ]
  },
  {
   "cell_type": "markdown",
   "id": "assumed-reason",
   "metadata": {
    "deletable": false,
    "editable": false,
    "nbgrader": {
     "checksum": "c8cfff05e0b3408487bf5ce9f35ef214",
     "grade": false,
     "grade_id": "cell-39ebd18a9576d539",
     "locked": true,
     "schema_version": 1,
     "solution": false
    }
   },
   "source": [
    "## Problem 3.1\n",
    "\n",
    "Using the dataframe above, generate the matrix representation by completing the ```genMatrix1``` function below. The input will be the part of the simpsons dataframe we are interested in. This should return an Altair plot as above. "
   ]
  },
  {
   "cell_type": "code",
   "execution_count": 43,
   "id": "following-answer",
   "metadata": {
    "deletable": false,
    "nbgrader": {
     "checksum": "e37718b2d20078329ce49cb44cce2d85",
     "grade": true,
     "grade_id": "cell-779f81a347950e66",
     "locked": false,
     "points": 0,
     "schema_version": 1,
     "solution": true
    }
   },
   "outputs": [],
   "source": [
    "def genMatrix1(inframe,threshold=6):\n",
    "    # takes an input frame as input\n",
    "    # returns an altair plot for the matrix as described above\n",
    "    df,names,m = getMatrixDetails(inframe,threshold=threshold)\n",
    "\n",
    "    # modify the following\n",
    "    nearest = alt.selection(type='single', on='mouseover')\n",
    "\n",
    "    toret = alt.Chart(df).mark_rect().encode(\n",
    "        alt.X('p1:N'),\n",
    "        alt.Y('p2:N'),\n",
    "        alt.Color('weight:N', scale=alt.Scale(scheme='blues')),\n",
    "        tooltip=['p1:N','p2:N','weight:N']\n",
    "    ).properties(width=500, height=500)\n",
    "\n",
    "    # YOUR CODE HERE\n",
    "    # raise NotImplementedError()\n",
    "    return(toret)"
   ]
  },
  {
   "cell_type": "code",
   "execution_count": 44,
   "id": "damaged-mandate",
   "metadata": {},
   "outputs": [
    {
     "output_type": "execute_result",
     "data": {
      "text/html": "\n<div id=\"altair-viz-32219407976549c2a76ed913635faaec\"></div>\n<script type=\"text/javascript\">\n  (function(spec, embedOpt){\n    let outputDiv = document.currentScript.previousElementSibling;\n    if (outputDiv.id !== \"altair-viz-32219407976549c2a76ed913635faaec\") {\n      outputDiv = document.getElementById(\"altair-viz-32219407976549c2a76ed913635faaec\");\n    }\n    const paths = {\n      \"vega\": \"https://cdn.jsdelivr.net/npm//vega@5?noext\",\n      \"vega-lib\": \"https://cdn.jsdelivr.net/npm//vega-lib?noext\",\n      \"vega-lite\": \"https://cdn.jsdelivr.net/npm//vega-lite@4.8.1?noext\",\n      \"vega-embed\": \"https://cdn.jsdelivr.net/npm//vega-embed@6?noext\",\n    };\n\n    function loadScript(lib) {\n      return new Promise(function(resolve, reject) {\n        var s = document.createElement('script');\n        s.src = paths[lib];\n        s.async = true;\n        s.onload = () => resolve(paths[lib]);\n        s.onerror = () => reject(`Error loading script: ${paths[lib]}`);\n        document.getElementsByTagName(\"head\")[0].appendChild(s);\n      });\n    }\n\n    function showError(err) {\n      outputDiv.innerHTML = `<div class=\"error\" style=\"color:red;\">${err}</div>`;\n      throw err;\n    }\n\n    function displayChart(vegaEmbed) {\n      vegaEmbed(outputDiv, spec, embedOpt)\n        .catch(err => showError(`Javascript Error: ${err.message}<br>This usually means there's a typo in your chart specification. See the javascript console for the full traceback.`));\n    }\n\n    if(typeof define === \"function\" && define.amd) {\n      requirejs.config({paths});\n      require([\"vega-embed\"], displayChart, err => showError(`Error loading script: ${err.message}`));\n    } else if (typeof vegaEmbed === \"function\") {\n      displayChart(vegaEmbed);\n    } else {\n      loadScript(\"vega\")\n        .then(() => loadScript(\"vega-lite\"))\n        .then(() => loadScript(\"vega-embed\"))\n        .catch(showError)\n        .then(() => displayChart(vegaEmbed));\n    }\n  })({\"config\": {\"view\": {\"continuousWidth\": 400, \"continuousHeight\": 300}}, \"data\": {\"url\": \"altair-data-ee3a2f76a6e6fa308638860733627fff.json\", \"format\": {\"type\": \"json\"}}, \"mark\": \"rect\", \"encoding\": {\"color\": {\"type\": \"nominal\", \"field\": \"weight\", \"scale\": {\"scheme\": \"blues\"}}, \"tooltip\": [{\"type\": \"nominal\", \"field\": \"p1\"}, {\"type\": \"nominal\", \"field\": \"p2\"}, {\"type\": \"nominal\", \"field\": \"weight\"}], \"x\": {\"type\": \"nominal\", \"field\": \"p1\"}, \"y\": {\"type\": \"nominal\", \"field\": \"p2\"}}, \"height\": 500, \"width\": 500, \"$schema\": \"https://vega.github.io/schema/vega-lite/v4.8.1.json\"}, {\"mode\": \"vega-lite\"});\n</script>",
      "text/plain": [
       "alt.Chart(...)"
      ]
     },
     "metadata": {},
     "execution_count": 44
    }
   ],
   "source": [
    "# If you implemented the above function correctly, this should work\n",
    "genMatrix1(simpsons)"
   ]
  },
  {
   "cell_type": "code",
   "execution_count": 45,
   "id": "modern-shock",
   "metadata": {},
   "outputs": [
    {
     "output_type": "execute_result",
     "data": {
      "text/html": "\n<div id=\"altair-viz-9fc9d77e190646c5bee5659bc8bc7523\"></div>\n<script type=\"text/javascript\">\n  (function(spec, embedOpt){\n    let outputDiv = document.currentScript.previousElementSibling;\n    if (outputDiv.id !== \"altair-viz-9fc9d77e190646c5bee5659bc8bc7523\") {\n      outputDiv = document.getElementById(\"altair-viz-9fc9d77e190646c5bee5659bc8bc7523\");\n    }\n    const paths = {\n      \"vega\": \"https://cdn.jsdelivr.net/npm//vega@5?noext\",\n      \"vega-lib\": \"https://cdn.jsdelivr.net/npm//vega-lib?noext\",\n      \"vega-lite\": \"https://cdn.jsdelivr.net/npm//vega-lite@4.8.1?noext\",\n      \"vega-embed\": \"https://cdn.jsdelivr.net/npm//vega-embed@6?noext\",\n    };\n\n    function loadScript(lib) {\n      return new Promise(function(resolve, reject) {\n        var s = document.createElement('script');\n        s.src = paths[lib];\n        s.async = true;\n        s.onload = () => resolve(paths[lib]);\n        s.onerror = () => reject(`Error loading script: ${paths[lib]}`);\n        document.getElementsByTagName(\"head\")[0].appendChild(s);\n      });\n    }\n\n    function showError(err) {\n      outputDiv.innerHTML = `<div class=\"error\" style=\"color:red;\">${err}</div>`;\n      throw err;\n    }\n\n    function displayChart(vegaEmbed) {\n      vegaEmbed(outputDiv, spec, embedOpt)\n        .catch(err => showError(`Javascript Error: ${err.message}<br>This usually means there's a typo in your chart specification. See the javascript console for the full traceback.`));\n    }\n\n    if(typeof define === \"function\" && define.amd) {\n      requirejs.config({paths});\n      require([\"vega-embed\"], displayChart, err => showError(`Error loading script: ${err.message}`));\n    } else if (typeof vegaEmbed === \"function\") {\n      displayChart(vegaEmbed);\n    } else {\n      loadScript(\"vega\")\n        .then(() => loadScript(\"vega-lite\"))\n        .then(() => loadScript(\"vega-embed\"))\n        .catch(showError)\n        .then(() => displayChart(vegaEmbed));\n    }\n  })({\"config\": {\"view\": {\"continuousWidth\": 400, \"continuousHeight\": 300}}, \"data\": {\"url\": \"altair-data-536908ea5687ec24e982b6162709a4a5.json\", \"format\": {\"type\": \"json\"}}, \"mark\": \"rect\", \"encoding\": {\"color\": {\"type\": \"nominal\", \"field\": \"weight\", \"scale\": {\"scheme\": \"blues\"}}, \"tooltip\": [{\"type\": \"nominal\", \"field\": \"p1\"}, {\"type\": \"nominal\", \"field\": \"p2\"}, {\"type\": \"nominal\", \"field\": \"weight\"}], \"x\": {\"type\": \"nominal\", \"field\": \"p1\"}, \"y\": {\"type\": \"nominal\", \"field\": \"p2\"}}, \"height\": 500, \"width\": 500, \"$schema\": \"https://vega.github.io/schema/vega-lite/v4.8.1.json\"}, {\"mode\": \"vega-lite\"});\n</script>",
      "text/plain": [
       "alt.Chart(...)"
      ]
     },
     "metadata": {},
     "execution_count": 45
    }
   ],
   "source": [
    "# double check for hard coding by running this with the first 6 seasons and lower threshold\n",
    "genMatrix1(simpsons[simpsons.season <= 6],threshold=3)"
   ]
  },
  {
   "cell_type": "markdown",
   "id": "romance-event",
   "metadata": {
    "deletable": false,
    "editable": false,
    "nbgrader": {
     "checksum": "9c399dc8251dc5c8652a82614b9fcf3a",
     "grade": false,
     "grade_id": "cell-3c06981c7f5318fa",
     "locked": true,
     "schema_version": 1,
     "solution": false
    }
   },
   "source": [
    "## Problem 3.2\n",
    "\n",
    "The problem with the above forms is that the layout is rather arbitrary (alphabetical on character names). This makes it hard to see patterns in the data. One solution is to reorder the rows and columns so that those characters that are similar will end up close to each other. If you've ever used [Seaborn's clustermap](https://seaborn.pydata.org/generated/seaborn.clustermap.html) this is essentially what it does. It will run a hierarchical clustering algorithm to find related rows (or columns--in our case, these are the same), and shuffles them around to see patterns in the data.\n",
    "\n",
    "We can do the same using Scipy's [agglomerative clustering](https://scikit-learn.org/stable/modules/generated/sklearn.cluster.AgglomerativeClustering.html) and modify the [linkage analysis](https://scikit-learn.org/stable/auto_examples/cluster/plot_agglomerative_dendrogram.html) used to generate the dendrogram to find the order of the leaves. This will allow us to generate plots like this:\n",
    "\n",
    "![matrix 2 example](assets/matrix2.png)\n",
    "\n",
    "Notice the new order of the nodes and that we changed the color in this plot (weights are quantitative)."
   ]
  },
  {
   "cell_type": "code",
   "execution_count": 46,
   "id": "large-airplane",
   "metadata": {},
   "outputs": [],
   "source": [
    "# a function to re-order using the agglomerative clustering and dendrogram layout\n",
    "\n",
    "def getNewOrder(mtrx,originalorder):\n",
    "    # determine the new order given an \"edge list representation\"\n",
    "    # accepts the \"original order\" returns a new order\n",
    "    model = AgglomerativeClustering(distance_threshold=0, n_clusters=None)\n",
    "    model = model.fit(mtrx)\n",
    "    counts = np.zeros(model.children_.shape[0])\n",
    "    n_samples = len(model.labels_)\n",
    "    for i, merge in enumerate(model.children_):\n",
    "        current_count = 0\n",
    "        for child_idx in merge:\n",
    "            if child_idx < n_samples:\n",
    "                current_count += 1  # leaf node\n",
    "            else:\n",
    "                current_count += counts[child_idx - n_samples]\n",
    "        counts[i] = current_count\n",
    "\n",
    "    linkage_matrix = np.column_stack([model.children_, model.distances_,\n",
    "                                      counts]).astype(float)\n",
    "\n",
    "    leaves = leaves_list(linkage_matrix)\n",
    "    neworder = []\n",
    "    for l in leaves:\n",
    "        neworder.append(originalorder[l])\n",
    "    return(neworder)"
   ]
  },
  {
   "cell_type": "markdown",
   "id": "associate-thompson",
   "metadata": {
    "deletable": false,
    "editable": false,
    "nbgrader": {
     "checksum": "3ce8fdbfe9c528ad4feb60087599d1b5",
     "grade": false,
     "grade_id": "cell-b5a558323eb78718",
     "locked": true,
     "schema_version": 1,
     "solution": false
    }
   },
   "source": [
    "### Optional detail\n",
    "If you're curious, the scipy clustering code requires a \"vector\" representation of each node (which we calculated when we ran ```getMatixDetail```).  This looks much like the edge list representation. For example, Bart, may have a vector that looks like:\n",
    "\n",
    "```Bart -> [1,0,1,4]```\n",
    "\n",
    "This means that he is connected to the first and third nodes (whoever those are, it's not important) with a weight of 1, is not connected to node 2, is connected to node 4 with a weight of 4.  Strictly speaking, the ```m``` that is returned by ```getMatrixDetail``` is a list of lists. \n",
    "\n",
    "Each vector will be compared to all others giving us the \"distance\" between characters and that will be used to cluster.\n",
    "\n",
    "So..."
   ]
  },
  {
   "cell_type": "code",
   "execution_count": 47,
   "id": "designed-formula",
   "metadata": {},
   "outputs": [
    {
     "output_type": "stream",
     "name": "stdout",
     "text": [
      "The first character in m is: Homer\nIt is represented by the vector: [0, 62, 11, 9, 9, 69, 6, 50, 13, 9, 0, 0, 6]\n"
     ]
    }
   ],
   "source": [
    "df,names,m = getMatrixDetails(simpsons[simpsons.season <= 6],threshold=6)\n",
    "\n",
    "print(\"The first character in m is:\",names[0])\n",
    "\n",
    "print(\"It is represented by the vector:\",m[0])"
   ]
  },
  {
   "cell_type": "markdown",
   "id": "following-coupon",
   "metadata": {
    "deletable": false,
    "editable": false,
    "nbgrader": {
     "checksum": "b29f3ebc306124ad76de4ee3dfa7c792",
     "grade": false,
     "grade_id": "cell-d334fd863613a97b",
     "locked": true,
     "schema_version": 1,
     "solution": false
    }
   },
   "source": [
    "Your job is to modify ```genMatrix1``` to make a ```genMatrix2``` which takes advantage of this new order. We've started the code for you. Return an Altair chart that looks like the example above."
   ]
  },
  {
   "cell_type": "code",
   "execution_count": 48,
   "id": "endangered-strength",
   "metadata": {
    "deletable": false,
    "nbgrader": {
     "checksum": "406a4c649a21b8288f38f9250a28d038",
     "grade": true,
     "grade_id": "cell-d98c9e971a899353",
     "locked": false,
     "points": 0,
     "schema_version": 1,
     "solution": true
    }
   },
   "outputs": [],
   "source": [
    "def genMatrix2(inframe,threshold=6):\n",
    "    # takes an input frame as input\n",
    "    # returns an altair plot for the matrix as described above\n",
    "    df,names,m = getMatrixDetails(inframe,threshold=threshold)\n",
    "\n",
    "    neworder = getNewOrder(m,names)\n",
    "    \n",
    "    # modify the following\n",
    "    toret = alt.Chart(df).mark_rect().encode(\n",
    "        alt.X('p1:N', sort=neworder),\n",
    "        alt.Y('p2:N', sort=neworder),\n",
    "        alt.Color('weight:Q', scale=alt.Scale(scheme='greenblue')),\n",
    "        tooltip=['p1:N','p2:N','weight:Q']\n",
    "    ).properties(width=500, height=500)  # alt.Chart...\n",
    "    # YOUR CODE HERE\n",
    "    # raise NotImplementedError()\n",
    "    return(toret)"
   ]
  },
  {
   "cell_type": "code",
   "execution_count": 49,
   "id": "excited-kentucky",
   "metadata": {},
   "outputs": [
    {
     "output_type": "execute_result",
     "data": {
      "text/html": "\n<div id=\"altair-viz-45061abdf77c4230ba1dd10bf50e935d\"></div>\n<script type=\"text/javascript\">\n  (function(spec, embedOpt){\n    let outputDiv = document.currentScript.previousElementSibling;\n    if (outputDiv.id !== \"altair-viz-45061abdf77c4230ba1dd10bf50e935d\") {\n      outputDiv = document.getElementById(\"altair-viz-45061abdf77c4230ba1dd10bf50e935d\");\n    }\n    const paths = {\n      \"vega\": \"https://cdn.jsdelivr.net/npm//vega@5?noext\",\n      \"vega-lib\": \"https://cdn.jsdelivr.net/npm//vega-lib?noext\",\n      \"vega-lite\": \"https://cdn.jsdelivr.net/npm//vega-lite@4.8.1?noext\",\n      \"vega-embed\": \"https://cdn.jsdelivr.net/npm//vega-embed@6?noext\",\n    };\n\n    function loadScript(lib) {\n      return new Promise(function(resolve, reject) {\n        var s = document.createElement('script');\n        s.src = paths[lib];\n        s.async = true;\n        s.onload = () => resolve(paths[lib]);\n        s.onerror = () => reject(`Error loading script: ${paths[lib]}`);\n        document.getElementsByTagName(\"head\")[0].appendChild(s);\n      });\n    }\n\n    function showError(err) {\n      outputDiv.innerHTML = `<div class=\"error\" style=\"color:red;\">${err}</div>`;\n      throw err;\n    }\n\n    function displayChart(vegaEmbed) {\n      vegaEmbed(outputDiv, spec, embedOpt)\n        .catch(err => showError(`Javascript Error: ${err.message}<br>This usually means there's a typo in your chart specification. See the javascript console for the full traceback.`));\n    }\n\n    if(typeof define === \"function\" && define.amd) {\n      requirejs.config({paths});\n      require([\"vega-embed\"], displayChart, err => showError(`Error loading script: ${err.message}`));\n    } else if (typeof vegaEmbed === \"function\") {\n      displayChart(vegaEmbed);\n    } else {\n      loadScript(\"vega\")\n        .then(() => loadScript(\"vega-lite\"))\n        .then(() => loadScript(\"vega-embed\"))\n        .catch(showError)\n        .then(() => displayChart(vegaEmbed));\n    }\n  })({\"config\": {\"view\": {\"continuousWidth\": 400, \"continuousHeight\": 300}}, \"data\": {\"url\": \"altair-data-400b85ba5d7bb0967878af1f4fe99a21.json\", \"format\": {\"type\": \"json\"}}, \"mark\": \"rect\", \"encoding\": {\"color\": {\"type\": \"quantitative\", \"field\": \"weight\", \"scale\": {\"scheme\": \"greenblue\"}}, \"tooltip\": [{\"type\": \"nominal\", \"field\": \"p1\"}, {\"type\": \"nominal\", \"field\": \"p2\"}, {\"type\": \"quantitative\", \"field\": \"weight\"}], \"x\": {\"type\": \"nominal\", \"field\": \"p1\", \"sort\": [\"Mr. Burns\", \"Smithers\", \"Milhouse\", \"Nelson\", \"Moe\", \"Barney\", \"Apu\", \"Ned\", \"Grampa\", \"Homer\", \"Bart\", \"Marge\", \"Lisa\"]}, \"y\": {\"type\": \"nominal\", \"field\": \"p2\", \"sort\": [\"Mr. Burns\", \"Smithers\", \"Milhouse\", \"Nelson\", \"Moe\", \"Barney\", \"Apu\", \"Ned\", \"Grampa\", \"Homer\", \"Bart\", \"Marge\", \"Lisa\"]}}, \"height\": 500, \"width\": 500, \"$schema\": \"https://vega.github.io/schema/vega-lite/v4.8.1.json\"}, {\"mode\": \"vega-lite\"});\n</script>",
      "text/plain": [
       "alt.Chart(...)"
      ]
     },
     "metadata": {},
     "execution_count": 49
    }
   ],
   "source": [
    "# If you im\n",
    "genMatrix2(simpsons[simpsons.season <= 6])"
   ]
  },
  {
   "cell_type": "code",
   "execution_count": 50,
   "id": "assured-fisher",
   "metadata": {},
   "outputs": [
    {
     "output_type": "execute_result",
     "data": {
      "text/html": "\n<div id=\"altair-viz-0103b878cff344c3a86ffe066dbc4993\"></div>\n<script type=\"text/javascript\">\n  (function(spec, embedOpt){\n    let outputDiv = document.currentScript.previousElementSibling;\n    if (outputDiv.id !== \"altair-viz-0103b878cff344c3a86ffe066dbc4993\") {\n      outputDiv = document.getElementById(\"altair-viz-0103b878cff344c3a86ffe066dbc4993\");\n    }\n    const paths = {\n      \"vega\": \"https://cdn.jsdelivr.net/npm//vega@5?noext\",\n      \"vega-lib\": \"https://cdn.jsdelivr.net/npm//vega-lib?noext\",\n      \"vega-lite\": \"https://cdn.jsdelivr.net/npm//vega-lite@4.8.1?noext\",\n      \"vega-embed\": \"https://cdn.jsdelivr.net/npm//vega-embed@6?noext\",\n    };\n\n    function loadScript(lib) {\n      return new Promise(function(resolve, reject) {\n        var s = document.createElement('script');\n        s.src = paths[lib];\n        s.async = true;\n        s.onload = () => resolve(paths[lib]);\n        s.onerror = () => reject(`Error loading script: ${paths[lib]}`);\n        document.getElementsByTagName(\"head\")[0].appendChild(s);\n      });\n    }\n\n    function showError(err) {\n      outputDiv.innerHTML = `<div class=\"error\" style=\"color:red;\">${err}</div>`;\n      throw err;\n    }\n\n    function displayChart(vegaEmbed) {\n      vegaEmbed(outputDiv, spec, embedOpt)\n        .catch(err => showError(`Javascript Error: ${err.message}<br>This usually means there's a typo in your chart specification. See the javascript console for the full traceback.`));\n    }\n\n    if(typeof define === \"function\" && define.amd) {\n      requirejs.config({paths});\n      require([\"vega-embed\"], displayChart, err => showError(`Error loading script: ${err.message}`));\n    } else if (typeof vegaEmbed === \"function\") {\n      displayChart(vegaEmbed);\n    } else {\n      loadScript(\"vega\")\n        .then(() => loadScript(\"vega-lite\"))\n        .then(() => loadScript(\"vega-embed\"))\n        .catch(showError)\n        .then(() => displayChart(vegaEmbed));\n    }\n  })({\"config\": {\"view\": {\"continuousWidth\": 400, \"continuousHeight\": 300}}, \"data\": {\"url\": \"altair-data-bdf8de4de84fcdc3a105e7036f934d94.json\", \"format\": {\"type\": \"json\"}}, \"mark\": \"rect\", \"encoding\": {\"color\": {\"type\": \"quantitative\", \"field\": \"weight\", \"scale\": {\"scheme\": \"greenblue\"}}, \"tooltip\": [{\"type\": \"nominal\", \"field\": \"p1\"}, {\"type\": \"nominal\", \"field\": \"p2\"}, {\"type\": \"quantitative\", \"field\": \"weight\"}], \"x\": {\"type\": \"nominal\", \"field\": \"p1\", \"sort\": [\"Milhouse\", \"Nelson\", \"Chalmers\", \"Lou\", \"Principal Skinner\", \"Ralph\", \"Skinner\", \"Krusty\", \"Sideshow Bob\", \"Moe\", \"Mr. Burns\", \"Smithers\", \"Lenny\", \"Barney\", \"Carl\", \"Ned\", \"Chief Wiggum\", \"Apu\", \"Dr. Hibbert\", \"Kent Brockman\", \"Grampa\", \"Homer\", \"Bart\", \"Lisa\", \"Marge\"]}, \"y\": {\"type\": \"nominal\", \"field\": \"p2\", \"sort\": [\"Milhouse\", \"Nelson\", \"Chalmers\", \"Lou\", \"Principal Skinner\", \"Ralph\", \"Skinner\", \"Krusty\", \"Sideshow Bob\", \"Moe\", \"Mr. Burns\", \"Smithers\", \"Lenny\", \"Barney\", \"Carl\", \"Ned\", \"Chief Wiggum\", \"Apu\", \"Dr. Hibbert\", \"Kent Brockman\", \"Grampa\", \"Homer\", \"Bart\", \"Lisa\", \"Marge\"]}}, \"height\": 500, \"width\": 500, \"$schema\": \"https://vega.github.io/schema/vega-lite/v4.8.1.json\"}, {\"mode\": \"vega-lite\"});\n</script>",
      "text/plain": [
       "alt.Chart(...)"
      ]
     },
     "metadata": {},
     "execution_count": 50
    }
   ],
   "source": [
    "# test your code on the entire series to make sure nothing is hard coded\n",
    "genMatrix2(simpsons,threshold=10)"
   ]
  },
  {
   "cell_type": "markdown",
   "id": "union-projector",
   "metadata": {
    "deletable": false,
    "editable": false,
    "nbgrader": {
     "checksum": "1cf22872b3d79094088f86551f6a562b",
     "grade": false,
     "grade_id": "cell-f082a1cef19d793c",
     "locked": true,
     "schema_version": 1,
     "solution": false
    }
   },
   "source": [
    "## Problem 3.3\n",
    "\n",
    "When we plot the network as a matrix (with the re-ordered rows/columns). You'll see some interesting patterns develop. Describe what these patterns mean. You can add an annotated screenshot with examples if you need to clarify."
   ]
  },
  {
   "cell_type": "markdown",
   "id": "criminal-margin",
   "metadata": {},
   "source": [
    "A network can be represented by an adjacency matrix, where each cell *ij* represents an edge from vertex *i* to vertex *j*. Here, vertices represent characters in the Simpsons, while edges represent co-occurrence(weight) in a season.\n",
    "\n",
    "* Pattern 1 - From this pattern, it is a little bit hard to interpret by human beings since the matrix diagram is heaviy dependent on the order of rows and columns. I would like to create a filter by frequency, names, or cluster which is easier to identify cluster and bridges.\n",
    "* Pattern 2 - Compare with pattern 1, this pattern is easier to classify the co-occurrence among characters. At the right bottom corner, these four characters have strong relationship(weight) with others. Homer has relationship with almost all other characters."
   ]
  }
 ],
 "metadata": {
  "coursera": {
   "schema_names": [
    "mads_information_visualization_ii_v1_assignment3"
   ]
  },
  "kernelspec": {
   "name": "python391jvsc74a57bd0111ec9d3badd4bdc5bb4c5104c9c1ec48cb8e627cdc8b194469614f2565f7746",
   "display_name": "Python 3.9.1 64-bit"
  },
  "language_info": {
   "codemirror_mode": {
    "name": "ipython",
    "version": 3
   },
   "file_extension": ".py",
   "mimetype": "text/x-python",
   "name": "python",
   "nbconvert_exporter": "python",
   "pygments_lexer": "ipython3",
   "version": "3.9.1-final"
  },
  "metadata": {
   "interpreter": {
    "hash": "111ec9d3badd4bdc5bb4c5104c9c1ec48cb8e627cdc8b194469614f2565f7746"
   }
  }
 },
 "nbformat": 4,
 "nbformat_minor": 5
}