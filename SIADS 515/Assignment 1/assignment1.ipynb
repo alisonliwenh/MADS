{
 "cells": [
  {
   "cell_type": "markdown",
   "metadata": {},
   "source": [
    "Before you turn this problem in, make sure everything runs as expected. First, **restart the kernel** (in the menubar, select Kernel$\\rightarrow$Restart) and then **run all cells** (in the menubar, select Cell$\\rightarrow$Run All).\n",
    "\n",
    "Make sure you fill in any place that says `YOUR CODE HERE` or \"YOUR ANSWER HERE\"."
   ]
  },
  {
   "cell_type": "code",
   "execution_count": null,
   "metadata": {},
   "outputs": [],
   "source": [
    "# Please add your name and University of Michagan uniqname here...\n",
    "\n",
    "NAME = 'Liwen Huang'\n",
    "UMICH_UNIQNAME = 'liwenh'"
   ]
  },
  {
   "cell_type": "markdown",
   "metadata": {},
   "source": [
    "---"
   ]
  },
  {
   "cell_type": "code",
   "execution_count": null,
   "metadata": {
    "deletable": false,
    "editable": false,
    "nbgrader": {
     "checksum": "0b2fce5e4b0127867991978f8e05c346",
     "grade": false,
     "grade_id": "cell-c0bfe12420a353d9",
     "locked": true,
     "schema_version": 1,
     "solution": false
    }
   },
   "outputs": [],
   "source": [
    "version = \"v3.3.012821\""
   ]
  },
  {
   "cell_type": "markdown",
   "metadata": {
    "deletable": false,
    "editable": false,
    "nbgrader": {
     "checksum": "cf8ca203ad680b8e75578220e09aea9a",
     "grade": false,
     "grade_id": "cell-a3bb30b286b77336",
     "locked": true,
     "schema_version": 1,
     "solution": false
    }
   },
   "source": [
    "# SIADS 515 Week 1 Homework (HW1)\n",
    "\n",
    "\n",
    "## A note about the `%%bash` magic command\n",
    "\n",
    "The lecture material covered integrating Linux shell commands with Jupyter notebooks using the !, !!, %sx, or %system magic commands. There's one more integration to introduce to you: the %%bash magic command. bash is a popular linux shell, and starting a Jupyter notebook cell with the %%bash magic command will tell Jupyter that the remainder of the cell is to be interpreted as linux (bash) commands.\n",
    "\n",
    "\n",
    "## A note about the `tee` shell command\n",
    "\n",
    "For the shell questions in this assignment, you'll generally need to redirect your output to a specifc file for the autograder cells to work. The `tee` command will come in handy, it takes input from STDIN and writes it to STDOUT *and* a file that you specify. This is helpful because you'll be able to see your answer and the file will be writen to allow the autograder to do its work."
   ]
  },
  {
   "cell_type": "code",
   "execution_count": 1,
   "metadata": {},
   "outputs": [
    {
     "output_type": "stream",
     "name": "stdout",
     "text": [
      "Couldn't find program: 'bash'\n"
     ]
    }
   ],
   "source": [
    "%%bash\n",
    "\n",
    "# This cell cleans up the directory to avoid problems with the autograder.\n",
    "\n",
    "\n",
    "echo \"Cleaning up, removing created files ...\"\n",
    "echo \"\"\n",
    "# remove all files in this directory that don't match these patterns\n",
    "find \".\" \\\n",
    "    -not -path \".\" \\\n",
    "    -not -path \"./assets\" \\\n",
    "    -not -path \"./assets/ride.csv\" \\\n",
    "    -not -path \"./.ipynb_checkpoints\" \\\n",
    "    -not -path \"./.ipynb_checkpoints/*\" \\\n",
    "    -not -path \"./assignment1.ipynb\" \\\n",
    "    -print -delete\n",
    "echo \"\"\n",
    "echo \"... done.\""
   ]
  },
  {
   "cell_type": "markdown",
   "metadata": {
    "deletable": false,
    "editable": false,
    "nbgrader": {
     "checksum": "1ffe2f0b44bf35abb108f2b060f56a4c",
     "grade": false,
     "grade_id": "cell-f276bd968f0874e7",
     "locked": true,
     "schema_version": 1,
     "solution": false
    }
   },
   "source": [
    "## Example Question\n",
    "\n",
    "Copy the first 3 lines of `assets/ride.csv` into a file named `solution_example.txt`\n",
    "\n",
    "*(Note that this is an example problem to demonstrate how to answer shell-based questions in this assignment.)*"
   ]
  },
  {
   "cell_type": "code",
   "execution_count": null,
   "metadata": {
    "deletable": false,
    "editable": false,
    "nbgrader": {
     "checksum": "eaecd54d2c159f2d34c7087bc2c1aad5",
     "grade": false,
     "grade_id": "cell-a6302669927b4a3d",
     "locked": true,
     "schema_version": 1,
     "solution": false
    }
   },
   "outputs": [],
   "source": [
    "%%bash\n",
    "\n",
    "head -3 assets/ride.csv | tee solution_example.txt"
   ]
  },
  {
   "cell_type": "code",
   "execution_count": null,
   "metadata": {
    "deletable": false,
    "editable": false,
    "nbgrader": {
     "checksum": "1ced5eeeb046407916ae134a814a5c24",
     "grade": true,
     "grade_id": "cell-1d6b28764fdbf76b",
     "locked": true,
     "points": 0,
     "schema_version": 1,
     "solution": false
    }
   },
   "outputs": [],
   "source": [
    "# Example Question, Check 1\n",
    "# 0 points\n",
    "\n",
    "with open('solution_example.txt') as ans:\n",
    "    lines = ans.readlines()\n",
    "\n",
    "assert len(lines) == 3, 'solution file must be 3 lines long'\n",
    "\n",
    "# There are no hidden autograder tests in this cell."
   ]
  },
  {
   "cell_type": "markdown",
   "metadata": {
    "deletable": false,
    "editable": false,
    "nbgrader": {
     "checksum": "8489e76457f5c9ba4497325bb4320d4b",
     "grade": false,
     "grade_id": "cell-6f944a7af253728c",
     "locked": true,
     "schema_version": 1,
     "solution": false
    }
   },
   "source": [
    "## Question 1\n",
    "Copy the last 5 lines of `assets/ride.csv` into a file called `solution01.txt`."
   ]
  },
  {
   "cell_type": "code",
   "execution_count": null,
   "metadata": {
    "deletable": false,
    "nbgrader": {
     "checksum": "2126020373ec70aa1c0a260d70f7389e",
     "grade": false,
     "grade_id": "cell-d2f755630d46555d",
     "locked": false,
     "schema_version": 1,
     "solution": true
    }
   },
   "outputs": [],
   "source": [
    "%%bash\n",
    "\n",
    "tail -5 assets/ride.csv | tee solution01.txt\n",
    "# YOUR CODE HERE\n",
    "\n"
   ]
  },
  {
   "cell_type": "code",
   "execution_count": null,
   "metadata": {
    "deletable": false,
    "editable": false,
    "nbgrader": {
     "checksum": "1dab36213bf1567aa29cd2d12dff1102",
     "grade": true,
     "grade_id": "cell-1e37b44d1c1726b5",
     "locked": true,
     "points": 1,
     "schema_version": 1,
     "solution": false
    }
   },
   "outputs": [],
   "source": [
    "# Question 1, Check 1\n",
    "# 1 point\n",
    "\n",
    "with open('solution01.txt') as ans:\n",
    "    lines = ans.readlines()\n",
    "    \n",
    "assert len(lines) == 5, 'solution file must be 5 lines long'\n",
    "\n",
    "# There are no hidden autograder tests in this cell."
   ]
  },
  {
   "cell_type": "code",
   "execution_count": null,
   "metadata": {
    "deletable": false,
    "editable": false,
    "nbgrader": {
     "checksum": "0dcb6e457292e2d3f6d183dff648d898",
     "grade": true,
     "grade_id": "cell-dd61bcafaa99e567",
     "locked": true,
     "points": 1,
     "schema_version": 1,
     "solution": false
    }
   },
   "outputs": [],
   "source": [
    "# Question 1, Check 2\n",
    "# 1 point\n",
    "\n",
    "# There are hidden autograder tests in this cell."
   ]
  },
  {
   "cell_type": "markdown",
   "metadata": {
    "deletable": false,
    "editable": false,
    "nbgrader": {
     "checksum": "3e8130ab9fdd96c0b224053f887e670d",
     "grade": false,
     "grade_id": "cell-becc358a5ec38b1d",
     "locked": true,
     "schema_version": 1,
     "solution": false
    }
   },
   "source": [
    "## Question 2\n",
    "Copy lines 15 through 20 from `assets/ride.csv` into a file called `solution02.txt`."
   ]
  },
  {
   "cell_type": "code",
   "execution_count": null,
   "metadata": {
    "deletable": false,
    "nbgrader": {
     "checksum": "75abaaf85061ef26c8abad01cf7cfb63",
     "grade": false,
     "grade_id": "cell-018ef04758dd9372",
     "locked": false,
     "schema_version": 1,
     "solution": true
    }
   },
   "outputs": [],
   "source": [
    "%%bash\n",
    "\n",
    "cut -d ',' -f 15-20 assets/ride.csv | tee solution02.txt\n",
    "# YOUR CODE HERE\n",
    "\n"
   ]
  },
  {
   "cell_type": "code",
   "execution_count": null,
   "metadata": {
    "deletable": false,
    "editable": false,
    "nbgrader": {
     "checksum": "1abcbb22cadc1a850867d011b639b861",
     "grade": true,
     "grade_id": "cell-450c38d1d8739c1b",
     "locked": true,
     "points": 1,
     "schema_version": 1,
     "solution": false
    }
   },
   "outputs": [],
   "source": [
    "# Question 2, Check 1\n",
    "# 1 point\n",
    "\n",
    "with open('solution02.txt') as ans:\n",
    "    lines = ans.readlines()\n",
    "\n",
    "assert len(lines) == 6, 'solution file must be 6 lines long'\n",
    "\n",
    "# There are no hidden autograder tests in this cell."
   ]
  },
  {
   "cell_type": "code",
   "execution_count": null,
   "metadata": {
    "deletable": false,
    "editable": false,
    "nbgrader": {
     "checksum": "7d22201ed1f819e53911b667f33cd88f",
     "grade": true,
     "grade_id": "cell-0e662ecb874254bf",
     "locked": true,
     "points": 1,
     "schema_version": 1,
     "solution": false
    }
   },
   "outputs": [],
   "source": [
    "# Question 2, Check 2\n",
    "# 1 points\n",
    "\n",
    "# There are hidden autograder tests in this cell."
   ]
  },
  {
   "cell_type": "markdown",
   "metadata": {
    "deletable": false,
    "editable": false,
    "nbgrader": {
     "checksum": "8142ae89fb76eee8e6fa290d0a170fd6",
     "grade": false,
     "grade_id": "cell-6eab243f9ed3b7f8",
     "locked": true,
     "schema_version": 1,
     "solution": false
    }
   },
   "source": [
    "## Question 3\n",
    "Copy all lines from `assets/ride.csv` that contain \"Data,10\", \"Data,11\", \"Data,12\", or \"Data,13\" into a file called `solution03.txt`. The lines in the solution should be in the same order as they appear in the ride.csv file."
   ]
  },
  {
   "cell_type": "code",
   "execution_count": null,
   "metadata": {
    "deletable": false,
    "nbgrader": {
     "checksum": "237c100f606d96008699b8591c5ba068",
     "grade": false,
     "grade_id": "cell-da32244325922c68",
     "locked": false,
     "schema_version": 1,
     "solution": true
    }
   },
   "outputs": [],
   "source": [
    "%%bash\n",
    "\n",
    "grep \"Data,10|Data,11|Data,12|Data,13\" | tee solution03.txt\n",
    "# YOUR CODE HERE\n",
    "\n"
   ]
  },
  {
   "cell_type": "code",
   "execution_count": null,
   "metadata": {
    "deletable": false,
    "editable": false,
    "nbgrader": {
     "checksum": "5b5eedb1c10817c98acfafdda575aee1",
     "grade": true,
     "grade_id": "cell-5d6d674650024aa9",
     "locked": true,
     "points": 1,
     "schema_version": 1,
     "solution": false
    }
   },
   "outputs": [],
   "source": [
    "# Question 3, Check 1\n",
    "# 1 point\n",
    "\n",
    "with open('solution03.txt') as ans:\n",
    "    lines = ans.readlines()\n",
    "\n",
    "assert len(lines) > 1, 'solution file must have more than one line'\n",
    "\n",
    "# There are no hidden autograder tests in this cell."
   ]
  },
  {
   "cell_type": "code",
   "execution_count": null,
   "metadata": {
    "deletable": false,
    "editable": false,
    "nbgrader": {
     "checksum": "784e1c8cf0195d083e0f43d1115819f8",
     "grade": true,
     "grade_id": "cell-9d55e0dd789cd561",
     "locked": true,
     "points": 1,
     "schema_version": 1,
     "solution": false
    }
   },
   "outputs": [],
   "source": [
    "# Question 3, Check 2\n",
    "# 1 point\n",
    "\n",
    "# There are hidden autograder tests in this cell."
   ]
  },
  {
   "cell_type": "markdown",
   "metadata": {
    "deletable": false,
    "editable": false,
    "nbgrader": {
     "checksum": "589d0484317cc6f8f5864a75775b56d0",
     "grade": false,
     "grade_id": "cell-3178d2f6745c1db0",
     "locked": true,
     "schema_version": 1,
     "solution": false
    }
   },
   "source": [
    "### Question 4\n",
    "\n",
    "Count the lines from `assets/ride.csv` that contain \"Data,9\". Create a file called `solution04.txt` that has one line that contains the number of lines in ride.csv. That line should not contain anything other than the number of lines from "
   ]
  },
  {
   "cell_type": "code",
   "execution_count": null,
   "metadata": {
    "deletable": false,
    "nbgrader": {
     "checksum": "842a939d465f853eed87b3e41156e7c4",
     "grade": false,
     "grade_id": "cell-0cf2e81e963c5402",
     "locked": false,
     "schema_version": 1,
     "solution": true
    }
   },
   "outputs": [],
   "source": [
    "%%bash\n",
    "\n",
    "# YOUR CODE HERE\n",
    "\n"
   ]
  },
  {
   "cell_type": "code",
   "execution_count": null,
   "metadata": {
    "deletable": false,
    "editable": false,
    "nbgrader": {
     "checksum": "9282d38d26a8bf27ed4ec1514e62e536",
     "grade": true,
     "grade_id": "cell-e175ee39f82440ef",
     "locked": true,
     "points": 1,
     "schema_version": 1,
     "solution": false
    }
   },
   "outputs": [],
   "source": [
    "# Question 4, Check 1\n",
    "# 1 point\n",
    "\n",
    "with open('solution04.txt') as ans:\n",
    "    lines = ans.readlines()\n",
    "\n",
    "assert len(lines) == 1, 'solution file should be 1 line long'\n",
    "\n",
    "# There are no hidden autograder tests in this cell."
   ]
  },
  {
   "cell_type": "code",
   "execution_count": null,
   "metadata": {
    "deletable": false,
    "editable": false,
    "nbgrader": {
     "checksum": "92b0a556726de5d068788d6ac81bc01f",
     "grade": true,
     "grade_id": "cell-036ce5a0a73e018b",
     "locked": true,
     "points": 1,
     "schema_version": 1,
     "solution": false
    }
   },
   "outputs": [],
   "source": [
    "# Question 4, Check 2\n",
    "# 1 point\n",
    "\n",
    "# There are hidden autograder tests in this cell.\n",
    "\n",
    "# Checking if line 1 of solution04.txt ONLY contains the correct answer."
   ]
  },
  {
   "cell_type": "markdown",
   "metadata": {
    "deletable": false,
    "editable": false,
    "nbgrader": {
     "checksum": "a627a4a1ee010b37f56f438fdf69538a",
     "grade": false,
     "grade_id": "cell-8bde924106fa2fdc",
     "locked": true,
     "schema_version": 1,
     "solution": false
    }
   },
   "source": [
    "## Three solutions to the same problem...\n",
    "\n",
    "For Question 5, 6, 7, you will create a CSV file for each with the same content based on the data from `assets/ride.csv`. You'll use a different solution for each problem:\n",
    "  - Question 5: with shell commands\n",
    "  - Question 6: with Python (without Pandas)\n",
    "  - Question 7: with Pandas\n",
    "\n",
    "\n",
    "You'll notice that although the `ride.csv` file is a csv file, it looks a bit different than most csv files.  The first few columns are always of the form (using regular expression notation) ```\"(Data|Definition),[\\d]+,record\"```.  After those columns, the data appear as a key-value-unit triple.  For example:\n",
    "\n",
    "```\n",
    "Data,9,record,timestamp,\"896018545\",s,position_lat,\"504719750\",semicircles,position_long,\"-998493490\",semicircles,distance,\"10.87\",m,altitude,\"285.79999999999995\",m,speed,\"1.773\",m/s,unknown,\"3929\",,unknown,\"1002\",,enhanced_altitude,\"285.79999999999995\",m,enhanced_speed,\"1.773\",m/s,,,,,,,,,,,,,,,,,,,,,,,,,,,,,,,\n",
    "```\n",
    "\n",
    "In this case, you have:\n",
    "\n",
    "```\n",
    "timestamp,\"896018545\",s\n",
    "position_lat,\"504719750\",semicircles\n",
    "position_long,\"-998493490\",semicircles\n",
    "speed,\"1.773\",m/s\n",
    "```\n",
    "\n",
    "\n",
    "The data we are interested in comes from the lines in `assets/ride.csv` that start with \"Data,9,record\". \n",
    "\n",
    "For each question, you will create a CSV file with these headers, and this first file:\n",
    "\n",
    "| timestamp| latitude| longitude| distance|          altitude| speed|\n",
    "|----------|---------|----------|---------|------------------|------|\n",
    "| 896018545|504719750|-998493490|    10.87|285.79999999999995| 1.773|\n",
    "|       ...|      ...|       ...|      ...|               ...|   ...|\n",
    "|       ...|      ...|       ...|      ...|               ...|   ...|"
   ]
  },
  {
   "cell_type": "markdown",
   "metadata": {
    "deletable": false,
    "editable": false,
    "nbgrader": {
     "checksum": "2364de484979e51593c62e034c174706",
     "grade": false,
     "grade_id": "cell-54c5c80e0fe7b404",
     "locked": true,
     "schema_version": 1,
     "solution": false
    }
   },
   "source": [
    "## Question 5 - Shell\n",
    "\n",
    "Create a new file that matches the format described above.\n",
    "  - The file should be named `solution05.csv`\n",
    "  - Solve the problem using only Linux shell commands\n",
    "  \n",
    "**For this more complicated problem, the `tee` command might be more trouble than it's worth.**"
   ]
  },
  {
   "cell_type": "code",
   "execution_count": null,
   "metadata": {
    "deletable": false,
    "nbgrader": {
     "checksum": "bc99cc89240c393cd39d763009fdfddc",
     "grade": false,
     "grade_id": "cell-3ddf21c4bdc70e67",
     "locked": false,
     "schema_version": 1,
     "solution": true
    }
   },
   "outputs": [],
   "source": [
    "%%bash\n",
    "\n",
    "# YOUR CODE HERE\n",
    "\n"
   ]
  },
  {
   "cell_type": "code",
   "execution_count": null,
   "metadata": {
    "deletable": false,
    "editable": false,
    "nbgrader": {
     "checksum": "42652087e3ef821e4fc38454d5622c60",
     "grade": true,
     "grade_id": "cell-7652086039bcee15",
     "locked": true,
     "points": 1,
     "schema_version": 1,
     "solution": false
    }
   },
   "outputs": [],
   "source": [
    "# Question 5, Check 1\n",
    "# 1 point\n",
    "\n",
    "import csv\n",
    "\n",
    "def close_match(a, b):\n",
    "    return round(float(a), 3) == round(float(b), 3)\n",
    "\n",
    "def ride_csv_check1(filename):\n",
    "    with open(filename) as ans:\n",
    "        ans_reader = csv.reader(ans, delimiter=',', quotechar='\"')\n",
    "\n",
    "        header = next(ans_reader)\n",
    "        assert header[0] == 'timestamp', 'incorrect header'\n",
    "        assert header[1] == 'latitude', 'incorrect header'\n",
    "        assert header[2] == 'longitude', 'incorrect header'\n",
    "        assert header[3] == 'distance', 'incorrect header'\n",
    "        assert header[4] == 'altitude', 'incorrect header'\n",
    "        assert header[5] == 'speed', 'incorrect header'\n",
    "\n",
    "        first_line = next(ans_reader)\n",
    "        # checks values to three decimal places\n",
    "        assert close_match(first_line[0], 896018545), 'incorrect value'\n",
    "        assert close_match(first_line[1], 504719750), 'incorrect value'\n",
    "        assert close_match(first_line[2], -998493490), 'incorrect value'\n",
    "        assert close_match(first_line[3], 10.87), 'incorrect value'\n",
    "        assert close_match(first_line[4], 285.79999999999995), 'incorrect value'\n",
    "        assert close_match(first_line[5], 1.773), 'incorrect value'\n",
    "\n",
    "        \n",
    "solution_filename = 'solution05.csv'\n",
    "ride_csv_check1(solution_filename)\n",
    "# There are no hidden autograder tests in this cell."
   ]
  },
  {
   "cell_type": "code",
   "execution_count": null,
   "metadata": {
    "deletable": false,
    "editable": false,
    "nbgrader": {
     "checksum": "affc43604881e259e8218bf47acb2848",
     "grade": true,
     "grade_id": "cell-4f3a777caf2655b5",
     "locked": true,
     "points": 1,
     "schema_version": 1,
     "solution": false
    }
   },
   "outputs": [],
   "source": [
    "# Question 5, Check 2\n",
    "# 1 point\n",
    "\n",
    "# There are hidden tests in this cell to check the solution has the correct number of rows."
   ]
  },
  {
   "cell_type": "code",
   "execution_count": null,
   "metadata": {
    "deletable": false,
    "editable": false,
    "nbgrader": {
     "checksum": "9281dca4e9b53bab7f9fa64b56c2a7cd",
     "grade": true,
     "grade_id": "cell-c179efeff3149eea",
     "locked": true,
     "points": 12,
     "schema_version": 1,
     "solution": false
    }
   },
   "outputs": [],
   "source": [
    "# Question 5, Check 3\n",
    "# 12 points\n",
    "\n",
    "# There are hidden tests in this cell to check the solution has all the correct values for each column."
   ]
  },
  {
   "cell_type": "markdown",
   "metadata": {
    "deletable": false,
    "editable": false,
    "nbgrader": {
     "checksum": "a8cb7494f4b66ec3b4d598048ab45b20",
     "grade": false,
     "grade_id": "cell-0cfa187db77dd00c",
     "locked": true,
     "schema_version": 1,
     "solution": false
    }
   },
   "source": [
    "## Q06 - Python without Pandas\n",
    "\n",
    "Create a new file that matches the format described above:\n",
    "  - The file should be named `solution06.csv`\n",
    "  - Don't use any shell or Jupyter magic commands\n",
    "  - Solve the problem using Python\n",
    "  - You may use the Python standard library (e.g. the built-in [csv](https://docs.python.org/3/library/csv.html) package)\n",
    "  - You may NOT use third-party libraries (e.g. Pandas)"
   ]
  },
  {
   "cell_type": "code",
   "execution_count": null,
   "metadata": {
    "deletable": false,
    "nbgrader": {
     "checksum": "e49cee79dd4560eef0265c25520e200b",
     "grade": false,
     "grade_id": "cell-e53a157e0c081aba",
     "locked": false,
     "schema_version": 1,
     "solution": true
    }
   },
   "outputs": [],
   "source": [
    "# YOUR CODE HERE\n",
    "\n"
   ]
  },
  {
   "cell_type": "code",
   "execution_count": null,
   "metadata": {
    "deletable": false,
    "editable": false,
    "nbgrader": {
     "checksum": "e93b1c7ae41041671ab4e6436bfbac5c",
     "grade": true,
     "grade_id": "cell-q652086039bcee15",
     "locked": true,
     "points": 1,
     "schema_version": 1,
     "solution": false
    }
   },
   "outputs": [],
   "source": [
    "# Question 6, Check 1\n",
    "# 1 point\n",
    "\n",
    "# note that this function is defined in the cell for Question 5, Check 1 above\n",
    "solution_filename = 'solution06.csv'\n",
    "ride_csv_check1(solution_filename)\n",
    "# There are no hidden autograder tests in this cell."
   ]
  },
  {
   "cell_type": "code",
   "execution_count": null,
   "metadata": {
    "deletable": false,
    "editable": false,
    "nbgrader": {
     "checksum": "165ad7540d46a93e1fdf6aad4a3302e1",
     "grade": true,
     "grade_id": "cell-q63a777caf2655b5",
     "locked": true,
     "points": 1,
     "schema_version": 1,
     "solution": false
    }
   },
   "outputs": [],
   "source": [
    "# Question 6, Check 2\n",
    "# 1 point\n",
    "\n",
    "# There are hidden tests in this cell to check the solution has the correct number of rows."
   ]
  },
  {
   "cell_type": "code",
   "execution_count": null,
   "metadata": {
    "deletable": false,
    "editable": false,
    "nbgrader": {
     "checksum": "e7c5d74086b1b01e68d55dea721c7177",
     "grade": true,
     "grade_id": "cell-q679efeff3149eea",
     "locked": true,
     "points": 12,
     "schema_version": 1,
     "solution": false
    }
   },
   "outputs": [],
   "source": [
    "# Question 6, Check 3\n",
    "# 12 points\n",
    "\n",
    "# There are hidden tests in this cell to check the solution has all the correct values for each column."
   ]
  },
  {
   "cell_type": "markdown",
   "metadata": {
    "deletable": false,
    "editable": false,
    "nbgrader": {
     "checksum": "e5a48e520f77c1283e6496732c5d4618",
     "grade": false,
     "grade_id": "cell-d6d34952e5196e7c",
     "locked": true,
     "schema_version": 1,
     "solution": false
    }
   },
   "source": [
    "## Q07 -  Pandas\n",
    "\n",
    "Create a new file that matches the format described above:\n",
    "  - The file should be named `solution07.csv`\n",
    "  - Don't use any shell or Jupyter magic commands\n",
    "  - Solve the problem using functionality provided by the Pandas library in Python"
   ]
  },
  {
   "cell_type": "code",
   "execution_count": null,
   "metadata": {
    "deletable": false,
    "nbgrader": {
     "checksum": "c13da9a53ad81322b12019b08dfb0e01",
     "grade": false,
     "grade_id": "cell-184c965f0270227f",
     "locked": false,
     "schema_version": 1,
     "solution": true
    }
   },
   "outputs": [],
   "source": [
    "import pandas as pd\n",
    "\n",
    "# YOUR CODE HERE\n",
    "\n"
   ]
  },
  {
   "cell_type": "code",
   "execution_count": null,
   "metadata": {
    "deletable": false,
    "editable": false,
    "nbgrader": {
     "checksum": "89cd46f3c2fef4556cae45c7146a67aa",
     "grade": true,
     "grade_id": "cell-q752086039bcee15",
     "locked": true,
     "points": 1,
     "schema_version": 1,
     "solution": false
    }
   },
   "outputs": [],
   "source": [
    "# Question 7, Check 1\n",
    "# 1 point\n",
    "\n",
    "# note that this function is defined in the cell for Question 5, Check 1 above\n",
    "solution_filename = 'solution07.csv'\n",
    "ride_csv_check1(solution_filename)\n",
    "# There are no hidden autograder tests in this cell."
   ]
  },
  {
   "cell_type": "code",
   "execution_count": null,
   "metadata": {
    "deletable": false,
    "editable": false,
    "nbgrader": {
     "checksum": "a0c5e1f23b0ee800c7569259a2c40514",
     "grade": true,
     "grade_id": "cell-q73a777caf2655b5",
     "locked": true,
     "points": 1,
     "schema_version": 1,
     "solution": false
    }
   },
   "outputs": [],
   "source": [
    "# Question 7, Check 2\n",
    "# 1 point\n",
    "\n",
    "# There are hidden tests in this cell to check the solution has the correct number of rows."
   ]
  },
  {
   "cell_type": "code",
   "execution_count": null,
   "metadata": {
    "deletable": false,
    "editable": false,
    "nbgrader": {
     "checksum": "3c293f5b43afbbddbf76e50b43fafac1",
     "grade": true,
     "grade_id": "cell-q779efeff3149eea",
     "locked": true,
     "points": 12,
     "schema_version": 1,
     "solution": false
    }
   },
   "outputs": [],
   "source": [
    "# Question 7, Check 3\n",
    "# 12 points\n",
    "\n",
    "# There are hidden tests in this cell to check the solution has all the correct values for each column."
   ]
  }
 ],
 "metadata": {
  "coursera": {
   "schema_names": [
    "mads_efficient_data_processing_v3_assignment1"
   ]
  },
  "kernelspec": {
   "name": "python391jvsc74a57bd0111ec9d3badd4bdc5bb4c5104c9c1ec48cb8e627cdc8b194469614f2565f7746",
   "display_name": "Python 3.9.1 64-bit"
  },
  "language_info": {
   "codemirror_mode": {
    "name": "ipython",
    "version": 3
   },
   "file_extension": ".py",
   "mimetype": "text/x-python",
   "name": "python",
   "nbconvert_exporter": "python",
   "pygments_lexer": "ipython3",
   "version": "3.9.1"
  },
  "metadata": {
   "interpreter": {
    "hash": "111ec9d3badd4bdc5bb4c5104c9c1ec48cb8e627cdc8b194469614f2565f7746"
   }
  }
 },
 "nbformat": 4,
 "nbformat_minor": 2
}