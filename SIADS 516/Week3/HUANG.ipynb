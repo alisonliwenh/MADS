{
 "cells": [
  {
   "cell_type": "markdown",
   "metadata": {
    "colab_type": "text",
    "id": "8xKUiifPp32x"
   },
   "source": [
    "# SIADS 516: Homework 3\n",
    "Version 2.0.20201020.1\n",
    "### Dr. Chris Teplovs, School of Information, University of Michigan\n",
    "<small><a rel=\"license\" href=\"http://creativecommons.org/licenses/by-nc-sa/4.0/\"><img alt=\"Creative Commons License\" style=\"border-width:0\" src=\"https://i.creativecommons.org/l/by-nc-sa/4.0/88x31.png\" /></a>This work is licensed under a <a rel=\"license\" href=\"http://creativecommons.org/licenses/by-nc-sa/4.0/\">Creative Commons Attribution-NonCommercial-ShareAlike 4.0 International License</a>."
   ]
  },
  {
   "cell_type": "markdown",
   "metadata": {},
   "source": [
    "This homework assignment builds on the Spark DataFrame material we covered in class.\n",
    "You will be using a compressed version of the Yelp Academic Dataset.  The data set is provided for you in the data/yelp-academic sub-folder of this notebook's directory and you should not need to download it again if you're working on the Coursera hosted notebook environment.\n",
    "\n",
    "You might want to refer to the lecture companion notebooks (in workspace-files/resources/lecture_notebooks or equivalently via Coursera as \"Ungraded Lab: Spark Core Demo\" and \"Ungraded Lab: Spark SQL Demo) for hints about libraries to import, how to set up a SparkSession, and how to read data files.\n",
    "\n",
    "You will notice that there are a **lot** of reviews.  You might want to work off a small sample (i.e. use the sample() function in Spark) to work on a reduced size dataset while you're developing your solution.\n",
    "\n",
    "**You should take care to document your work, preferably using markdown blocks. In-code commenting is also \n",
    "a good idea.**"
   ]
  },
  {
   "cell_type": "code",
   "execution_count": 10,
   "metadata": {},
   "outputs": [],
   "source": [
    "import pyspark.sql.functions as F\n",
    "from pyspark.sql import SparkSession"
   ]
  },
  {
   "cell_type": "markdown",
   "metadata": {},
   "source": [
    "### <font color=\"magenta\">Q1: How many users have received more than 5000 cool votes?</font>"
   ]
  },
  {
   "cell_type": "code",
   "execution_count": 11,
   "metadata": {},
   "outputs": [
    {
     "data": {
      "text/plain": [
       "79"
      ]
     },
     "execution_count": 11,
     "metadata": {},
     "output_type": "execute_result"
    }
   ],
   "source": [
    "# insert your code here\n",
    "spark = SparkSession.builder.master(\"local[*]\").appName(\"Homework3\").getOrCreate()\n",
    "user = spark.read.json(\"../non_auto_assignments/data/yelp_academic/yelp_academic_dataset_user.json.gz\")\n",
    "user.filter(user[\"compliment_cool\"] > 5000).count()"
   ]
  },
  {
   "cell_type": "markdown",
   "metadata": {},
   "source": [
    "There are 79 users have received more than 5,000 cool votes."
   ]
  },
  {
   "cell_type": "markdown",
   "metadata": {},
   "source": [
    "### <font color=\"magenta\">Q2: What are the top 10 most useful positive reviews?</font>"
   ]
  },
  {
   "cell_type": "code",
   "execution_count": 12,
   "metadata": {},
   "outputs": [
    {
     "data": {
      "text/plain": [
       "[Row(business_id='t-o_Sraneime4DDhWrQRBA', useful=358, stars=5.0),\n",
       " Row(business_id='6Suj9mb9565xjAKHMXJLmw', useful=278, stars=5.0),\n",
       " Row(business_id='JLbgvGM4FXh9zNP4O5ZWjQ', useful=244, stars=4.0),\n",
       " Row(business_id='IapQwLdAwztQYN99pQui3w', useful=241, stars=5.0),\n",
       " Row(business_id='DkYS3arLOhA8si5uUEmHOw', useful=235, stars=4.0),\n",
       " Row(business_id='_5PJ4GHIXNdUdXtohylKGQ', useful=229, stars=4.0),\n",
       " Row(business_id='Cf0iV72DTqR0ggBje2d0sg', useful=218, stars=4.0),\n",
       " Row(business_id='u4sTiCzVeIHZY8OlaL346Q', useful=218, stars=4.0),\n",
       " Row(business_id='77h11eWv6HKJAgojLx8G4w', useful=215, stars=4.0),\n",
       " Row(business_id='Ka00H3EHLLiPNpMj1V4Hcw', useful=215, stars=5.0)]"
      ]
     },
     "execution_count": 12,
     "metadata": {},
     "output_type": "execute_result"
    }
   ],
   "source": [
    "# insert your code here\n",
    "review = spark.read.json(\"../non_auto_assignments/data/yelp_academic/yelp_academic_dataset_review.json.gz\")\n",
    "positive_review = review.filter(review[\"stars\"] >= 4)\n",
    "positive_review.sort(\"useful\", ascending = False).select(\"business_id\", \"useful\", \"stars\").take(10)"
   ]
  },
  {
   "cell_type": "markdown",
   "metadata": {},
   "source": [
    "Insert your interpretation here."
   ]
  },
  {
   "cell_type": "markdown",
   "metadata": {},
   "source": [
    "### <font color=\"magenta\">Q3: During what hour of the day do most checkins occur?</font>"
   ]
  },
  {
   "cell_type": "code",
   "execution_count": 14,
   "metadata": {},
   "outputs": [
    {
     "name": "stdout",
     "output_type": "stream",
     "text": [
      "root\n",
      " |-- business_id: string (nullable = true)\n",
      " |-- date: string (nullable = true)\n",
      "\n"
     ]
    }
   ],
   "source": [
    "# insert your code here\n",
    "checkin = spark.read.json(\"../non_auto_assignments/data/yelp_academic/yelp_academic_dataset_checkin.json.gz\")\n",
    "checkin.printSchema()"
   ]
  },
  {
   "cell_type": "code",
   "execution_count": 16,
   "metadata": {},
   "outputs": [
    {
     "name": "stdout",
     "output_type": "stream",
     "text": [
      "+--------------------+\n",
      "|                date|\n",
      "+--------------------+\n",
      "|2016-04-26 19:49:...|\n",
      "|2011-06-04 18:22:...|\n",
      "|2014-12-29 19:25:...|\n",
      "| 2016-07-08 16:43:30|\n",
      "|2010-06-26 17:39:...|\n",
      "+--------------------+\n",
      "only showing top 5 rows\n",
      "\n"
     ]
    }
   ],
   "source": [
    "checkin.select(\"date\").show(5)"
   ]
  },
  {
   "cell_type": "code",
   "execution_count": 17,
   "metadata": {},
   "outputs": [],
   "source": [
    "checkin_split_date = checkin.withColumn(\"date_only\", F.split(F.col(\"date\"), \" \").getItem(0)).withColumn(\"time_only\", F.split(F.col(\"date\"), \" \").getItem(1))"
   ]
  },
  {
   "cell_type": "code",
   "execution_count": 19,
   "metadata": {},
   "outputs": [
    {
     "name": "stdout",
     "output_type": "stream",
     "text": [
      "+--------------------+--------------------+----------+---------+\n",
      "|         business_id|                date| date_only|time_only|\n",
      "+--------------------+--------------------+----------+---------+\n",
      "|--1UhMGODdWsrMast...|2016-04-26 19:49:...|2016-04-26|19:49:16,|\n",
      "|--6MefnULPED_I942...|2011-06-04 18:22:...|2011-06-04|18:22:23,|\n",
      "|--7zmmkVg-IMGaXbu...|2014-12-29 19:25:...|2014-12-29|19:25:50,|\n",
      "|--8LPVSo5i0Oo61X0...| 2016-07-08 16:43:30|2016-07-08| 16:43:30|\n",
      "|--9QQLMTbFzLJ_oT-...|2010-06-26 17:39:...|2010-06-26|17:39:07,|\n",
      "+--------------------+--------------------+----------+---------+\n",
      "only showing top 5 rows\n",
      "\n"
     ]
    }
   ],
   "source": [
    "checkin_split_date.show(5)"
   ]
  },
  {
   "cell_type": "code",
   "execution_count": 20,
   "metadata": {},
   "outputs": [
    {
     "name": "stdout",
     "output_type": "stream",
     "text": [
      "+---------+--------+\n",
      "|time_only|    time|\n",
      "+---------+--------+\n",
      "|19:49:16,|19:49:16|\n",
      "|18:22:23,|18:22:23|\n",
      "|19:25:50,|19:25:50|\n",
      "| 16:43:30|16:43:30|\n",
      "|17:39:07,|17:39:07|\n",
      "+---------+--------+\n",
      "only showing top 5 rows\n",
      "\n"
     ]
    }
   ],
   "source": [
    "# Remove \"date_only\" column\n",
    "checkin_split_date = checkin_split_date.select(\"time_only\", F.regexp_replace(F.col(\"time_only\"), \"[\\$#,]\", \"\").alias(\"time\"))\n",
    "checkin_split_date.show(5)"
   ]
  },
  {
   "cell_type": "code",
   "execution_count": 21,
   "metadata": {},
   "outputs": [
    {
     "name": "stdout",
     "output_type": "stream",
     "text": [
      "+---------+--------+\n",
      "|time_only|    time|\n",
      "+---------+--------+\n",
      "|       19|19:49:16|\n",
      "|       18|18:22:23|\n",
      "|       19|19:25:50|\n",
      "|       16|16:43:30|\n",
      "|       17|17:39:07|\n",
      "+---------+--------+\n",
      "only showing top 5 rows\n",
      "\n"
     ]
    }
   ],
   "source": [
    "checkin_split_date = checkin_split_date.withColumn(\"time_only\", F.hour(\"time\"))\n",
    "checkin_split_date.show(5)"
   ]
  },
  {
   "cell_type": "code",
   "execution_count": 22,
   "metadata": {},
   "outputs": [
    {
     "name": "stdout",
     "output_type": "stream",
     "text": [
      "+---------+-----+\n",
      "|time_only|count|\n",
      "+---------+-----+\n",
      "|       19|13481|\n",
      "|       23|13207|\n",
      "|       22|13191|\n",
      "|       18|13177|\n",
      "|       21|12960|\n",
      "+---------+-----+\n",
      "only showing top 5 rows\n",
      "\n"
     ]
    }
   ],
   "source": [
    "checkin_split_date.groupBy(\"time_only\").count().sort(\"count\", ascending = False).show(5)"
   ]
  },
  {
   "cell_type": "markdown",
   "metadata": {},
   "source": [
    "19:00 is the most common time that customers are checking in to business."
   ]
  },
  {
   "cell_type": "markdown",
   "metadata": {},
   "source": [
    "### <font color=\"magenta\">Q4: Sentiment analysis</font>\n",
    "\n",
    "a. List the 50 most common non-stopword words that are unique to *positive* reviews.\n",
    "\n",
    "b. List the 50 most common non-stopword words that are unique to *negative* reviews.\n",
    "\n",
    "You can use the stopword list that was introduced in the lecture materials or you can \n",
    "find/devise one of your own.\n",
    "\n",
    "You will need to define what constitutes a positive review and what constitutes a negative review.  We highly recommend that you use the number of stars to figure this out.  Be sure to provide a rationale for your choice"
   ]
  },
  {
   "cell_type": "markdown",
   "metadata": {},
   "source": [
    "As an example, consider the following two reviews:\n",
    "\n",
    "* Positive: The meal was great, and the service was the best we ever experienced.\n",
    "* Negative: The meal was awful.  It was the worst thing we ever experienced.\n",
    "\n",
    "Assume our stopwords are {'the','was','and','the','was','we','it'}\n",
    "\n",
    "* Positive unique: {'great', 'service', 'best'}\n",
    "\n",
    "* Negative unique: {'awful', 'worst', 'thing'}\n",
    "\n",
    "In this example, each unique word occurs just once, so the concept of \"top 50\" doesn't make sense.  For your data, you'll need to count the number of times each unique word occurs."
   ]
  },
  {
   "cell_type": "code",
   "execution_count": 34,
   "metadata": {},
   "outputs": [],
   "source": [
    "# stopwords are from nltk\n",
    "# import nltk\n",
    "# from nltk.corpus import stopwords\n",
    "# print(stopwords.words('english'))\n",
    "stopwords_lower = ['i', 'me', 'my', 'myself', 'we', 'our', 'ours', 'ourselves', 'you', \"you're\", \"you've\", \"you'll\", \"you'd\", 'your', 'yours', 'yourself', 'yourselves', 'he', 'him', 'his', 'himself', 'she', \"she's\", 'her', 'hers', 'herself', 'it', \"it's\", 'its', 'itself', 'they', 'them', 'their', 'theirs', 'themselves', 'what', 'which', 'who', 'whom', 'this', 'that', \"that'll\", 'these', 'those', 'am', 'is', 'are', 'was', 'were', 'be', 'been', 'being', 'have', 'has', 'had', 'having', 'do', 'does', 'did', 'doing', 'a', 'an', 'the', 'and', 'but', 'if', 'or', 'because', 'as', 'until', 'while', 'of', 'at', 'by', 'for', 'with', 'about', 'against', 'between', 'into', 'through', 'during', 'before', 'after', 'above', 'below', 'to', 'from', 'up', 'down', 'in', 'out', 'on', 'off', 'over', 'under', 'again', 'further', 'then', 'once', 'here', 'there', 'when', 'where', 'why', 'how', 'all', 'any', 'both', 'each', 'few', 'more', 'most', 'other', 'some', 'such', 'no', 'nor', 'not', 'only', 'own', 'same', 'so', 'than', 'too', 'very', 's', 't', 'can', 'will', 'just', 'don', \"don't\", 'should', \"should've\", 'now', 'd', 'll', 'm', 'o', 're', 've', 'y', 'ain', 'aren', \"aren't\", 'couldn', \"couldn't\", 'didn', \"didn't\", 'doesn', \"doesn't\", 'hadn', \"hadn't\", 'hasn', \"hasn't\", 'haven', \"haven't\", 'isn', \"isn't\", 'ma', 'mightn', \"mightn't\", 'mustn', \"mustn't\", 'needn', \"needn't\", 'shan', \"shan't\", 'shouldn', \"shouldn't\", 'wasn', \"wasn't\", 'weren', \"weren't\", 'won', \"won't\", 'wouldn', \"wouldn't\"]\n",
    "stopwords_upper = [word.title() for word in stopwords_lower]"
   ]
  },
  {
   "cell_type": "code",
   "execution_count": 24,
   "metadata": {},
   "outputs": [],
   "source": [
    "import re"
   ]
  },
  {
   "cell_type": "code",
   "execution_count": 25,
   "metadata": {},
   "outputs": [
    {
     "name": "stdout",
     "output_type": "stream",
     "text": [
      "+----+--------+\n",
      "|word|   count|\n",
      "+----+--------+\n",
      "| the|17081648|\n",
      "| and|15682454|\n",
      "|   a|10814177|\n",
      "|   I| 9855342|\n",
      "|  to| 9514746|\n",
      "+----+--------+\n",
      "only showing top 5 rows\n",
      "\n"
     ]
    }
   ],
   "source": [
    "# insert your code here\n",
    "negative = review.filter(review[\"stars\"] <= 2)\n",
    "\n",
    "positive_count = positive_review.withColumn(\"word\", F.explode(F.split(F.col(\"text\"), \" \"))).groupBy(\"word\").count().sort(\"count\", ascending = False)\n",
    "positive_count.show(5)"
   ]
  },
  {
   "cell_type": "code",
   "execution_count": 26,
   "metadata": {},
   "outputs": [
    {
     "name": "stdout",
     "output_type": "stream",
     "text": [
      "+----+-------+\n",
      "|word|  count|\n",
      "+----+-------+\n",
      "| the|8977366|\n",
      "| and|6548915|\n",
      "|  to|6265941|\n",
      "|   I|5927100|\n",
      "|   a|4843924|\n",
      "+----+-------+\n",
      "only showing top 5 rows\n",
      "\n"
     ]
    }
   ],
   "source": [
    "negative_count = negative.withColumn(\"word\", F.explode(F.split(F.col(\"text\"), \" \"))).groupBy(\"word\").count().sort(\"count\", ascending = False)\n",
    "negative_count.show(5)       "
   ]
  },
  {
   "cell_type": "code",
   "execution_count": 35,
   "metadata": {},
   "outputs": [],
   "source": [
    "# Filter out the stopwords\n",
    "positive_count = positive_count.filter(~F.col(\"word\").isin(stopwords_lower))\n",
    "positive_count = positive_count.filter(~F.col(\"word\").isin(stopwords_upper))\n",
    "negative_count = negative_count.filter(~F.col(\"word\").isin(stopwords_lower))\n",
    "negative_count = negative_count.filter(~F.col(\"word\").isin(stopwords_upper))"
   ]
  },
  {
   "cell_type": "code",
   "execution_count": 38,
   "metadata": {},
   "outputs": [
    {
     "name": "stdout",
     "output_type": "stream",
     "text": [
      "+----------+-------+\n",
      "|      word|  count|\n",
      "+----------+-------+\n",
      "|          |6764732|\n",
      "|     place|1605893|\n",
      "|     great|1451596|\n",
      "|      food|1299393|\n",
      "|      good|1276963|\n",
      "|      like|1182229|\n",
      "|       get|1129261|\n",
      "|    really| 974964|\n",
      "|      time| 974529|\n",
      "|       one| 953405|\n",
      "|     would| 907892|\n",
      "|        go| 855561|\n",
      "|      also| 807717|\n",
      "|   service| 803057|\n",
      "|      back| 799836|\n",
      "|    always| 773386|\n",
      "|      best| 688929|\n",
      "|         -| 679102|\n",
      "|      I've| 670023|\n",
      "|       got| 658937|\n",
      "|      love| 639154|\n",
      "|definitely| 620542|\n",
      "|      nice| 602586|\n",
      "|    little| 596287|\n",
      "|       I'm| 592725|\n",
      "|        us| 552984|\n",
      "|      even| 551470|\n",
      "|     staff| 531615|\n",
      "| recommend| 519607|\n",
      "|      come| 515932|\n",
      "|       try| 507643|\n",
      "|      made| 502427|\n",
      "|  friendly| 486263|\n",
      "|      came| 479101|\n",
      "|   ordered| 472642|\n",
      "|     first| 467846|\n",
      "|      make| 467165|\n",
      "|     Great| 445766|\n",
      "|      much| 440341|\n",
      "|         &| 439775|\n",
      "|     could| 428251|\n",
      "|       it.| 414699|\n",
      "|      went| 414570|\n",
      "|    pretty| 409164|\n",
      "|      well| 408646|\n",
      "|      It's| 404978|\n",
      "|     never| 401534|\n",
      "|     going| 399888|\n",
      "|restaurant| 389870|\n",
      "|       new| 388736|\n",
      "|   chicken| 385643|\n",
      "+----------+-------+\n",
      "only showing top 51 rows\n",
      "\n"
     ]
    }
   ],
   "source": [
    "positive_count.show(51)"
   ]
  },
  {
   "cell_type": "code",
   "execution_count": 39,
   "metadata": {},
   "outputs": [
    {
     "name": "stdout",
     "output_type": "stream",
     "text": [
      "+--------+-------+\n",
      "|    word|  count|\n",
      "+--------+-------+\n",
      "|        |3302776|\n",
      "|   would| 722748|\n",
      "|     get| 717371|\n",
      "|    like| 654595|\n",
      "|    food| 601845|\n",
      "|     one| 582545|\n",
      "|   place| 560382|\n",
      "|    time| 511689|\n",
      "|    back| 495797|\n",
      "|    even| 467004|\n",
      "|      go| 451549|\n",
      "| service| 449509|\n",
      "|    said| 438981|\n",
      "|    told| 438074|\n",
      "|      us| 437888|\n",
      "|     got| 409855|\n",
      "|   never| 383058|\n",
      "|    good| 362548|\n",
      "|   could| 356440|\n",
      "|   asked| 348414|\n",
      "|    came| 334808|\n",
      "|    went| 307779|\n",
      "|  really| 305235|\n",
      "| ordered| 294755|\n",
      "|   order| 294234|\n",
      "|     I'm| 282640|\n",
      "|   going| 280400|\n",
      "|  people| 270699|\n",
      "| minutes| 268319|\n",
      "|    know| 257905|\n",
      "|       -| 253441|\n",
      "|    come| 250879|\n",
      "| another| 248271|\n",
      "|    took| 241361|\n",
      "|    give| 237340|\n",
      "|     it.| 235939|\n",
      "|    take| 234470|\n",
      "|    make| 233882|\n",
      "|       2| 230535|\n",
      "|     two| 229880|\n",
      "|   first| 227559|\n",
      "|customer| 222354|\n",
      "|   still| 221491|\n",
      "|  called| 218973|\n",
      "|    much| 217976|\n",
      "|    want| 217446|\n",
      "|    also| 205934|\n",
      "|    I've| 205285|\n",
      "|     way| 196840|\n",
      "|    made| 193129|\n",
      "|  better| 189868|\n",
      "+--------+-------+\n",
      "only showing top 51 rows\n",
      "\n"
     ]
    }
   ],
   "source": [
    "negative_count.show(51)"
   ]
  },
  {
   "cell_type": "markdown",
   "metadata": {},
   "source": [
    "Insert your interpretation here."
   ]
  },
  {
   "cell_type": "code",
   "execution_count": null,
   "metadata": {},
   "outputs": [],
   "source": []
  }
 ],
 "metadata": {
  "kernelspec": {
   "display_name": "Python 3",
   "language": "python",
   "name": "python3"
  },
  "language_info": {
   "codemirror_mode": {
    "name": "ipython",
    "version": 3
   },
   "file_extension": ".py",
   "mimetype": "text/x-python",
   "name": "python",
   "nbconvert_exporter": "python",
   "pygments_lexer": "ipython3",
   "version": "3.7.3"
  }
 },
 "nbformat": 4,
 "nbformat_minor": 2
}
